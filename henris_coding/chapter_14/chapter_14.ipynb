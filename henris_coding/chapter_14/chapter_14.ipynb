{
 "cells": [
  {
   "cell_type": "code",
   "execution_count": 1,
   "metadata": {},
   "outputs": [],
   "source": [
    "%matplotlib inline"
   ]
  },
  {
   "cell_type": "markdown",
   "metadata": {},
   "source": [
    "# 14:  Going Deeper---The Mechanics of TensorFlow\n",
    "\n",
    "In this chapter, we will now shift our focus squarely on to TensorFlow itself, and explore in detail the impressive mechanics and features that TensorFlow offers:\n",
    "\n",
    "* Key features and advantages of TensorFlow\n",
    "* TensorFlow ranks and tensors\n",
    "* Understanding and working with TensorFlow graphs\n",
    "* Working with TensorFlow variables\n",
    "* TensorFlow operations with different scopes\n",
    "* Common tensor transformations: working with ranks, shapes and types\n",
    "* Transforming tensors as multi-dimensional arrays\n",
    "* Saving and restoring a model in TensorFlow\n",
    "* Visualising neural network graphs with TensorBoard\n",
    "\n",
    "We will stay hands-on in this chapter, of course, and implement graphs throughout the chapter to explore the main TensorFlow features and concepts.  Along the way, we will also revisit a regression model, explore neural network graph visualisation with TensorBoard, and suggest some ways that you could explore visualising more of the graphs that you'll make through this chapter."
   ]
  },
  {
   "cell_type": "markdown",
   "metadata": {},
   "source": [
    "## TensorFlow ranks and tensors\n",
    "\n",
    "Tensors are a generalizable mathematical notation for multi-dimensional arrays holding data values, where the dimensionality of a tensor is typically referred as its rank.\n",
    "\n",
    "To make the concept of a **tensor** more intuitive, consider the following figure, which represents tensors of rank 0 and 1 in the first row, and tensors of ranks 2 and 3 in the second row:\n",
    "\n",
    "<img src=\"images/14_01.png\" style=\"width:500px\">"
   ]
  },
  {
   "cell_type": "markdown",
   "metadata": {},
   "source": [
    "## How to get the rank and shape of a tensor\n",
    "\n",
    "`tf.rank` will get the rank of a tensor.  It will return a tensor as output.\n",
    "\n",
    "If `X` is a tensor, we can get its shape by using `X.get_shape()`, which will return an object of a special class called `TensorShape`.\n",
    "\n",
    "If we want to index of slice different elements of this object, then we can convert it into a Python list, using the `as_list` method of the tensor class.\n",
    "\n",
    "The following code example illustrates how to retrieve the rank and shape of the tensor in a TensorFlow session."
   ]
  },
  {
   "cell_type": "code",
   "execution_count": 2,
   "metadata": {},
   "outputs": [
    {
     "name": "stdout",
     "output_type": "stream",
     "text": [
      "Shapes:\n",
      "()\n",
      "(4,)\n",
      "(2, 2).\n",
      "\n",
      "Ranks:\n",
      "0\n",
      "1\n",
      "2.\n"
     ]
    }
   ],
   "source": [
    "import tensorflow as tf\n",
    "import numpy as np\n",
    "\n",
    "g = tf.Graph()\n",
    "\n",
    "# define the computation graph\n",
    "with g.as_default():\n",
    "    # define the tensors t1, t2, and t3\n",
    "    t1 = tf.constant(np.pi)\n",
    "    t2 = tf.constant([1, 2, 3, 4])\n",
    "    t3 = tf.constant([[1, 2], [3, 4]])\n",
    "    \n",
    "    # get the ranks of the tensors t1, t2, and t3\n",
    "    r1 = tf.rank(t1)\n",
    "    r2 = tf.rank(t2)\n",
    "    r3 = tf.rank(t3)\n",
    "    # See the following `with` context to see the evaluation of the different r values.\n",
    "    \n",
    "    # Get the shapes of the tensors t1, t2, and t3\n",
    "    s1 = t1.get_shape()\n",
    "    s2 = t2.get_shape()\n",
    "    s3 = t3.get_shape()\n",
    "    print(\"Shapes:\\n{}\\n{}\\n{}.\\n\".format(s1, s2, s3))\n",
    "\n",
    "with tf.Session(graph=g) as sess:\n",
    "    print(\"Ranks:\\n{}\\n{}\\n{}.\".format(r1.eval(), r2.eval(), r3.eval()))"
   ]
  },
  {
   "cell_type": "markdown",
   "metadata": {},
   "source": [
    "As we can see, the rank of the `t1` tensor is 0 since it is just a scalar (corresponding to the () shape).\n",
    "The rank of the `t2` vector is 1, and since it has four elements, its shape is the on-element tuple `(4,)`.\n",
    "Lastly, the rank of the `2x2` matrix is 3, and its corresponding shape is given by the (2, 2) tuple."
   ]
  },
  {
   "cell_type": "markdown",
   "metadata": {},
   "source": [
    "TensorFlow relies on building a computation graph at its core, and it uses this computation graph to derive relationships between tensors from the input all the way to the output.\n",
    "<img src=\"images/14_02.png\" style=\"width:500px\">\n",
    "\n",
    "As we can see in the above image, a computation graph is simply a network of nodes.  Each node resembles an operation, which applies a function to its input tensor or tensors and returns zero or more tensors as the output.\n",
    "\n",
    "The individual steps for building and compiling such a computation graph in TensorFlow are as follows:\n",
    "1. Instantiate a new, empty computation graph.\n",
    "2. Add nodes (tensors and oeprations) to the computation graph.\n",
    "3. Execute the graph:\n",
    "    - Start a new Session.\n",
    "    - Initialize the variables in the graph.\n",
    "    - Run the computation graph in this session.\n",
    "\n",
    "A graph can be created by calling `tf.Graph()`, and then the nodes can be added as follows:"
   ]
  },
  {
   "cell_type": "code",
   "execution_count": 3,
   "metadata": {},
   "outputs": [],
   "source": [
    "g = tf.Graph()\n",
    "\n",
    "with g.as_default():\n",
    "    a = tf.constant(1, name='a')\n",
    "    b = tf.constant(2, name='b')\n",
    "    c = tf.constant(3, name='c')\n",
    "    \n",
    "    z = 2*(a-b) + c"
   ]
  },
  {
   "cell_type": "markdown",
   "metadata": {},
   "source": [
    "In this code, we added nodes to the graph `g` using `with g.as_default()`.\n",
    "\n",
    "A TensorFlow session is an environment in which the operations and tensors of a grap can be executed.  A session object created by calling `tf.Session` that can receive an existing graph (here, `g`) as an argument, as in `tf.Session(graph=g)`.\n",
    "\n",
    "After launching a graph in a TensorFlow session, we can execute its nodes; that is, evaluating its tensors or executings its operators.  Evaluating each individual tensor involves calling its `eval` method inside the current session.  When evaluating a specific tensor in the graph, TensorFlow has to execute all the preceding nodes in the graph until it reaches that particular one.  In case there are one or more placeholders, they would need to be fed.\n",
    "\n",
    "Quite similarly, executing operations can be done using a session's `run` method.  There is also a universal way of running both tensors and operators:  `tf.Session().run()`.  Using this method, multiple tensors and operators can be placed in a list or tuple.  As a result, `tf.Session().run()` will return a list or tuple of the same size.\n",
    "\n",
    "Here, we will launch the previous graph in a TensorFlow session and evaluate the tensor `z` as follows:"
   ]
  },
  {
   "cell_type": "code",
   "execution_count": 4,
   "metadata": {},
   "outputs": [
    {
     "name": "stdout",
     "output_type": "stream",
     "text": [
      "2*(a-b)+c ==> 1.\n"
     ]
    }
   ],
   "source": [
    "with tf.Session(graph=g) as sess:\n",
    "    print(\"2*(a-b)+c ==> {}.\".format(sess.run(z)))"
   ]
  },
  {
   "cell_type": "markdown",
   "metadata": {},
   "source": [
    "Remember that we define tensors and operations in a computation graph context within TensorFlow.  A TensorFlow session is then used to execute the operations in the graph and fetch and evaluate the results.\n",
    "\n",
    "Moving on, we will take a deeper look into the different types of nodes that can appear in a computation graph, including placeholders and variables.  Along the way, we will see some other operators that do not return a tensor as the output."
   ]
  },
  {
   "cell_type": "markdown",
   "metadata": {},
   "source": [
    "## Placeholders in TensorFlow\n",
    "\n",
    "Placeholders are predefined tensors with specific types and shapes.\n",
    "\n",
    "These tensors are added to the computation graph using the `tf.placeholder` function, and they do not contain any data.  However, upon the execution of certain nodes in the graph, these placeholders need to be fed with data arrays.\n",
    "\n",
    "In the following sections, we will see how to define placeholders in a graph and how to feed them with data values upon execution.\n",
    "\n",
    "## Defining Placeholders\n",
    "\n",
    "When we defie placeholders, we need to decide what their shape and type should be, according to the shape and type of the data that will be fed through them upon execution.\n",
    "\n",
    "Time for an example:  \n",
    "Here we will define the same graph that was shown in the previous section for evaluating $z = 2\\times (a-b) + c$.  This time, however, we use placeholders for the scalars $a$, $b$, and $c$.  Also, we store the intermediate tensors associated with $r_1$ and $r_2$, as follows:"
   ]
  },
  {
   "cell_type": "code",
   "execution_count": 5,
   "metadata": {},
   "outputs": [],
   "source": [
    "import tensorflow as tf\n",
    "\n",
    "g = tf.Graph()\n",
    "\n",
    "with g.as_default():\n",
    "    tf_a = tf.placeholder(tf.int32, shape=[], name='tf_a')\n",
    "    tf_b = tf.placeholder(tf.int32, shape=[], name='tf_b')\n",
    "    tf_c = tf.placeholder(tf.int32, shape=[], name='tf_c')\n",
    "    \n",
    "    r1 = tf_a - tf_b\n",
    "    r2 = 2*r1\n",
    "    z = r2 + tf_c"
   ]
  },
  {
   "cell_type": "markdown",
   "metadata": {},
   "source": [
    "Notice how we set the shapes via `shape=[]` since they are scalars (tensors of rand 0).  In the current book, we always precede the placeholder ojects with `tf_` for clarity and to be able to distinguish them from other tensors.\n",
    "\n",
    "It is also very straightforward to define placeholders of higher dimensions: for example, a rank 3 placeholder of type `float` and shape `3x4x5` can be defined as `tf.placeholder(dtype=tf.float32, shape=[3, 4, 5])`."
   ]
  },
  {
   "cell_type": "markdown",
   "metadata": {},
   "source": [
    "## Feeding placeholders with data\n",
    "\n",
    "When we execute a node in the graph, we need to create a Python dictionary to feed the values of placeholders with data arrays.  This dictionary is passed as the input argument `feed_dict` to a session's `run` method.\n",
    "\n",
    "In the previous graph, we added three placeholders of the type `tf.int32` to feed scalrs for compuring `z`.  Now, in order to evaluate the results tensor `z`, we can feed arbitrary integer values (here `1`, `2`, and `3`) to the placeholders as follows:"
   ]
  },
  {
   "cell_type": "code",
   "execution_count": 6,
   "metadata": {},
   "outputs": [
    {
     "name": "stdout",
     "output_type": "stream",
     "text": [
      "z: 1.\n"
     ]
    }
   ],
   "source": [
    "with tf.Session(graph=g) as sess:\n",
    "    feed = {tf_a: 1,\n",
    "           tf_b: 2,\n",
    "           tf_c: 3}\n",
    "    print('z: {}.'.format(sess.run(z, feed_dict=feed)))"
   ]
  },
  {
   "cell_type": "markdown",
   "metadata": {},
   "source": [
    "## Defining placeholders for data arrays with varying batchsizes.\n",
    "\n",
    "Sometimes, when we are developing a neural network model, we may deal with mini-batches of data that have different sizes.\n",
    "\n",
    "A useful feature of placeholders is that we can specify `None` for the dimension that is varying in size.  For example, we can create a placeholder of rank 2, where the first dimension is unknown (or may vary), as shown here:"
   ]
  },
  {
   "cell_type": "code",
   "execution_count": 7,
   "metadata": {},
   "outputs": [],
   "source": [
    "import tensorflow as tf\n",
    "\n",
    "g = tf.Graph()\n",
    "\n",
    "with g.as_default():\n",
    "    tf_x = tf.placeholder(tf.float32, shape=[None, 2], name='tf_x')\n",
    "    x_mean = tf.reduce_mean(tf_x, axis=0, name='mean')"
   ]
  },
  {
   "cell_type": "markdown",
   "metadata": {},
   "source": [
    "Then we can evaluate `x_mean` with two different inputs, namely `x1` and `x2`, which are NumPy arrays of shape `(5, 2)` and `(10, 2)`, as follows:"
   ]
  },
  {
   "cell_type": "code",
   "execution_count": 8,
   "metadata": {},
   "outputs": [
    {
     "name": "stdout",
     "output_type": "stream",
     "text": [
      "Feeding data with shape: (5, 2).\n",
      "Result: [0.62 0.47].\n",
      "\n",
      "Feeding data with shape: (10, 2).\n",
      "Result: [0.46 0.49].\n"
     ]
    }
   ],
   "source": [
    "import numpy as np\n",
    "\n",
    "np.random.seed(123)\n",
    "np.set_printoptions(precision=2)\n",
    "\n",
    "with tf.Session(graph=g) as sess:\n",
    "    x1 = np.random.uniform(low=0, high=1, size=(5,2))\n",
    "    print('Feeding data with shape: {}.'.format(x1.shape))\n",
    "    print('Result: {}.'.format(sess.run(x_mean, feed_dict={tf_x: x1})))\n",
    "    \n",
    "    x2 = np.random.uniform(low=0, high=1, size=(10,2))\n",
    "    print('\\nFeeding data with shape: {}.'.format(x2.shape))\n",
    "    print('Result: {}.'.format(sess.run(x_mean, feed_dict={tf_x: x2})))"
   ]
  },
  {
   "cell_type": "markdown",
   "metadata": {},
   "source": [
    "## Variables in TensorFlow\n",
    "\n",
    "In the context of TensorFlow, variables are a special type of tensor object that allows us to store and update the parameters of our models in a TensorFlow session during training.  The following sections explain how we can:\n",
    "1. define variables in a graph,\n",
    "2. initialize those variables in a session,\n",
    "3. organise variables via the so-called variable scope,\n",
    "4. and re-use existing variables.\n",
    "\n",
    "TensorFlow variables store the parameters of a model that can be updated during training, for example, the weights in the input, hidden, and output layers of a neural network.  When we define a variable, we need to initalize it with a tensor of values.\n",
    "\n",
    "TensorFlow provides two ways for defining variables:\n",
    "1. `tf.Variable(<initial-value>, name=\"variable-name\")`\n",
    "2. `tf.get_variable(name, ...)`\n",
    "\n",
    "The first one, `tf.Variable`, is a class that creates an object for a new variable and adds it to the graph.  Note that `tf.Variable` does not have an explicit way to determine `shape` and `dtype`; the shape and type are set to be the same as those of the initial values.\n",
    "\n",
    "The second option, `tf.get_variable`, can be used to reuse an existing variable with a given name (if the name exists in the graph), or to create a new one if the name does not exist.  Furthermore, `tf.get_variable` provides an explicit way to set `shape` and `dtype`; these parameters are only required when creating a new variable, not reusing existing ones.\n",
    "\n",
    "The advantage of `tf.get_variable` over `tf.Variable` is two-fold:\n",
    "1. `tf.get_variable` allows us to reuse existing variables.\n",
    "2. secondly, it already uses the popular Xavier/Glorot initialization scheme by default.\n",
    "\n",
    "Besides the initializer, the `get_variable` function provides other parameters to control the tensor, such as adding a regularizer for the variable.  If you are interested in learning more about these parameters, feel free to read the documentation of `tf.get_variable` at <https://www.tensorflow.org/api_docs/python/tf/get_variable>."
   ]
  },
  {
   "cell_type": "markdown",
   "metadata": {},
   "source": [
    "### Xavier (or Glorot) initialisation\n",
    "\n",
    "The general idea behind Xavier initialization is to roughly balance the variance of the gradients across the different layers.  Otherwise, one layer may get too much attention during training while the other layer lags behind."
   ]
  },
  {
   "cell_type": "markdown",
   "metadata": {},
   "source": [
    "In either initialization technique, it is important to note that the initial vales are not set until we launch the graph in `tf.Session` and explicity run the initializer operator in that session.\n",
    "\n",
    "Here is an example of creating a variable object where the initial values are created from a NumPy array.  The `dtype` data type of this tensor is `tf.int64`, which is automatically inferred from its NumPy array input:"
   ]
  },
  {
   "cell_type": "code",
   "execution_count": 9,
   "metadata": {},
   "outputs": [
    {
     "name": "stdout",
     "output_type": "stream",
     "text": [
      "<tf.Variable 'w:0' shape=(2, 4) dtype=int64_ref>\n"
     ]
    }
   ],
   "source": [
    "import tensorflow as tf\n",
    "import numpy as np\n",
    "\n",
    "g1 = tf.Graph()\n",
    "\n",
    "with g1.as_default():\n",
    "    w = tf.Variable(np.array([[1, 2, 3, 4],\n",
    "                              [5, 6, 7, 8]]), name='w')\n",
    "    \n",
    "    print(w)"
   ]
  },
  {
   "cell_type": "markdown",
   "metadata": {},
   "source": [
    "## Initialising Variables\n",
    "\n",
    "Tensors that are defined as variables are not allocated in memory and contain no values until they are initialised.  Therefore, before executing any node in the computation graph, we must initialise the variables that are within the path to the node that we want to execute.\n",
    "\n",
    "TensorFlow provides a function named `tf.global_variables_initializer` that returns an operator for initializing all the variables that exist in a computation graph.  Then executing this operator will initialize the variables as follows:"
   ]
  },
  {
   "cell_type": "code",
   "execution_count": 10,
   "metadata": {},
   "outputs": [
    {
     "name": "stdout",
     "output_type": "stream",
     "text": [
      "[[1 2 3 4]\n",
      " [5 6 7 8]]\n"
     ]
    }
   ],
   "source": [
    "with tf.Session(graph=g1) as sess:\n",
    "    sess.run(tf.global_variables_initializer())\n",
    "    print(sess.run(w))"
   ]
  },
  {
   "cell_type": "markdown",
   "metadata": {},
   "source": [
    "## Variable Scope.\n",
    "\n",
    "When we create a variable scope, the name of operations and tensors that are created within that scope are prefixed with that scope, and those scopes can further be nested.\n",
    "\n",
    "For example, if we have two subnetworks, where each subnetwork has several layers, we can define two scopes named `net_A` and `net_B`, respectively.  Then, each layer layer will we defined within one of these scopes.\n",
    "\n",
    "Let us see how the variable names will turn out in the following code example:"
   ]
  },
  {
   "cell_type": "code",
   "execution_count": 11,
   "metadata": {},
   "outputs": [
    {
     "name": "stdout",
     "output_type": "stream",
     "text": [
      "<tf.Variable 'net_A/layer-1/weights:0' shape=(10, 4) dtype=float32_ref>\n",
      "<tf.Variable 'net_A/layer-2/weights:0' shape=(20, 10) dtype=float32_ref>\n",
      "<tf.Variable 'net_B/layer-1/weights:0' shape=(10, 4) dtype=float32_ref>\n"
     ]
    }
   ],
   "source": [
    "import tensorflow as tf\n",
    "\n",
    "g = tf.Graph()\n",
    "\n",
    "with g.as_default():\n",
    "    with tf.variable_scope('net_A'):\n",
    "        with tf.variable_scope('layer-1'):\n",
    "            w1 = tf.Variable(tf.random_normal(shape=(10,4)), name=\"weights\")\n",
    "        with tf.variable_scope('layer-2'):\n",
    "            w2 = tf.Variable(tf.random_normal(shape=(20,10)), name=\"weights\")\n",
    "    with tf.variable_scope('net_B'):\n",
    "        with tf.variable_scope('layer-1'):\n",
    "            w3 = tf.Variable(tf.random_normal(shape=(10,4)), name=\"weights\")\n",
    "    \n",
    "    print(w1)\n",
    "    print(w2)\n",
    "    print(w3)"
   ]
  },
  {
   "cell_type": "markdown",
   "metadata": {},
   "source": [
    "Notice that the variable names are now prefixed with their nested scopes, separated by the forward slash (/) symbol.\n",
    "\n",
    "For more information about variable scoping, read the documentation at:\n",
    "* <https://www.tensorflow.org/programmers_guide/variable_scope>, and\n",
    "* <https://www.tensorflow.org/api_docs/python/tf/variable_scope>."
   ]
  },
  {
   "cell_type": "markdown",
   "metadata": {},
   "source": [
    "## Reusing variables:\n",
    "\n",
    "Let's imagine that we're developing a somewhat complex neural network model that has a classifier whose input data comes from more that one source.  For example, we'll assume that we have data $(X_A, y_A)$ coming from source $A$, and data $(X_B, y_B)$ that comes from source $B$.  In this example, we will design our graph in such a way that it will use the data from only one source as the input tensor to build the network.  Then, we can feed the data from the other source to the same classifier.\n",
    "\n",
    "In the following example, we assume that data from source $A$ is fed through a placeholder, and source $B$ is the output of a generator network.  We will build the generator network by calling the `build_generator` function within the `generator` scope, then we will add a classifier by calling `build_classifier` within the `classifier` scope:"
   ]
  },
  {
   "cell_type": "code",
   "execution_count": 12,
   "metadata": {},
   "outputs": [],
   "source": [
    "import tensorflow as tf\n",
    "\n",
    "### Helper functions ###\n",
    "\n",
    "def build_classifier(data, labels, n_classes=2):\n",
    "    data_shape = data.get_shape().as_list()\n",
    "    weights = tf.get_variable(name=\"weights\", shape=(data_shape[1], n_classes), dtype=tf.float32)\n",
    "    bias = tf.get_variable(name=\"bias\", initializer=tf.zeros(shape=n_classes))\n",
    "    logits = tf.add(tf.matmul(data, weights), bias, name=\"logits\")\n",
    "    return logits, tf.nn.softmax(logits)\n",
    "\n",
    "\n",
    "def build_generator(data, n_hidden):\n",
    "    data_shape = data.get_shape().as_list()\n",
    "    w1 = tf.Variable(tf.random_normal(shape=(data_shape[1], n_hidden)), name=\"w1\")\n",
    "    b1 = tf.Variable(tf.zeros(shape=n_hidden), name=\"b1\")\n",
    "    hidden = tf.add(tf.matmul(data, w1), b1, name=\"hidden_pre-activation\")\n",
    "    hidden = tf.nn.relu(hidden, name=\"hidden_activation\")\n",
    "    \n",
    "    w2 = tf.Variable(tf.random_normal(shape=(n_hidden, data_shape[1])), name=\"w2\")\n",
    "    b2 = tf.Variable(tf.zeros(shape=data_shape[1]), name=\"b2\")\n",
    "    output = tf.add(tf.matmul(hidden, w2), b2, name=\"output\")\n",
    "    return output, tf.nn.sigmoid(output)\n",
    "\n",
    "### Build the Graph ###\n",
    "\n",
    "batch_size=64\n",
    "g = tf.Graph()\n",
    "\n",
    "with g.as_default():\n",
    "    tf_X = tf.placeholder(shape=(batch_size, 100), dtype=tf.float32, name=\"tf_X\")\n",
    "    \n",
    "    # build the generator\n",
    "    with tf.variable_scope('generator'):\n",
    "        gen_out1 = build_generator(data=tf_X, n_hidden=50)\n",
    "    \n",
    "    # build the classifier\n",
    "    with tf.variable_scope('classifier') as scope:\n",
    "        # classifier for the original data:\n",
    "        cls_out1 = build_classifier(data=tf_X, labels=tf.ones(shape=batch_size))\n",
    "        \n",
    "        # reuse the classifier for generated data\n",
    "        scope.reuse_variables()\n",
    "        cls2_out2 = build_classifier(data=gen_out1[1], labels=tf.zeros(shape=batch_size))"
   ]
  },
  {
   "cell_type": "markdown",
   "metadata": {},
   "source": [
    "Notice that we have called the `build_classifier` function 2 times:\n",
    "* The first call causes the building of the network.\n",
    "* Then, we call `scope.reuse_variables()` and call that function again.  \n",
    "As a result, the second call does not create new variables; instead, it reuses the same variables.\n",
    "\n",
    "Alternatively, we could reuse the variables by specifying the `reuse=True` parameter, as follows:"
   ]
  },
  {
   "cell_type": "code",
   "execution_count": 13,
   "metadata": {},
   "outputs": [],
   "source": [
    "g = tf.Graph()\n",
    "\n",
    "with g.as_default():\n",
    "    tf_X = tf.placeholder(shape=(batch_size, 100), dtype=tf.float32, name=\"tf_X\")\n",
    "    \n",
    "    # build the generator\n",
    "    with tf.variable_scope(\"generator\"):\n",
    "        gen_out1 = build_generator(data=tf_X, n_hidden=50)\n",
    "    \n",
    "    # build the classifier\n",
    "    with tf.variable_scope(\"classifier\"):\n",
    "        # classifier for the original data:\n",
    "        cls_out1 = build_classifier(data=tf_X, labels=tf.ones(shape=batch_size))\n",
    "    \n",
    "    with tf.variable_scope(\"classifier\", reuse=True):\n",
    "        # reuse the classifier for generated data\n",
    "        cls_out2 = build_classifier(data=gen_out1[1], labels=tf.zeros(shape=batch_size))"
   ]
  },
  {
   "cell_type": "markdown",
   "metadata": {},
   "source": [
    "## Building a regression model\n",
    "\n",
    "Since we have explored placeholders and variables, let us build an example model for regression analysis, where our goal is to implement a linear regression model:\n",
    "\n",
    "$$\n",
    "\\hat{y} = wx + b\n",
    "$$\n",
    "\n",
    "In this model, $w$ and $b$ are the 2 parameters of this simple regression model that need to be defined as variables.  Note that $x$ is the input to the model, which we can define as a placeholder.  Furthermore, for training a regression model, we need to formulate a cost function.  Here, we use the **Mean Squared Error (MSE)** cost function:\n",
    "\n",
    "$$\n",
    "MSE = \\frac{1}{n}\\sum_{i=1}^n\\left( y^{(i)} - \\hat{y}^{(i)} \\right)^{2}\n",
    "$$\n",
    "\n",
    "here $y$ is the true value, which is given as the input to this model for training.  Therefore, we need to define $y$ as a placeholder as well.  Finally, $\\hat{y}$, is the prediction output, which will be computed using TensorFlow operations---`tf.matmul` and `tf.add`.\n",
    "\n",
    "The advantage of `tf.add` is that we can provide an additional name for the resulting tensor via the `name` parameter.\n",
    "\n",
    "Therefore, let us summarise all our tensors with their mathematical notations and coding naming, as follows:\n",
    "* Input $x$: `tf_x` defined as a placeholder.\n",
    "* Input $y$: `tf_y` defined as a placeholder.\n",
    "* Model parameter $w$: `weight` defined as a variable.\n",
    "* Model parameter $b$: `bias` defined as a variable.\n",
    "* Model output $\\hat{y}$: `y_hat` returned by TensorFow operations to compute the prediction using the regression model.\n",
    "\n",
    "The code to implement this simple regression model is as follows:"
   ]
  },
  {
   "cell_type": "code",
   "execution_count": 14,
   "metadata": {},
   "outputs": [],
   "source": [
    "import tensorflow as tf\n",
    "import numpy as np\n",
    "\n",
    "g = tf.Graph()\n",
    "\n",
    "with g.as_default():\n",
    "    tf.set_random_seed(123)\n",
    "    \n",
    "    # placeholders\n",
    "    tf_x = tf.placeholder(shape=(None), dtype=tf.float32, name='tf_x')\n",
    "    tf_y = tf.placeholder(shape=(None), dtype=tf.float32, name='tf_y')\n",
    "    \n",
    "    # define the variable (model parameters)\n",
    "    weight = tf.Variable(tf.random_normal(shape=(1, 1), stddev=0.25), name='weight')\n",
    "    bias = tf.Variable(0.0, name=\"bias\")\n",
    "    \n",
    "    # build the model\n",
    "    y_hat = tf.add(weight * tf_x, bias, name='y_hat')\n",
    "    \n",
    "    # compute the cost\n",
    "    cost = tf.reduce_mean(tf.square(tf_y - y_hat), name=\"cost\")\n",
    "    \n",
    "    # train the model\n",
    "    optim = tf.train.GradientDescentOptimizer(learning_rate=0.001)\n",
    "    train_op = optim.minimize(cost, name='train_op')"
   ]
  },
  {
   "cell_type": "markdown",
   "metadata": {},
   "source": [
    "Now that we have built the graph, our next steps are to create a session to launch the graph and train the model.  But before we go any further, let's see how we can evaluate tensors and execute operations.  We will create a random regression data with one feature, using the `make_random_data` function and visualising the data:"
   ]
  },
  {
   "cell_type": "code",
   "execution_count": 15,
   "metadata": {},
   "outputs": [
    {
     "data": {
      "image/png": "[encoded data removed]",
      "text/plain": [
       "<Figure size 432x288 with 1 Axes>"
      ]
     },
     "metadata": {
      "needs_background": "light"
     },
     "output_type": "display_data"
    }
   ],
   "source": [
    "# create a random toy dataset for regression\n",
    "\n",
    "import numpy as np\n",
    "import matplotlib.pyplot as plt\n",
    "np.random.seed(0)\n",
    "\n",
    "def make_random_data():\n",
    "    x = np.random.uniform(low=-2, high=4, size=200)\n",
    "    y = []\n",
    "    for xi in x:\n",
    "        r = np.random.normal(loc=0.0, scale=1, size=None)\n",
    "        y.append(r)\n",
    "    return x, 1.726*x - 0.84 + np.array(y)\n",
    "\n",
    "x, y = make_random_data()\n",
    "\n",
    "plt.plot(x, y, \"o\")\n",
    "plt.show()"
   ]
  },
  {
   "cell_type": "markdown",
   "metadata": {},
   "source": [
    "The above figure shows the random regression data that was generated.\n",
    "\n",
    "Now we are ready; let us train the previous model:\n",
    "1. Let's start by creating a TensorFlow session called `sess`.\n",
    "2. Then, we want to initialise our variables, which we can do with `sess.run(tf.global_variables_initializer())`\n",
    "3. Create a `for` loop to\n",
    "    - execute the train operator, and\n",
    "    - calculate the training cost at the same time.\n",
    "\n",
    "Let us combine the two tasks, the first to execute an operator, and the second to evaluate a tensor, into one `sess.run` method call.  The code for this is as follows:"
   ]
  },
  {
   "cell_type": "code",
   "execution_count": 16,
   "metadata": {},
   "outputs": [
    {
     "name": "stdout",
     "output_type": "stream",
     "text": [
      "Epoch    0: 11.9662.\n",
      "Bias: 0.0014, Weight: -0.2338.\n",
      "______________________________\n",
      "Epoch   50: 6.4436.\n",
      "Bias: 0.0471, Weight: 0.2834.\n",
      "______________________________\n",
      "Epoch  100: 3.8575.\n",
      "Bias: 0.0540, Weight: 0.6387.\n",
      "______________________________\n",
      "Epoch  150: 2.6160.\n",
      "Bias: 0.0365, Weight: 0.8845.\n",
      "______________________________\n",
      "Epoch  200: 1.9946.\n",
      "Bias: 0.0043, Weight: 1.0560.\n",
      "______________________________\n",
      "Epoch  250: 1.6630.\n",
      "Bias: -0.0364, Weight: 1.1770.\n",
      "______________________________\n",
      "Epoch  300: 1.4699.\n",
      "Bias: -0.0814, Weight: 1.2635.\n",
      "______________________________\n",
      "Epoch  350: 1.3458.\n",
      "Bias: -0.1280, Weight: 1.3265.\n",
      "______________________________\n",
      "Epoch  400: 1.2581.\n",
      "Bias: -0.1745, Weight: 1.3732.\n",
      "______________________________\n",
      "Epoch  450: 1.1914.\n",
      "Bias: -0.2199, Weight: 1.4087.\n",
      "______________________________\n",
      "Epoch  500: 1.1381.\n",
      "Bias: -0.2634, Weight: 1.4363.\n",
      "______________________________\n",
      "Epoch  550: 1.0940.\n",
      "Bias: -0.3047, Weight: 1.4584.\n",
      "______________________________\n",
      "Epoch  600: 1.0570.\n",
      "Bias: -0.3437, Weight: 1.4764.\n",
      "______________________________\n",
      "Epoch  650: 1.0256.\n",
      "Bias: -0.3803, Weight: 1.4915.\n",
      "______________________________\n",
      "Epoch  700: 0.9987.\n",
      "Bias: -0.4145, Weight: 1.5044.\n",
      "______________________________\n",
      "Epoch  750: 0.9758.\n",
      "Bias: -0.4464, Weight: 1.5156.\n",
      "______________________________\n",
      "Epoch  800: 0.9561.\n",
      "Bias: -0.4761, Weight: 1.5255.\n",
      "______________________________\n",
      "Epoch  850: 0.9392.\n",
      "Bias: -0.5038, Weight: 1.5344.\n",
      "______________________________\n",
      "Epoch  900: 0.9247.\n",
      "Bias: -0.5294, Weight: 1.5424.\n",
      "______________________________\n",
      "Epoch  950: 0.9123.\n",
      "Bias: -0.5533, Weight: 1.5496.\n",
      "______________________________\n"
     ]
    },
    {
     "data": {
      "image/png": "[encoded data removed]",
      "text/plain": [
       "<Figure size 432x288 with 1 Axes>"
      ]
     },
     "metadata": {
      "needs_background": "light"
     },
     "output_type": "display_data"
    }
   ],
   "source": [
    "# train/test splits\n",
    "x_train, y_train = x[:100], y[:100]\n",
    "x_test, y_test = x[100:], y[100:]\n",
    "\n",
    "n_epochs = 1000\n",
    "training_costs = []\n",
    "\n",
    "with tf.Session(graph=g) as sess:\n",
    "    sess.run(tf.global_variables_initializer())\n",
    "    \n",
    "    # train the model for n_epochs\n",
    "    for e in range(n_epochs):\n",
    "        c, _ = sess.run([cost, train_op], feed_dict={tf_x: x_train, tf_y: y_train})\n",
    "        \n",
    "        training_costs.append(c)\n",
    "        if not e % 50:\n",
    "            print(\"Epoch {:4d}: {:.4f}.\".format(e, c))\n",
    "            print(\"Bias: {:.4f}, Weight: {:.4f}.\".format(sess.run(bias), sess.run(weight)[0][0]))\n",
    "            print(\"{:_^30}\".format(\"\"))\n",
    "\n",
    "plt.plot(training_costs)\n",
    "plt.show()"
   ]
  },
  {
   "cell_type": "markdown",
   "metadata": {},
   "source": [
    "the code generates the above graph that shows the training costs after each epoch."
   ]
  },
  {
   "cell_type": "markdown",
   "metadata": {},
   "source": [
    "## Executing objects in a TensorFlow graph using their names.\n",
    "\n",
    "Executing variables and operators by their names is very useful in many scenarios.  For example, we may develop a model in a separate module; and thus the variables are not avalable in a different Python scope according to Python scoping rules.  However, if we have a graph, we can execute the nodes of the graph using their **names in the graph.**\n",
    "\n",
    "This can be done easily by changing the `sess.run` method from the previous code example, using the variable name of the **cost** in the graph rather than the Python variable `cost` by changing:  \n",
    "`sess.run([cost, train_op], ...)` to `sess.run(['cost:0', 'train_op'], ...)`."
   ]
  },
  {
   "cell_type": "code",
   "execution_count": 17,
   "metadata": {},
   "outputs": [
    {
     "name": "stdout",
     "output_type": "stream",
     "text": [
      "Epoch    0, 11.9662.\n",
      "Epoch   50, 6.4436.\n",
      "Epoch  100, 3.8575.\n",
      "Epoch  150, 2.6160.\n",
      "Epoch  200, 1.9946.\n",
      "Epoch  250, 1.6630.\n",
      "Epoch  300, 1.4699.\n",
      "Epoch  350, 1.3458.\n",
      "Epoch  400, 1.2581.\n",
      "Epoch  450, 1.1914.\n"
     ]
    }
   ],
   "source": [
    "n_epochs = 500\n",
    "training_costs = []\n",
    "with tf.Session(graph=g) as sess:\n",
    "    # first, run the variables initializer\n",
    "    sess.run(tf.global_variables_initializer())\n",
    "    \n",
    "    # train the model for n_epochs\n",
    "    for e in range(n_epochs):\n",
    "        c, _ = sess.run(['cost:0', 'train_op'], feed_dict={'tf_x:0': x_train, 'tf_y:0': y_train})\n",
    "        training_costs.append(c)\n",
    "        if e%50 == 0:\n",
    "            print('Epoch {:4d}, {:.4f}.'.format(e, c))"
   ]
  },
  {
   "cell_type": "markdown",
   "metadata": {},
   "source": [
    "Notice that we are evaluating the cost by its name, which is `'cost:0'`, and executing the train operator by its name: `'train_op'`.  Also, in `feed_dict`, instead of using `tf_x: x_train`, we are using `'tf_x:0': x_train`.\n",
    "\n",
    "Notice that TensorFlow adds a suffix `':0'` to the name of the tensors.  However, the names of operators do not have any suffix like that."
   ]
  },
  {
   "cell_type": "markdown",
   "metadata": {},
   "source": [
    "## Saving and Restoring a model in TensorFlow.\n",
    "\n",
    "Once the execution of the preceding statements are finished and we exit the `tf.Session` environment, all the variables and their allocated memories are freed.\n",
    "\n",
    "One solution is to train a model, and as soon as the training is finished, we can feed it our test set.  However, this is not a good approach since deep neural network models are typically trained over multiple hours, days, or even weeks.\n",
    "\n",
    "The best approach, is to save the trained model for future use.  For this purpose, we need to add a new node to the graph, and instance of the `tf.train.Saver` class, which we call `saver`.\n",
    "\n",
    "In the following code, we are adding `saver` to the graph `g`, then we retrain the model, and finally make a call to `saver.save()` to save the model as follows:"
   ]
  },
  {
   "cell_type": "code",
   "execution_count": 18,
   "metadata": {},
   "outputs": [
    {
     "name": "stdout",
     "output_type": "stream",
     "text": [
      "Epoch    0 <---> 11.9662.\n",
      "Epoch   50 <---> 6.4436.\n",
      "Epoch  100 <---> 3.8575.\n",
      "Epoch  150 <---> 2.6160.\n",
      "Epoch  200 <---> 1.9946.\n",
      "Epoch  250 <---> 1.6630.\n",
      "Epoch  300 <---> 1.4699.\n",
      "Epoch  350 <---> 1.3458.\n",
      "Epoch  400 <---> 1.2581.\n",
      "Epoch  450 <---> 1.1914.\n"
     ]
    }
   ],
   "source": [
    "with g.as_default():\n",
    "    saver = tf.train.Saver()\n",
    "\n",
    "    n_epochs = 500\n",
    "    training_costs = []\n",
    "    with tf.Session(graph=g) as sess:\n",
    "        sess.run(tf.global_variables_initializer())\n",
    "        \n",
    "        # train the model for n epochs\n",
    "        for e in range(n_epochs):\n",
    "            c, _ = sess.run([cost, train_op], feed_dict={tf_x: x_train, tf_y: y_train})\n",
    "            \n",
    "            training_costs.append(c)\n",
    "            if not e % 50:\n",
    "                print(\"Epoch {:4d} <---> {:.4f}.\".format(e, c))\n",
    "        \n",
    "        saver.save(sess, \"./trained-model\")"
   ]
  },
  {
   "cell_type": "markdown",
   "metadata": {},
   "source": [
    "As a result of this new statement, three files are created with the extensions:\n",
    "* `.data`\n",
    "* `.index`\n",
    "* `.meta`\n",
    "\n",
    "TensorFlow uses Protocol Buffers, which is a language-neutral way for serializing structured data.\n",
    "\n",
    "Restoring a trained model requires two steps:\n",
    "1. Rebuild the graph that has the same nodes and names as the saved model.\n",
    "2. Restore the saved variables in a new `tf.Session` environment.\n",
    "\n",
    "All of the information regarding the graph is saved as metadata in the file with the `.meta` extension.  Using the following code, we rebuild the graph by importing it from the `meta` file:"
   ]
  },
  {
   "cell_type": "code",
   "execution_count": 19,
   "metadata": {},
   "outputs": [],
   "source": [
    "with tf.Session() as sess:\n",
    "    new_saver = tf.train.import_meta_graph(\"./trained-model.meta\")"
   ]
  },
  {
   "cell_type": "markdown",
   "metadata": {},
   "source": [
    "The `tf.train.import_meta_graph` function recreates the graph that is saved in the `./trained-model.meta` file.  After recreating the graph, we can use the `new_saver` object to restore the parameters of the model in that session and execute it.  The complete code to run the model on a test set is as follows:"
   ]
  },
  {
   "cell_type": "code",
   "execution_count": 20,
   "metadata": {},
   "outputs": [
    {
     "name": "stdout",
     "output_type": "stream",
     "text": [
      "INFO:tensorflow:Restoring parameters from ./trained-model\n"
     ]
    }
   ],
   "source": [
    "import tensorflow as tf\n",
    "import numpy as np\n",
    "\n",
    "g2 = tf.Graph()\n",
    "with tf.Session(graph=g2) as sess:\n",
    "    new_saver = tf.train.import_meta_graph(\"./trained-model.meta\")\n",
    "    new_saver.restore(sess, \"./trained-model\")\n",
    "    \n",
    "    y_pred = sess.run(\"y_hat:0\", feed_dict={\"tf_x:0\": x_test})"
   ]
  },
  {
   "cell_type": "markdown",
   "metadata": {},
   "source": [
    "Note that we evaluated the $\\hat{y}$ tensor by its name that was given previously: `y_hat:0`.  Also, we needed to feed the values for the `tf_x` placeholder, which is also done by its name: `'tf_x:0'`.  In this case, there is no need to feed the values for the true $y$ values.  This is because executing the `y_hat` node does not depend on `tf_y` in the computation graph that we built.\n",
    "\n",
    "Now, let us visualize the predictions as follows:"
   ]
  },
  {
   "cell_type": "code",
   "execution_count": 21,
   "metadata": {},
   "outputs": [
    {
     "name": "stdout",
     "output_type": "stream",
     "text": [
      "INFO:tensorflow:Restoring parameters from ./trained-model\n"
     ]
    },
    {
     "data": {
      "image/png": "[encoded data removed]",
      "text/plain": [
       "<Figure size 432x288 with 1 Axes>"
      ]
     },
     "metadata": {
      "needs_background": "light"
     },
     "output_type": "display_data"
    }
   ],
   "source": [
    "import matplotlib.pyplot as plt\n",
    "\n",
    "x_arr = np.arange(-2, 4, 0.1)\n",
    "\n",
    "g2 = tf.Graph()\n",
    "with tf.Session(graph=g2) as sess:\n",
    "    new_saver = tf.train.import_meta_graph(\"./trained-model.meta\")\n",
    "    new_saver.restore(sess, \"./trained-model\")\n",
    "    \n",
    "    y_arr = sess.run(\"y_hat:0\", feed_dict={\"tf_x:0\": x_arr})\n",
    "\n",
    "plt.figure()\n",
    "plt.plot(x_train, y_train, \"bo\")\n",
    "plt.plot(x_test, y_test, \"bo\", alpha=0.3)\n",
    "plt.plot(x_arr, y_arr.T[:, 0], \"-r\", lw=3)\n",
    "plt.show()"
   ]
  },
  {
   "cell_type": "markdown",
   "metadata": {},
   "source": [
    "The above graph contains both the training data and test data.\n",
    "\n",
    "Since the training stage of large models can take several hours to days, we can break the training phase into smaller tasks.  For example, if the intended number of epochs is 100, we can break it into 25 tasks, where each task would run 4 epochs one after the other.  For this purpose, we can save the trained model and restore it in the next task."
   ]
  },
  {
   "cell_type": "markdown",
   "metadata": {},
   "source": [
    "## Transforming Tensors as multi-dimensional data arrays\n",
    "\n",
    "In this section, we will explore a selection of operators that can be used to transform tensors.  Note that some of these operators work very similar to NumPy array transformations.  However, when we are dealing with tensors with ranks higher than 2, we need to be careful in using such transformation, for example, the transpose of a tensor.\n",
    "\n",
    "We use `tf.get_shape` to get the shape of an array."
   ]
  },
  {
   "cell_type": "code",
   "execution_count": 22,
   "metadata": {},
   "outputs": [
    {
     "name": "stdout",
     "output_type": "stream",
     "text": [
      "Tensor(\"T1:0\", shape=(3, 4), dtype=float64)\n",
      "The shape of T1 is (3, 4).\n",
      "<tf.Variable 'Variable:0' shape=(3, 4) dtype=float32_ref>\n",
      "<tf.Variable 'Variable_1:0' shape=(3,) dtype=float32_ref>\n"
     ]
    }
   ],
   "source": [
    "import tensorflow as tf\n",
    "import numpy as np\n",
    "\n",
    "g = tf.Graph()\n",
    "with g.as_default():\n",
    "    arr = np.array([[1., 2., 3., 3.5],\n",
    "                    [4., 5., 6., 6.5],\n",
    "                    [7., 8., 9., 9.5]])\n",
    "    T1 = tf.constant(arr, name=\"T1\")\n",
    "    print(T1)\n",
    "    s = T1.get_shape()\n",
    "    print(\"The shape of T1 is {}.\".format(s))\n",
    "    T2 = tf.Variable(tf.random_normal(shape=s))\n",
    "    print(T2)\n",
    "    T3 = tf.Variable(tf.random_normal(shape=(s.as_list()[0],)))\n",
    "    print(T3)"
   ]
  },
  {
   "cell_type": "markdown",
   "metadata": {},
   "source": [
    "We cannot slice or index `s` for creating `T3`, therefore, we converted `s` into a regular Python list by `s.as_list()` and then used the usual indexing conventions."
   ]
  },
  {
   "cell_type": "markdown",
   "metadata": {},
   "source": [
    "Now, let us see how we can reshape tensors.  In TensorFlow, we use the function `tf.reshape` to reshape a tensor.  As is the case for Numpy, one dimension can be set to `-1` so that the size of the new dimension will be inferred based on the total size of the array and the other remaining dimension that are specified.\n",
    "\n",
    "In the following code, we reshape the tensor `T1` to `T4` and `T5`, both of which have rank 3."
   ]
  },
  {
   "cell_type": "code",
   "execution_count": 23,
   "metadata": {},
   "outputs": [
    {
     "name": "stdout",
     "output_type": "stream",
     "text": [
      "Tensor(\"T4:0\", shape=(1, 1, 12), dtype=float64)\n",
      "Tensor(\"T5:0\", shape=(1, 3, 4), dtype=float64)\n"
     ]
    }
   ],
   "source": [
    "with g.as_default():\n",
    "    T4 = tf.reshape(T1, shape=[1, 1, -1], name=\"T4\")\n",
    "    print(T4)\n",
    "    T5 = tf.reshape(T1, shape=[1, 3, -1], name=\"T5\")\n",
    "    print(T5)"
   ]
  },
  {
   "cell_type": "markdown",
   "metadata": {},
   "source": [
    "Now, let us print the elements of `T4` and `T5`:"
   ]
  },
  {
   "cell_type": "code",
   "execution_count": 24,
   "metadata": {},
   "outputs": [
    {
     "name": "stdout",
     "output_type": "stream",
     "text": [
      "[[[1.  2.  3.  3.5 4.  5.  6.  6.5 7.  8.  9.  9.5]]]\n",
      "\n",
      "[[[1.  2.  3.  3.5]\n",
      "  [4.  5.  6.  6.5]\n",
      "  [7.  8.  9.  9.5]]]\n"
     ]
    }
   ],
   "source": [
    "with tf.Session(graph=g) as sess:\n",
    "    print(sess.run(T4))\n",
    "    print()\n",
    "    print(sess.run(T5))"
   ]
  },
  {
   "cell_type": "markdown",
   "metadata": {},
   "source": [
    "The `tf.transpose` function is used to transpose tensors in TensorFlow, and in addition to a regular transpose operation, we can change the order of the dimensions in any way we want by specifying the order in `perm=[...]`.  Here follows an example:"
   ]
  },
  {
   "cell_type": "markdown",
   "metadata": {},
   "source": [
    "with g.as_default():\n",
    "    T6 = tf.transpose(T5, perm=[2,1,0], name=\"T6\")\n",
    "    print(T6)\n",
    "    \n",
    "    T7 = tf.transpose(T5, perm=[0,2,1], name=\"T7\")\n",
    "    print(T7)\n",
    "\n",
    "with tf.Session(graph=g) as sess:\n",
    "    print(\"T6 = {}.\".format(sess.run(T6)))\n",
    "    print(\"T7 = {}.\".format(sess.run(T7)))"
   ]
  },
  {
   "cell_type": "markdown",
   "metadata": {},
   "source": [
    "Next, we can also split a tensor into a list of subtensors using the `tf.split` function as follows:"
   ]
  },
  {
   "cell_type": "code",
   "execution_count": 25,
   "metadata": {},
   "outputs": [
    {
     "name": "stdout",
     "output_type": "stream",
     "text": [
      "[<tf.Tensor 'T8:0' shape=(1, 3, 2) dtype=float64>, <tf.Tensor 'T8:1' shape=(1, 3, 2) dtype=float64>]\n",
      "T8:0 =\n",
      "[[[1. 2.]\n",
      "  [4. 5.]\n",
      "  [7. 8.]]].\n",
      "____________________\n",
      "T8:1 =\n",
      "[[[3.  3.5]\n",
      "  [6.  6.5]\n",
      "  [9.  9.5]]].\n"
     ]
    }
   ],
   "source": [
    "with g.as_default():\n",
    "    t5_split = tf.split(T5, num_or_size_splits=2, axis=2, name=\"T8\")\n",
    "    print(t5_split)\n",
    "\n",
    "with tf.Session(graph=g) as sess:\n",
    "    print(\"T8:0 =\\n{}.\".format(sess.run(\"T8:0\")))\n",
    "    print(\"{:_^20}\".format(\"\"))\n",
    "    print(\"T8:1 =\\n{}.\".format(sess.run(\"T8:1\")))"
   ]
  },
  {
   "cell_type": "markdown",
   "metadata": {},
   "source": [
    "It is important to note that the output is not a tensor object anymore; rather, it is a list of tensors.  The name of these subtensors are `'T8:0'` and `'T8:1'`."
   ]
  },
  {
   "cell_type": "markdown",
   "metadata": {},
   "source": [
    "Another useful transformation is the concatenation of multiple tensors.  If we have a list of tensors with the same shape and `dtype`, we can combine them into one big tensor using the `tf.concat` function.  An example is given in the following code:"
   ]
  },
  {
   "cell_type": "code",
   "execution_count": 26,
   "metadata": {},
   "outputs": [
    {
     "name": "stdout",
     "output_type": "stream",
     "text": [
      "Tensor(\"t1:0\", shape=(5, 1), dtype=float32)\n",
      "Tensor(\"t2:0\", shape=(5, 1), dtype=float32)\n",
      "Tensor(\"t3:0\", shape=(10, 1), dtype=float32)\n",
      "Tensor(\"t4:0\", shape=(5, 2), dtype=float32)\n"
     ]
    }
   ],
   "source": [
    "g = tf.Graph()\n",
    "\n",
    "with g.as_default():\n",
    "    t1 = tf.ones(shape=(5,1), dtype=tf.float32, name=\"t1\")\n",
    "    t2 = tf.zeros(shape=(5,1), dtype=tf.float32, name=\"t2\")\n",
    "    print(t1)\n",
    "    print(t2)\n",
    "    \n",
    "    t3 = tf.concat([t1, t2], axis=0, name=\"t3\")\n",
    "    t4 = tf.concat([t1, t2], axis=1, name=\"t4\")\n",
    "    print(t3)\n",
    "    print(t4)"
   ]
  },
  {
   "cell_type": "markdown",
   "metadata": {},
   "source": [
    "Let us print the values of these concatenated tensors:"
   ]
  },
  {
   "cell_type": "code",
   "execution_count": 27,
   "metadata": {},
   "outputs": [
    {
     "name": "stdout",
     "output_type": "stream",
     "text": [
      "[[1.]\n",
      " [1.]\n",
      " [1.]\n",
      " [1.]\n",
      " [1.]\n",
      " [0.]\n",
      " [0.]\n",
      " [0.]\n",
      " [0.]\n",
      " [0.]]\n",
      "______________________________\n",
      "[[1. 0.]\n",
      " [1. 0.]\n",
      " [1. 0.]\n",
      " [1. 0.]\n",
      " [1. 0.]]\n"
     ]
    }
   ],
   "source": [
    "with tf.Session(graph=g) as sess:\n",
    "    print(t3.eval())\n",
    "    print(\"{:_^30}\".format(\"\"))\n",
    "    print(t4.eval())"
   ]
  },
  {
   "cell_type": "markdown",
   "metadata": {},
   "source": [
    "## Utilizing control flow mechanics in building graphs:\n",
    "\n",
    "TensorFlow provides a mechanism for making decisions when building a graph.  However, there are some subtle differences when we use Python's control flow statements compared to TensorFlow's control flow functions, when constructing computation graphs.\n",
    "\n",
    "To illustrate these differences with wome simple code examples, let us consider implementing the following equation in TensorFlow:\n",
    "\n",
    "$$\n",
    "\\mathrm{res} = \\begin{cases}\n",
    "x + y & \\mathrm{if\\ } x < y \\\\\n",
    "x - y & \\mathrm{otherwise} \\\\\n",
    "\\end{cases}\n",
    "$$\n",
    "\n",
    "In the following code, we may naively use Python's `if` statement to build a graph that corresponds to the preceding equation:"
   ]
  },
  {
   "cell_type": "code",
   "execution_count": 29,
   "metadata": {},
   "outputs": [
    {
     "name": "stdout",
     "output_type": "stream",
     "text": [
      "Object: Tensor(\"result_add:0\", dtype=float32).\n",
      "x < y: True --> Result: 3.0.\n",
      "x < y: False --> Result: 3.0.\n"
     ]
    }
   ],
   "source": [
    "import tensorflow as tf\n",
    "\n",
    "x, y = 1.0, 2.0\n",
    "\n",
    "g = tf.Graph()\n",
    "with g.as_default():\n",
    "    tf_x = tf.placeholder(dtype=tf.float32, shape=None, name=\"tf_x\")\n",
    "    tf_y = tf.placeholder(dtype=tf.float32, shape=None, name=\"tf_y\")\n",
    "    \n",
    "    if x < y:\n",
    "        res = tf.add(tf_x, tf_y, name=\"result_add\")\n",
    "    else:\n",
    "        res = tf.subtract(tf_x, tf_y, name=\"result_sub\")\n",
    "    \n",
    "    print(\"Object: {}.\".format(res))\n",
    "\n",
    "with tf.Session(graph=g) as sess:\n",
    "    print(\"x < y: {} --> Result: {}.\".format(x<y, res.eval(feed_dict={\"tf_x:0\": x, \"tf_y:0\": y})))\n",
    "    \n",
    "    x, y = 2.0, 1.0\n",
    "    print(\"x < y: {} --> Result: {}.\".format(x<y, res.eval(feed_dict={\"tf_x:0\": x, \"tf_y:0\": y})))"
   ]
  },
  {
   "cell_type": "markdown",
   "metadata": {},
   "source": [
    "The above shows the result of the naïve coding.  Note that the `res` object is a tensor named `result_add:0`.  It is very important to understand that in the previous mechanism, the computation has only one branch associated with the addition operator, and the subtract operator has not been called.\n",
    "\n",
    "The TensorFlow computation graph is static, which means that once the computation graph is built, it remains unchanged during the execution process.  So, even when we change the values of `x` and `y` and feed the new values to the graph, these new tensors will go through the same path in the graph.  Therefore, in both cases, we see the same output `3.0`, for `{x,y} = {2,1}` and `{x,y} = {1,2}`."
   ]
  },
  {
   "cell_type": "markdown",
   "metadata": {},
   "source": [
    "Now, let us use the control flow mechanism in TensorFlow.  In the following code, we implement the previous equation using the `tf.cond` function instead of Python's `if` statement."
   ]
  },
  {
   "cell_type": "code",
   "execution_count": 31,
   "metadata": {},
   "outputs": [
    {
     "name": "stdout",
     "output_type": "stream",
     "text": [
      "Object: Tensor(\"cond/Merge:0\", dtype=float32).\n",
      "x < y: True, Result --> 3.0.\n",
      "x < y: False, Result --> 1.0.\n"
     ]
    }
   ],
   "source": [
    "import tensorflow as tf\n",
    "\n",
    "x, y = 1.0, 2.0\n",
    "\n",
    "g = tf.Graph()\n",
    "with g.as_default():\n",
    "    tf_x = tf.placeholder(dtype=tf.float32, shape=None, name=\"tf_x\")\n",
    "    tf_y = tf.placeholder(dtype=tf.float32, shape=None, name=\"tf_y\")\n",
    "    res = tf.cond(tf_x < tf_y,\n",
    "                 lambda: tf.add(tf_x, tf_y, name=\"result_add\"),\n",
    "                 lambda: tf.subtract(tf_x, tf_y, name=\"result_sub\"))\n",
    "    print(\"Object: {}.\".format(res))\n",
    "\n",
    "with tf.Session(graph=g) as sess:\n",
    "    print(\"x < y: {}, Result --> {}.\".format(x<y, res.eval(feed_dict={\"tf_x:0\": x, \"tf_y:0\": y})))\n",
    "    \n",
    "    x, y = 2.0, 1.0\n",
    "    print(\"x < y: {}, Result --> {}.\".format(x<y, res.eval(feed_dict={\"tf_x:0\": x, \"tf_y:0\": y})))"
   ]
  },
  {
   "cell_type": "markdown",
   "metadata": {},
   "source": [
    "Here, we can see that the `res` object is named `\"cond/Merge:0\"`.  In this case, the computation graph has 2 branches with a mechanism to decide which branch to follow at execution time.\n",
    "* Therefore, when `{x,y} = {2,1}` it follows the addition branch and the output will be `3.0`,\n",
    "* while for `{x,y} = {1,2}` the subtraction branch is pursued and the result will be `1.0`.\n",
    "\n",
    "The following figure contrasts the differences in the computation graph of the previous implementation using the Python `if` statement versus TensorFlow's `tf.cond` function:\n",
    "\n",
    "<img src=\"images/14_06.png\" style=\"width:500px\">"
   ]
  },
  {
   "cell_type": "markdown",
   "metadata": {},
   "source": [
    "In addition to `tf.cond`, TensorFlow offers several other control flow operators, such as `tf.case` and `tf.while_loop`.  For instance, `tf.case` is the TensorFlow contrl flow equivalent to a Python `if...else` statement.  Consider implementing the following conditional execution in a TensorFlow graph:\n",
    "\n",
    "```python\n",
    "f1 = lambda: tf.constant(1)\n",
    "f2 = lambda: tf.constant(0)\n",
    "result = tf.case([(tf.less(x, y), f1)], default=f2)\n",
    "```\n",
    "\n",
    "Similarly, we can add a `while` loop to a TensorFlow graph that increments the `i` variable by 1 until a threshold value (`threshold`) is reached as follows:\n",
    "\n",
    "```python\n",
    "i = tf.constant(0)\n",
    "threshold = 100\n",
    "c = lambda i: tf.less(i, 100)\n",
    "b = lambda i: tf.add(i, 1)\n",
    "r = tf.while_loop(cond=c, body=b, loop_vars=[i])\n",
    "```\n",
    "\n",
    "For more information on the various control flow operators, have a look at:\n",
    "<https://www.tensorflow.org/api_guides/python/control_flow_ops>\n",
    "\n",
    "You may have noticed that these computation graphs are built by TensorBoard, so now is a great time to take a good look at TensorBoard in the next section."
   ]
  },
  {
   "cell_type": "markdown",
   "metadata": {},
   "source": [
    "## Visualizing the graph with TensorBoard.\n",
    "\n",
    "A great feature of TensorFlow is TensorBoard, which is a module for visualising the graph as well as visualising the learning of a model.  Visualsing the graph allows us to\n",
    "1. see the connection between nodes,\n",
    "2. explore their dependencies, and\n",
    "3. debut the model if necessary.\n",
    "\n",
    "Let us visualise a network that we have already built, one which consists of a generator and a classifier part.  Using the two helper functions, we will build the graph as follows:"
   ]
  },
  {
   "cell_type": "code",
   "execution_count": 32,
   "metadata": {},
   "outputs": [],
   "source": [
    "import tensorflow as tf\n",
    "\n",
    "def build_classifier(data, labels, n_classes=2):\n",
    "    data_shape = data.get_shape().as_list()\n",
    "    weights = tf.get_variable(name=\"weights\", shape=(data_shape[1], n_classes), dtype=tf.float32)\n",
    "    bias = tf.get_variable(name=\"bias\", initializer=tf.zeros(shape=n_classes))\n",
    "    logits = tf.add(tf.matmul(data, weights), bias, name=\"logits\")\n",
    "    return logits, tf.nn.softmax(logits)\n",
    "\n",
    "\n",
    "def build_generator(data, n_hidden):\n",
    "    data_shape = data.get_shape().as_list()\n",
    "    w1 = tf.Variable(tf.random_normal(shape=(data_shape[1], n_hidden)), name=\"w1\")\n",
    "    b1 = tf.Variable(tf.zeros(shape=n_hidden), name=\"b1\")\n",
    "    hidden = tf.add(tf.matmul(data, w1), b1, name=\"hidden_pre-activation\")\n",
    "    hidden = tf.nn.relu(hidden, name=\"hidden_activation\")\n",
    "    \n",
    "    w2 = tf.Variable(tf.random_normal(shape=(n_hidden, data_shape[1])), name=\"w2\")\n",
    "    b2 = tf.Variable(tf.zeros(shape=data_shape[1]), name=\"b2\")\n",
    "    output = tf.add(tf.matmul(hidden, w2), b2, name=\"output\")\n",
    "    return output, tf.nn.sigmoid(output)\n",
    "\n",
    "\n",
    "batch_size = 64\n",
    "g = tf.Graph()\n",
    "\n",
    "with g.as_default():\n",
    "    tf_X = tf.placeholder(shape=(batch_size, 100), dtype=tf.float32, name=\"tf_X\")\n",
    "    \n",
    "    # build the generator:\n",
    "    with tf.variable_scope(\"generator\"):\n",
    "        gen_out1 = build_generator(data=tf_X, n_hidden=50)\n",
    "    \n",
    "    # build the classifier:\n",
    "    with tf.variable_scope(\"classifier\") as scope:\n",
    "        # classifier for the original data:\n",
    "        cls_out1 = build_classifier(data=tf_X, labels=tf.ones(shape=batch_size))\n",
    "        \n",
    "        # reuse the classifier for the generated data:\n",
    "        scope.reuse_variables()\n",
    "        cls_out2 = build_classifier(data=gen_out1[1], labels=tf.zeros(shape=batch_size))\n",
    "\n",
    "with tf.Session(graph=g) as sess:\n",
    "    sess.run(tf.global_variables_initializer())\n",
    "    \n",
    "    file_writer = tf.summary.FileWriter(logdir=\"./logs/\", graph=g)"
   ]
  },
  {
   "cell_type": "markdown",
   "metadata": {},
   "source": [
    "This will create a new directory: `logs/`.  Now we just need to run the following command in a Linux terminal:"
   ]
  },
  {
   "cell_type": "code",
   "execution_count": 33,
   "metadata": {},
   "outputs": [
    {
     "name": "stdout",
     "output_type": "stream",
     "text": [
      "TensorBoard 1.12.2 at http://henri-GT72VR-7RD:6006 (Press CTRL+C to quit)\n",
      "^C\n"
     ]
    }
   ],
   "source": [
    "!tensorboard --logdir logs/"
   ]
  },
  {
   "cell_type": "markdown",
   "metadata": {},
   "source": [
    "This command will print a message, which is a URL address.  You should see that the graph corresponds to this model, as shown in the following figure:\n",
    "\n",
    "<img src=\"images/14_07.png\" style=\"width:500px\">\n",
    "\n",
    "The large rectangular boxes indicate the 2 subnetworks that we built: generator and classifier.  Since we used the `tf.variable_scope` function when we built this graph, all the components of each of these subnetworks are grouped into those rectangular boxes.\n",
    "\n",
    "We can expand these boxes to explore their details:  double-click with your mouse on the box you want to enlarge.  Doing this, we can see the details of the generator subnetworks as show in the following figure:\n",
    "\n",
    "<img src=\"images/14_08.png\" style=\"width:500px\">\n",
    "\n",
    "Next, let us also expand the classifier subnetwork, as shown in the following figure:\n",
    "\n",
    "<img src=\"images/14_09.png\" style=\"width:500px\">"
   ]
  },
  {
   "cell_type": "markdown",
   "metadata": {},
   "source": [
    "## Extending your TensorBoard experience\n",
    "\n",
    "For more information and examples for graph visualisation, visit the official TensorFlow tutorials page at <https://www.tensorflow.org/get_started/graph_viz>.\n",
    "\n",
    "## Summary\n",
    "\n",
    "In the next chapter, we'll make use of this library to implement an advanced image classifier: a **Convolutional Neural Network (CNN)**.  CNNs are powerful models and have shown great performance in image classification and computer vision.  We'll cover the basic operations in CNNs, and we'll implement deep convolutional networks for image classification using TensorFlow."
   ]
  },
  {
   "cell_type": "code",
   "execution_count": null,
   "metadata": {},
   "outputs": [],
   "source": []
  }
 ],
 "metadata": {
  "kernelspec": {
   "display_name": "Python 3",
   "language": "python",
   "name": "python3"
  },
  "language_info": {
   "codemirror_mode": {
    "name": "ipython",
    "version": 3
   },
   "file_extension": ".py",
   "mimetype": "text/x-python",
   "name": "python",
   "nbconvert_exporter": "python",
   "pygments_lexer": "ipython3",
   "version": "3.6.8"
  }
 },
 "nbformat": 4,
 "nbformat_minor": 2
}
