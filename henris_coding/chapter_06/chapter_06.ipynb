{
 "cells": [
  {
   "cell_type": "code",
   "execution_count": 1,
   "metadata": {},
   "outputs": [],
   "source": [
    "%matplotlib inline\n",
    "from IPython.display import YouTubeVideo"
   ]
  },
  {
   "cell_type": "markdown",
   "metadata": {},
   "source": [
    "# Preface\n",
    "\n",
    "Now we will learn about the best practices of building good machine learning models by fine-tuning the algorithms and evaluating the model's performance.  In this chapter, we will learn how to do the following:\n",
    "1. Obtain unbiased estimates of a model's performance\n",
    "2. Diagnose the common problems of machine learning algorithms.\n",
    "3. Fine-tune machine learning algorithms.\n",
    "4. Evaluate the predictive models using different performance metrics.\n",
    "\n",
    "## Loading the Breast Cancer Wisconsin dataset\n",
    "\n",
    "In this chapter, we will be working with the Breast Cancer Wisconsin dataset, which contains 569 samples of malignant and benign tumor cells.  The first two columns in the dataset store the unique ID numbers of the samples and corresponding diagnoses (```M``` = malignant, ```B``` = benign), respectively.  Columns 3-32 contain 30 real-valued features that have been computed from digitised images of the cell nuclei, which can be used to build a model to predict whether a tumor is benign or malignant.\n",
    "\n",
    "The Breast Cancer Wisconsin dataset has been deposited in the UCI Machine Learning Repository, and more detailed information about this dataset can be found at:  ```https://archive.ics.uci.edu/ml/datasets/Breast+Cancer+Wisconsin+(Diagnostic).```\n",
    "\n",
    "In this section, we will read in the dataset and split it into training and test datasets in three simple steps:\n",
    "\n",
    "1) First we start by reading in the dataset from my hard-drive using pandas:"
   ]
  },
  {
   "cell_type": "code",
   "execution_count": 2,
   "metadata": {},
   "outputs": [],
   "source": [
    "import pandas as pd\n",
    "df = pd.read_csv(\"/home/henri/stuff/machine_learning/sebastian_raschka/henris_coding/chapter_06/wdbc.data\", header=None)"
   ]
  },
  {
   "cell_type": "markdown",
   "metadata": {},
   "source": [
    "2) Next, we assing the 30 features to a NumPy array ```X```.  Using a ```LabelEncoder``` object, we transform the class labels from their original string representation ('M' and 'B') into integers:"
   ]
  },
  {
   "cell_type": "code",
   "execution_count": 3,
   "metadata": {},
   "outputs": [
    {
     "data": {
      "text/plain": [
       "array(['B', 'M'], dtype=object)"
      ]
     },
     "execution_count": 3,
     "metadata": {},
     "output_type": "execute_result"
    }
   ],
   "source": [
    "from sklearn.preprocessing import LabelEncoder\n",
    "\n",
    "X = df.loc[:, 2:].values\n",
    "y = df.loc[:, 1].values\n",
    "\n",
    "le = LabelEncoder()\n",
    "y = le.fit_transform(y)\n",
    "le.classes_"
   ]
  },
  {
   "cell_type": "markdown",
   "metadata": {},
   "source": [
    "After encoding the class labels (diagnosis) in an array ```y```, the malignant tumors are now represented as class ```1```, and the benign tumors are represented as class ```0```, respectively.  We can double-check this mapping by calling the ```transform``` metod of the fitted ```LabelEncoder``` on two dummy class labels:"
   ]
  },
  {
   "cell_type": "code",
   "execution_count": 4,
   "metadata": {},
   "outputs": [
    {
     "data": {
      "text/plain": [
       "array([1, 0])"
      ]
     },
     "execution_count": 4,
     "metadata": {},
     "output_type": "execute_result"
    }
   ],
   "source": [
    "le.transform(['M', 'B'])"
   ]
  },
  {
   "cell_type": "markdown",
   "metadata": {},
   "source": [
    "3) Before we construct our first model pipeline in the following subsection, let us divide the dataset into a separate dataset (80 percent of the data) and a separate dataset (20 percent of the data):"
   ]
  },
  {
   "cell_type": "code",
   "execution_count": 5,
   "metadata": {},
   "outputs": [],
   "source": [
    "from sklearn.model_selection import train_test_split\n",
    "\n",
    "X_train, X_test, y_train, y_test = train_test_split(X, y, test_size=0.20, stratify=y, random_state=1)"
   ]
  },
  {
   "cell_type": "markdown",
   "metadata": {},
   "source": [
    "## Combining transformers and estimators in a pipeline.\n",
    "\n",
    "Instead of going through the fitting and transformation steps for the training and test datasets separately, we can chain the ```StandardScaler,PCA``` and ```LogisticRegression``` objects into a pipeline:"
   ]
  },
  {
   "cell_type": "code",
   "execution_count": 6,
   "metadata": {},
   "outputs": [
    {
     "name": "stdout",
     "output_type": "stream",
     "text": [
      "Test Accuracy: 0.956\n"
     ]
    }
   ],
   "source": [
    "from sklearn.preprocessing import StandardScaler\n",
    "from sklearn.decomposition import PCA\n",
    "from sklearn.linear_model import LogisticRegression\n",
    "from sklearn.pipeline import make_pipeline\n",
    "\n",
    "pipe_lr = make_pipeline(StandardScaler(),\n",
    "                        PCA(n_components=2),\n",
    "                        LogisticRegression(random_state=1))\n",
    "pipe_lr.fit(X_train, y_train)\n",
    "y_pred = pipe_lr.predict(X_test)\n",
    "print(\"Test Accuracy: {:.3f}\".format(pipe_lr.score(X_test, y_test)))"
   ]
  },
  {
   "cell_type": "markdown",
   "metadata": {},
   "source": [
    "The ```make_pipeline``` function takes an arbitrary number of scikit-learn transformers (objects that support the ```fit``` and ```transform``` methods as input), followed by a scikit-learn estimator that implements the ```fit``` and ```predict``` methods.\n",
    "\n",
    "We can think of a scikit-learn ```Pipeline``` as a meta-estimator or wrapper around those individual transformers and estimators.\n",
    "\n",
    "There is no limit to the number of intermediate steps in a pipeline; however, the last pipeline element has to be an estimator.  Pipelines also implement a ```predict``` method.  In the final step, the estimator object will then return a prediction on the transformed data.\n",
    "\n",
    "Let us take a close look at the following illustration, which summarises the concept of pipelines as discussed in this section."
   ]
  },
  {
   "cell_type": "markdown",
   "metadata": {},
   "source": [
    "<img src=\"images/06_01.png\" alt=\"sklearn_pipeline\" style=\"width: 500px;\"/>"
   ]
  },
  {
   "cell_type": "markdown",
   "metadata": {},
   "source": [
    "# Using the k-fold cross-validation to assess the model performance.\n",
    "\n",
    "To find an acceptable bias-variance trade-off, we need to evaluate our model carefully.  In this section, we will learn about the common cross-validation techniques **holdout cross-validation** and **k-fold cross-validation**, which can help to obtain reliable estimates of the model's generalisation performance, that is, how well the model performs on unseen data.\n",
    "\n",
    "## The holdout method\n",
    "\n",
    "Using the holdout method, we split our initial dataset into separate training and test datasets - the former is used for model training, and the latter is used to estimate its generalisation performance.\n",
    "\n",
    "In **model selection**, we want to select the _optimal_ values of the tuning parameters (also called the hyperparameters).  However, if we reuse the same test dataset over and over again during the model selection, it will become part or our training data and thus the model will be more likely to overfit.\n",
    "\n",
    "A better way of using the holdout method for model selection is to separate the data into 3 parts:  a training set, a validation set, and a test set.  The training set is used to fit the different models, and the performance on the validation set is then used for the model-selection.  The advantage of having a test set that the model has not seen before during the training and model selection steps is that we can obtain a less biased estimate of its ability to generalise to new data.\n",
    "\n",
    "<img src=\"images/06_02.png\" alt=\"holdout_method\" style=\"width: 500px;\"/>\n",
    "\n",
    "A disadvantage of the holdout method is that the performance estimate may be very senstive to how we partition the traiing set into the training and validation subsets; the estimate will vary for different samples of the data.\n",
    "\n",
    "## K-fold cross-validation\n",
    "\n",
    "In k-fold cross-validation we randomly split the traiing dataset into $k$ folds without replacement, where $k-1$ folds are used for the model training, and the one fold is used for performance evaluation.  The procedure is repeated $k$ times so that we obtain k models and performance estimates.\n",
    "\n",
    "We then calculate the average performance of the models based on the different independent folds to obtain a performance estimate that is les sensitive to the sub-partitioning of the training data cmpared to the holdout method.  Typically, we use k-fold cross-validation for model tuning, that is, finding the optimal hyperparameter values that yields a satisfying generalisation performance.\n",
    "\n",
    "Once we have found satisfactory hyperparameter values, we can retrain the model on the complete training set and obtain a final performance estimate using the independent test set.  The rationale behind fitting a model to the whole training dataset after k-fold cross-validation is that providing more training samples to a learning algorithm usually results in a more accurate and robust model.\n",
    "\n",
    "The advantange of this approach is that each sample point will be used for training and validation (as part of a test fold) exactly once, whihc yields a lower-variance estimate of the model performance than the holdout method.\n",
    "\n",
    "The following figure summarises the concept behind k-fold cross-validation with $k=10$.  The training dataset is divided into 10 folds, and during the 10 iterations, nine folds are used for training, and one fold will be used as the test set for the model evaluation.  Also, the estimated performances $E_i$ for each fold are then used to calculate the estimated average performance $E$ of the model:\n",
    "\n",
    "<img src=\"images/06_03.png\" alt=\"k_fold_cross_validation\" style=\"width: 500px;\"/>\n",
    "\n",
    "A slight improvement over the standard k-fold cross-validation approach is stratified k-fold cross-validation, which can yield better bias and variance estimates, especially in cases of unequal class proportions, as has been shown in a study by Ron Kohavi.  In stratified cross-validation, the class proportions are preserved in each fold to ensure that each fold is representative of the class proportions in the training dataset, which we will illustrate by using the ```StratifiedKFold``` iterator in scikit-learn:"
   ]
  },
  {
   "cell_type": "code",
   "execution_count": 7,
   "metadata": {},
   "outputs": [
    {
     "name": "stdout",
     "output_type": "stream",
     "text": [
      "Fold:  1, Class Distribution: [256 153], Accuracy: 0.935\n",
      "Fold:  2, Class Distribution: [256 153], Accuracy: 0.935\n",
      "Fold:  3, Class Distribution: [256 153], Accuracy: 0.957\n",
      "Fold:  4, Class Distribution: [256 153], Accuracy: 0.957\n",
      "Fold:  5, Class Distribution: [256 153], Accuracy: 0.935\n",
      "Fold:  6, Class Distribution: [257 153], Accuracy: 0.956\n",
      "Fold:  7, Class Distribution: [257 153], Accuracy: 0.978\n",
      "Fold:  8, Class Distribution: [257 153], Accuracy: 0.933\n",
      "Fold:  9, Class Distribution: [257 153], Accuracy: 0.956\n",
      "Fold: 10, Class Distribution: [257 153], Accuracy: 0.956\n",
      "\n",
      "CV accuracy: 0.950 +/- 0.014\n",
      "\n",
      "We should keep in mind that:\n",
      "X.shape[0] x 0.80 = 569 x 0.80 = 455.\n",
      "And therefore:\n",
      "455 - 455/10 = 409\n",
      "256 + 153 = 409\n",
      "\n",
      "Proportions:  256/409 = 0.626 AND 153/409 = 0.374\n",
      "\n",
      "Original Proportions (0): 0.626\n",
      "Original Proportions (1): 0.374\n"
     ]
    }
   ],
   "source": [
    "import numpy as np\n",
    "from sklearn.model_selection import StratifiedKFold\n",
    "\n",
    "kfold = StratifiedKFold(n_splits=10, random_state=1).split(X_train, y_train)\n",
    "\n",
    "scores = []\n",
    "\n",
    "for k, (train, test) in enumerate(kfold):\n",
    "    pipe_lr.fit(X_train[train], y_train[train])\n",
    "    score = pipe_lr.score(X_train[test], y_train[test])\n",
    "    scores.append(score)\n",
    "    print(\"Fold: {:2d}, Class Distribution: {}, Accuracy: {:.3f}\".format(k+1, np.bincount(y_train[train]), score))\n",
    "    \n",
    "print(\"\\nCV accuracy: {:.3f} +/- {:.3f}\".format(np.mean(scores), np.std(scores)))\n",
    "\n",
    "print(\"\\nWe should keep in mind that:\")\n",
    "print(\"X.shape[0] x 0.80 = {} x 0.80 = {:.0f}.\".format(X.shape[0], X.shape[0]*0.80))\n",
    "print(\"And therefore:\")\n",
    "print(\"455 - 455/10 = 409\")\n",
    "print(\"256 + 153 = 409\")\n",
    "print(\"\\nProportions:  256/409 = {:.3f} AND 153/409 = {:.3f}\".format(256.0/409.0,  153/409))\n",
    "print(\"\\nOriginal Proportions (0): {:.3f}\".format(len(y_train[y_train==0])/len(y_train)))\n",
    "print(\"Original Proportions (1): {:.3f}\".format(len(y_train[y_train==1])/len(y_train)))\n"
   ]
  },
  {
   "cell_type": "markdown",
   "metadata": {},
   "source": [
    "Although the previous code example was useful to illustrate how k-fold cross valiation wordks, scikit-learn also implements a k-fold corss-validation scorer, which allows us to evaluate our model using stratified k-fold cross-validation less verbosely."
   ]
  },
  {
   "cell_type": "code",
   "execution_count": 8,
   "metadata": {},
   "outputs": [
    {
     "name": "stdout",
     "output_type": "stream",
     "text": [
      "CV accuracy scores: [0.93478261 0.93478261 0.95652174 0.95652174 0.93478261 0.95555556\n",
      " 0.97777778 0.93333333 0.95555556 0.95555556]\n",
      "CV accuracy: 0.950 +/- 0.014\n"
     ]
    }
   ],
   "source": [
    "from sklearn.model_selection import cross_val_score\n",
    "\n",
    "scores = cross_val_score(estimator=pipe_lr,\n",
    "                        X=X_train,\n",
    "                        y=y_train,\n",
    "                        cv=10,\n",
    "                        n_jobs=-1)\n",
    "print(\"CV accuracy scores: {}\".format(scores))\n",
    "print(\"CV accuracy: {:.3f} +/- {:.3f}\".format(np.mean(scores), np.std(scores)))"
   ]
  },
  {
   "cell_type": "markdown",
   "metadata": {},
   "source": [
    "An extremely useful feature of the ```cross_val_score``` approach is that we can distribute the evaluation of the different folds accross multiple CPUs on our machine."
   ]
  },
  {
   "cell_type": "markdown",
   "metadata": {},
   "source": [
    "# Diagnosing bias and variance problems with learing curves\n",
    "\n",
    "<img src=\"images/06_04.png\" alt=\"Bias_vs_Variance\" style=\"width: 500px;\"/>\n",
    "The graph in the upper-left shows a model with high bias.  This model has both low training and cross-validation accuracy, which indicates that it underfits the training data.  Common ways to address this issue are to increase the number of parameters of the model, for example, by collectin gor constructing additional features or by decreasing the degree of regulrisation, for example, in SVM or logistic regression classifiers.\n",
    "\n",
    "The graph in the upper-right shows a model that suffers from high variane, which is indiated by the large gap between the training and cross-validation accuracy.  To address this problem of overfitting, we can collect more training data, reduce the complexity of the model, or increase the regularisation parameter, for example.  For unregularised models, it can also help to decrease the number of features via feature selection or feature extraction.  Collecting more training samples may not always help though, for example, if the training data is extremely noisy or the model is already very close to optimal.\n",
    "\n",
    "Let us first see how we can use the learing curve function from scikit-learn to evaluate the model:"
   ]
  },
  {
   "cell_type": "code",
   "execution_count": 9,
   "metadata": {},
   "outputs": [
    {
     "data": {
      "image/png": "[encoded data removed]",
      "text/plain": [
       "<Figure size 432x288 with 1 Axes>"
      ]
     },
     "metadata": {},
     "output_type": "display_data"
    }
   ],
   "source": [
    "import matplotlib.pyplot as plt\n",
    "from sklearn.model_selection import learning_curve\n",
    "\n",
    "pipe_lr = make_pipeline(StandardScaler(), LogisticRegression(penalty='l2', random_state=1))\n",
    "\n",
    "train_sizes, train_scores, test_scores = learning_curve(estimator=pipe_lr,\n",
    "                                                      X=X_train,\n",
    "                                                      y=y_train,\n",
    "                                                      train_sizes=np.linspace(0.1,1.0,10),\n",
    "                                                      cv=10,\n",
    "                                                      n_jobs=-1)\n",
    "\n",
    "train_mean = np.mean(train_scores, axis=1)\n",
    "train_std = np.std(train_scores, axis=1)\n",
    "\n",
    "test_mean = np.mean(test_scores, axis=1)\n",
    "test_std = np.std(test_scores, axis=1)\n",
    "\n",
    "plt.plot(train_sizes, train_mean, color='blue', marker='o', markersize=5, label='training accuracy')\n",
    "plt.fill_between(train_sizes, train_mean + train_std, train_mean - train_std, alpha=0.15, color='blue')\n",
    "\n",
    "plt.plot(train_sizes, test_mean, color='green', marker='s', markersize=5, label='validation accuracy')\n",
    "plt.fill_between(train_sizes, test_mean + test_std, test_mean - test_std, alpha=0.15, color='green')\n",
    "\n",
    "plt.grid()\n",
    "plt.xlabel(\"Number of training samples\")\n",
    "plt.ylabel(\"Accuracy\")\n",
    "plt.legend(loc=\"lower right\")\n",
    "plt.show()"
   ]
  },
  {
   "cell_type": "markdown",
   "metadata": {},
   "source": [
    "Via the ```train_sizes``` parameter in the ```learing_curve``` function, we can control the absolute or relative number of training samples that are used to generate the learning curves.\n",
    "\n",
    "By default, the ```learning_curve``` function uses the stratified k-fold cross-validation to calculate the cross-validation accuracy of a classifier.\n",
    "\n",
    "```fill_between``` indicates the variances of the estimates.\n",
    "\n",
    "As we can see in the preceding learning curve plot, our model performs quite well on both the training and validation dataset if it had seen more than 250 samples during training.  We can also see that the training accuracy increases for traiing sets with fewer than 250 samples, and the gp between validation and training accuracy widens, and indicator of an increasing degree of overfitting."
   ]
  },
  {
   "cell_type": "markdown",
   "metadata": {},
   "source": [
    "# Addressing over- and under-fitting with validation curves\n",
    "\n",
    "In validation curves, we vary the values of the model parameters, for example the inverse regularisation parameter ```C``` in logistic regression.  Let's go ahead and see how we create the validation curves via scikit-learn:"
   ]
  },
  {
   "cell_type": "code",
   "execution_count": 10,
   "metadata": {},
   "outputs": [
    {
     "name": "stdout",
     "output_type": "stream",
     "text": [
      "Train scores:\n",
      "[[0.94132029 0.93398533 0.94132029 0.93887531 0.94376528 0.94146341\n",
      "  0.94146341 0.94390244 0.94146341 0.93902439]\n",
      " [0.97310513 0.97066015 0.97066015 0.96821516 0.97799511 0.97560976\n",
      "  0.97317073 0.96585366 0.97073171 0.97073171]\n",
      " [0.98533007 0.98533007 0.98533007 0.98288509 0.98777506 0.98780488\n",
      "  0.98780488 0.98292683 0.98536585 0.98536585]\n",
      " [0.98777506 0.98777506 0.99022005 0.99022005 0.99022005 0.9902439\n",
      "  0.9902439  0.98780488 0.9902439  0.98780488]\n",
      " [0.98533007 0.98777506 0.98533007 0.99266504 0.99266504 0.9902439\n",
      "  0.9902439  0.98780488 0.9902439  0.98780488]\n",
      " [0.99022005 0.99022005 0.99022005 0.99511002 1.         0.9902439\n",
      "  0.9902439  0.99512195 0.99268293 0.98780488]]\n",
      "\n",
      "Test scores:\n",
      "[[0.93478261 0.93478261 0.93478261 0.95652174 0.86956522 0.93333333\n",
      "  0.97777778 0.93333333 0.95555556 0.97777778]\n",
      " [0.93478261 0.97826087 0.97826087 0.97826087 0.93478261 0.95555556\n",
      "  0.97777778 1.         0.97777778 1.        ]\n",
      " [0.97826087 1.         0.97826087 0.95652174 0.95652174 0.95555556\n",
      "  0.97777778 1.         1.         1.        ]\n",
      " [1.         0.97826087 1.         0.97826087 0.93478261 0.95555556\n",
      "  0.97777778 0.97777778 1.         1.        ]\n",
      " [0.95652174 0.97826087 1.         0.95652174 0.93478261 0.95555556\n",
      "  0.97777778 0.95555556 1.         1.        ]\n",
      " [0.95652174 0.95652174 0.97826087 0.93478261 0.93478261 0.97777778\n",
      "  0.95555556 0.93333333 0.95555556 0.97777778]]\n"
     ]
    },
    {
     "data": {
      "image/png": "[encoded data removed]",
      "text/plain": [
       "<Figure size 432x288 with 1 Axes>"
      ]
     },
     "metadata": {},
     "output_type": "display_data"
    }
   ],
   "source": [
    "from sklearn.model_selection import validation_curve\n",
    "param_range = [0.001, 0.01, 0.1, 1.0, 10.0, 100.0]\n",
    "train_scores, test_scores = validation_curve(estimator=pipe_lr,\n",
    "                                            X=X_train,\n",
    "                                            y=y_train,\n",
    "                                            param_name='logisticregression__C',\n",
    "                                            param_range=param_range,\n",
    "                                            cv=10,\n",
    "                                            n_jobs=-1)\n",
    "print(\"Train scores:\\n{}\".format(train_scores))\n",
    "print(\"\\nTest scores:\\n{}\".format(test_scores))\n",
    "\n",
    "train_mean = np.mean(train_scores, axis=1)  # hop over the columns to get the mean\n",
    "train_std = np.std(train_scores, axis=1)\n",
    "\n",
    "test_mean = np.mean(test_scores, axis=1)\n",
    "test_std = np.std(test_scores, axis=1)\n",
    "\n",
    "plt.plot(param_range, train_mean, color='blue', marker='o', markersize=5, label='training accuracy')\n",
    "plt.fill_between(param_range, train_mean + train_std, train_mean - train_std, alpha=0.15, color='blue')\n",
    "\n",
    "plt.plot(param_range, test_mean, color='green', linestyle='--', marker='s', markersize=5, label='validation_accuracy')\n",
    "plt.fill_between(param_range, test_mean + test_std, test_mean - test_std, alpha=0.15, color='green')\n",
    "\n",
    "plt.grid()\n",
    "plt.xscale('log')\n",
    "plt.legend(loc='lower right')\n",
    "plt.xlabel('Parmater C')\n",
    "plt.ylabel('Accuracy')\n",
    "plt.ylim([0.8, 1.03])\n",
    "plt.show()"
   ]
  },
  {
   "cell_type": "markdown",
   "metadata": {},
   "source": [
    "Although the differences in the accuracy for the varying values of ```C``` are subtle, we can see that the model slightly underfits the data when we increase the regularisation strength (small values of ```C```).  However, for large values of ```C```, it means lowering the strength of regularisation, so the model slightly overfits the data.  In this case the sweet appears to be between ```0.01``` and ```0.1``` of the ```C``` value."
   ]
  },
  {
   "cell_type": "markdown",
   "metadata": {},
   "source": [
    "# Tuning hyperparameters via grid search\n",
    "\n",
    "The approach of the grid search is quite simple; it's a brute-force exhaustive search paradigm where we specify a list of values for different hyperparameters, and the computer evaluates the model performance for each possible combination of those to obtain the optimal combination of values from this set:"
   ]
  },
  {
   "cell_type": "code",
   "execution_count": 11,
   "metadata": {},
   "outputs": [
    {
     "name": "stdout",
     "output_type": "stream",
     "text": [
      "0.9846153846153847\n",
      "{'svc__C': 100, 'svc__gamma': 0.001, 'svc__kernel': 'rbf'}\n"
     ]
    }
   ],
   "source": [
    "from sklearn.model_selection import GridSearchCV\n",
    "from sklearn.svm import SVC\n",
    "\n",
    "pipe_svc = make_pipeline(StandardScaler(),\n",
    "                        SVC(random_state=1))\n",
    "param_range = [0.0001, 0.001, 0.01, 0.1, 1, 10, 100, 1000]\n",
    "param_grid = [{'svc__C': param_range,\n",
    "              'svc__kernel': ['linear']},\n",
    "              {'svc__C': param_range,\n",
    "              'svc__gamma': param_range,\n",
    "              'svc__kernel': ['rbf']}]\n",
    "# C: Penalty parameter C of the error term.\n",
    "# gamma: kernel coefficient for 'rbf'.\n",
    "# C-support vector classification.\n",
    "\n",
    "gs = GridSearchCV(estimator=pipe_svc,\n",
    "                 param_grid=param_grid,\n",
    "                 scoring='accuracy',\n",
    "                 cv=10,\n",
    "                 n_jobs=-1)\n",
    "\n",
    "gs = gs.fit(X_train, y_train)\n",
    "print(gs.best_score_)\n",
    "\n",
    "print(gs.best_params_)"
   ]
  },
  {
   "cell_type": "markdown",
   "metadata": {},
   "source": [
    "Finally, we will use the independent test dataset to estimate the performance of the best-selected model, wich is available via the ```best_estimator_``` attribute of the ```GridSearchCV``` object:"
   ]
  },
  {
   "cell_type": "code",
   "execution_count": 12,
   "metadata": {},
   "outputs": [
    {
     "name": "stdout",
     "output_type": "stream",
     "text": [
      "Test Accuracy: 0.974\n"
     ]
    }
   ],
   "source": [
    "clf = gs.best_estimator_\n",
    "clf.fit(X_train, y_train)\n",
    "print(\"Test Accuracy: {:.3f}\".format(clf.score(X_test, y_test)))"
   ]
  },
  {
   "cell_type": "markdown",
   "metadata": {},
   "source": [
    "# Algorithm Selection with Nested Cross-Validation\n",
    "\n",
    "If we want to select among different machine learning algorithms, though, another recommended approach is nested cross-validation.\n",
    "\n",
    "In nested cross-validation, we have an outer k-fold cross validation loop to split the data into training and test folds, and an inner loop is used to select the model using k-fold cross-validation on the training fold.  After model selection, the test fold is then used to evaluate the model performance.\n",
    "\n",
    "The following figure explains the concept of nested cross-validation with only five outer and two inner folds.  This particular type of nested cross-validation is also known as **5x2 cross validation**\n",
    "<img src=\"images/06_07.png\" alt=\"nested_cv\" style=\"width: 500px;\"/>\n",
    "\n",
    "In scikit-learn, we can perform nested cross-validation as follows:"
   ]
  },
  {
   "cell_type": "code",
   "execution_count": 13,
   "metadata": {},
   "outputs": [
    {
     "name": "stdout",
     "output_type": "stream",
     "text": [
      "CV accuracy: 0.974 +/- 0.015\n"
     ]
    }
   ],
   "source": [
    "gs = GridSearchCV(estimator=pipe_svc,\n",
    "                 param_grid=param_grid,\n",
    "                 scoring=\"accuracy\",\n",
    "                 cv=2)\n",
    "\n",
    "scores = cross_val_score(gs, X_train, y_train,\n",
    "                        scoring=\"accuracy\", cv=5)\n",
    "print(\"CV accuracy: {:.3f} +/- {:.3f}\".format(np.mean(scores), np.std(scores)))"
   ]
  },
  {
   "cell_type": "markdown",
   "metadata": {},
   "source": [
    "The returned average cross-validation accuracy gives us a good estimate of what to expect if we tune the hyperparameters of a model and us it on unseen data.  Fo example, we can use the nested cross-validation approach to compare an SVM model to a simple decision tree classifier; for simplicity we will only tune its depth parameter:"
   ]
  },
  {
   "cell_type": "code",
   "execution_count": 14,
   "metadata": {},
   "outputs": [
    {
     "name": "stdout",
     "output_type": "stream",
     "text": [
      "CV accuracy: 0.934 +/- 0.016\n"
     ]
    }
   ],
   "source": [
    "from sklearn.tree import DecisionTreeClassifier\n",
    "\n",
    "gs = GridSearchCV(estimator=DecisionTreeClassifier(random_state=0),\n",
    "                 param_grid=[{\"max_depth\": [1,2,3,4,5,6,7,None]}],\n",
    "                 scoring=\"accuracy\",\n",
    "                 cv=2)\n",
    "\n",
    "scores = cross_val_score(gs, X_train, y_train,\n",
    "                       scoring=\"accuracy\",\n",
    "                       cv=5)\n",
    "\n",
    "print(\"CV accuracy: {:.3f} +/- {:.3f}\".format(np.mean(scores), np.std(scores)))"
   ]
  },
  {
   "cell_type": "markdown",
   "metadata": {},
   "source": [
    "As we can see, the nested cross-validation performance of the SVM model (97.4 percent) is notably better than the performance of the decision tree (93.4 percent), and thus, we'd expect that it might be the better choice to classify new data that comes from the same population as this particular dataset."
   ]
  },
  {
   "cell_type": "markdown",
   "metadata": {},
   "source": [
    "# Looking at different performance evluation metrics.\n",
    "\n",
    "However, there are several other performance metrics that can be used to measure a model's revelance, such as precision, recall, and the F1-score.\n",
    "\n",
    "## Reading a confusion matrix\n",
    "A confusion matrix is a matrix that lays out the performance of a learning algorithm.  It is simply a squre matrix that reports the counts of the True Positive (TP), True Negative (TN), False Positive (FP), and False Negative (FN) predictions of a classifier, as shown in the following figure:\n",
    "<img src=\"images/06_08.png\" alt=\"confusion_matrix\" style=\"width: 500px;\"/>\n",
    "\n",
    "Although these metrics can be easily computed manually by comparing the true and predicted class labels, scikit-learn provices a convenient confusion_matrix function that we can use as follows:"
   ]
  },
  {
   "cell_type": "code",
   "execution_count": 15,
   "metadata": {},
   "outputs": [
    {
     "name": "stdout",
     "output_type": "stream",
     "text": [
      "[[71  1]\n",
      " [ 2 40]]\n"
     ]
    }
   ],
   "source": [
    "from sklearn.metrics import confusion_matrix\n",
    "\n",
    "pipe_svc.fit(X_train, y_train)\n",
    "y_pred = pipe_svc.predict(X_test)\n",
    "confmat = confusion_matrix(y_true=y_test, y_pred=y_pred)\n",
    "print(confmat)"
   ]
  },
  {
   "cell_type": "markdown",
   "metadata": {},
   "source": [
    "The array that was returned after executing the code provides us with information about the different types of error the classifier made on the test dataset.  We can mapt this information onto the confusion matrix illustration in the previous figure using Matplotlib's ```matshow``` function:"
   ]
  },
  {
   "cell_type": "code",
   "execution_count": 16,
   "metadata": {},
   "outputs": [
    {
     "data": {
      "image/png": "[encoded data removed]",
      "text/plain": [
       "<Figure size 180x180 with 1 Axes>"
      ]
     },
     "metadata": {},
     "output_type": "display_data"
    }
   ],
   "source": [
    "fig, ax = plt.subplots(figsize=(2.5, 2.5))\n",
    "ax.matshow(confmat, cmap=plt.cm.Blues, alpha=0.3)\n",
    "for i in range(confmat.shape[0]):\n",
    "    for j in range(confmat.shape[1]):\n",
    "        ax.text(x=j, y=i, s=confmat[i, j],\n",
    "               va='center', ha='center')\n",
    "plt.xlabel('predicted label')\n",
    "plt.ylabel('True label')\n",
    "plt.show()"
   ]
  },
  {
   "cell_type": "markdown",
   "metadata": {},
   "source": [
    "Assuming that class 1 (malignant) is the positive class in this example, our model correctly classified 71 of the samples that belong to class 0 (TNs) and 40 samples that belong to class 1 (TPs), respectively.  However, our model also incorrectly misclassified two samples from class 1 as class 0 (FN), and it predicted that one sample is malignant although it is a beign tumor (FP).  In the next section, we will learn how we can use this information to calculate various error metrics."
   ]
  },
  {
   "cell_type": "markdown",
   "metadata": {},
   "source": [
    "# Optimising the precision and recall of a classification model.\n",
    "\n",
    "Error can be userstood as the sum of all false predictions divided by the number of total predictions, and the accuracy is calculated as the sum of correc predictions divided by the total number of predictions, respectively:\n",
    "$$\n",
    "ERR = \\frac{FP+FN}{FP+FN+TP+TN}\n",
    "$$\n",
    "The prediction accuracy can then be calculated directly from the error:\n",
    "$$\n",
    "ACC = \\frac{TP+TN}{FP+FN+TP+TN} = 1 - ERR\n",
    "$$\n",
    "\n",
    "The True Positive Rate and False Positive Rate are performance metrics that are especially useful for imbalanced class problems:\n",
    "$$\n",
    "FPR = \\frac{FP}{N} = \\frac{FP}{FP + TN}\n",
    "$$\n",
    "$$\n",
    "TPR = \\frac{TP}{P} = \\frac{TP}{FN + TP}\n",
    "$$\n",
    "\n",
    "In rumor diagnosis, for example, we are more concerned about the detection of malignant tumors in order to help a patient with the appropriate treatment.  However, it is also important to decrease the number of benign tumors that were incorrectly classified as malignant (FPs) to no unnecessarily concern a patient.\n",
    "\n",
    "In contrast to FPR, TPR provides useful information about the fraction of positive (or relevant) samples that were correctly identified out of the total pool of positives (P).\n",
    "\n",
    "The performance metrics **precision (PRE)**, and **recall (REC)** are related to those true positive and negative rates, and in fact, REC is synonymous with TPR:\n",
    "$$\n",
    "PRE = \\frac{TP}{TP + FP}\n",
    "$$\n",
    "$$\n",
    "REC = TPR = \\frac{TP}{P} = \\frac{TP}{FN + TP}\n",
    "$$\n",
    "\n",
    "In practice, often a combination of the PRE and REC is used, the so-called **F1-Score**\n",
    "$$\n",
    "F1 = 2\\frac{PRE\\times REC}{PRE + REC}\n",
    "$$\n",
    "Those scoring metrics are all implemented in scikit-learn and can be imported from ```sklearn.metrics``` module as shown in the following snippet:"
   ]
  },
  {
   "cell_type": "code",
   "execution_count": 17,
   "metadata": {},
   "outputs": [
    {
     "name": "stdout",
     "output_type": "stream",
     "text": [
      "Precision: 0.976, Recall: 0.952, F1: 0.964.\n"
     ]
    }
   ],
   "source": [
    "from sklearn.metrics import precision_score\n",
    "from sklearn.metrics import recall_score, f1_score\n",
    "\n",
    "print(\"Precision: {:.3f}, Recall: {:.3f}, F1: {:.3f}.\".format(precision_score(y_true=y_test,\n",
    "                                                                              y_pred=y_pred),\n",
    "                                                 recall_score(y_true=y_test,\n",
    "                                                              y_pred=y_pred),\n",
    "                                                 f1_score(y_true=y_test,\n",
    "                                                          y_pred=y_pred)))"
   ]
  },
  {
   "cell_type": "markdown",
   "metadata": {},
   "source": [
    "Remember that the positive class in scikit-learn is the class that is labeled as class 1.  If we want to specify a different _positive label_, we can construct our own scorer via the ```make_scorer``` function, which we can then directly provide as an argument to the scoring paramemter in ```GridSearchCV``` (in this example, using the ```f1_score``` as a metric):"
   ]
  },
  {
   "cell_type": "code",
   "execution_count": 18,
   "metadata": {},
   "outputs": [
    {
     "name": "stdout",
     "output_type": "stream",
     "text": [
      "0.9880219137963148\n",
      "{'svc__C': 100, 'svc__gamma': 0.001, 'svc__kernel': 'rbf'}\n"
     ]
    }
   ],
   "source": [
    "from sklearn.metrics import make_scorer, f1_score\n",
    "scorer = make_scorer(f1_score, pos_label=0)\n",
    "gs = GridSearchCV(estimator=pipe_svc,\n",
    "                 param_grid=param_grid,\n",
    "                 scoring=scorer,\n",
    "                 cv=10)\n",
    "fs = gs.fit(X_train, y_train)\n",
    "print(gs.best_score_)\n",
    "print(gs.best_params_)"
   ]
  },
  {
   "cell_type": "markdown",
   "metadata": {},
   "source": [
    "# Plotting a Receiver Operating Characteristic\n",
    "\n",
    "ROC graphs are useful tools to select models for classification based on their performance with respect to the FPR and TPR, which are computed by shifting the decision threshold of the classifier.  The diagonal of an ROC graph can be interpreted as _random guessing_, and classification models that fall below the diagonal are considered worse than random guessing.  A perfect classifier would fall into the top left corner of the graph with a TPR of 1 and an FPR of 0.  Based on the ROC curve, we can then compute the so-called ROC Area Under the Curve (ROC AUC) to characterize the performance of a classification model.\n",
    "\n",
    "Execuitng the following code example, we will plot an ROC curve of a classifier that only uses 2 features from the Breast Cancer Wisconsin dataset to predict whether a tumor is bening or malignant.  Although we are going to use the same logisitic regression pipeline that we defined previously, we are making the classification task more challenging for the classifier so that the resulting ROC curve becomes visually more interesting.  For similar reasons, we are also reducing the number of folds in the ```StratifiedKFold``` validator to 3.  The code is as follows:"
   ]
  },
  {
   "cell_type": "code",
   "execution_count": 26,
   "metadata": {},
   "outputs": [
    {
     "data": {
      "image/png": "[encoded data removed]",
      "text/plain": [
       "<Figure size 504x360 with 1 Axes>"
      ]
     },
     "metadata": {},
     "output_type": "display_data"
    }
   ],
   "source": [
    "from sklearn.metrics import roc_curve, auc\n",
    "from scipy import interp\n",
    "\n",
    "pipe_lr = make_pipeline(StandardScaler(),\n",
    "                       PCA(n_components=2),\n",
    "                       LogisticRegression(penalty='l2',\n",
    "                                         random_state=1,\n",
    "                                         C=100.0))\n",
    "\n",
    "X_train2 = X_train[:, [4, 14]]\n",
    "cv = list(StratifiedKFold(n_splits=3,\n",
    "                         random_state=1).split(X_train,\n",
    "                                              y_train))\n",
    "# cv is a list of 2-element tuples.  There are 3 tuples stored in this list.\n",
    "# The first element of each tuple contains the train indices\n",
    "# The second element of each tuple contains the test indices\n",
    "\n",
    "fig = plt.figure(figsize=(7, 5))\n",
    "mean_tpr = 0.0\n",
    "mean_fpr = np.linspace(0, 1, 100)\n",
    "all_tpr = []\n",
    "\n",
    "for i, (train, test) in enumerate(cv):\n",
    "    probas = pipe_lr.fit(X_train2[train], y_train[train]).predict_proba(X_train2[test])\n",
    "    fpr, tpr, thresholds = roc_curve(y_train[test],\n",
    "                                    probas[:, 1],\n",
    "                                    pos_label=1)\n",
    "    mean_tpr += interp(mean_fpr, fpr, tpr)\n",
    "    mean_tpr[0] = 0.0\n",
    "    roc_auc = auc(fpr, tpr)\n",
    "    plt.plot(fpr, tpr, label=\"ROC fold {:d} (area = {:.2f})\".format(i+1, roc_auc))\n",
    "    \n",
    "plt.plot([0,1], [0,1], linestyle=\"--\", color=(0.6,0.6,0.6), label=\"random guessing\")\n",
    "\n",
    "mean_tpr /= len(cv)\n",
    "mean_tpr[-1] = 1.0\n",
    "mean_auc = auc(mean_fpr, mean_tpr)\n",
    "plt.plot(mean_fpr, mean_tpr, 'k--', label=\"mean ROC (area = {:.2f})\".format(mean_auc), lw=2)\n",
    "\n",
    "plt.plot([0,0,1], [0,1,1], linestyle=':', color='black', label=\"perfect performance\")\n",
    "\n",
    "plt.xlim([-0.05, 1.05])\n",
    "plt.ylim([-0.05, 1.05])\n",
    "plt.xlabel('False Positive Rate')\n",
    "plt.ylabel('True Positive Rate')\n",
    "plt.legend(loc=\"lower right\")\n",
    "plt.show()"
   ]
  },
  {
   "cell_type": "markdown",
   "metadata": {},
   "source": [
    "The resulting ROC curve indicates there is a certain degree of variance between the different folds, and the average ROC (0.76) falls between the perfect score (1.0) and random guessing (0.5).\n",
    "\n",
    "Note that if we are just interested in the ROC AUC score, we could also directly import the ```roc_auc_score``` function from the ```sklearn.metrics``` submodule."
   ]
  },
  {
   "cell_type": "code",
   "execution_count": 20,
   "metadata": {},
   "outputs": [
    {
     "data": {
      "image/jpeg": "[encoded data removed]",
      "text/html": [
       "\n",
       "        <iframe\n",
       "            width=\"400\"\n",
       "            height=\"300\"\n",
       "            src=\"https://www.youtube.com/embed/OAl6eAyP-yo\"\n",
       "            frameborder=\"0\"\n",
       "            allowfullscreen\n",
       "        ></iframe>\n",
       "        "
      ],
      "text/plain": [
       "<IPython.lib.display.YouTubeVideo at 0x7fd11f5bfeb8>"
      ]
     },
     "execution_count": 20,
     "metadata": {},
     "output_type": "execute_result"
    }
   ],
   "source": [
    "YouTubeVideo('OAl6eAyP-yo')"
   ]
  },
  {
   "cell_type": "markdown",
   "metadata": {},
   "source": [
    "# Scoring metrics for multiclass classification\n",
    "\n",
    "Scikit-learn also implements macro and micro averaging methods to extend those scoring metrics to multiclass problems via (One-versus-All) classification.  The micro-averaging is calculated from the individual TPs, TNs, FPs, and FNs of the system.  For example, the micro-average of the precision score in a k-class system can be calculated as follows:\n",
    "$$\n",
    "PRE_{micro} = \\frac{TP_1 + \\cdot\\cdot\\cdot + TP_k}{TP_1 + \\cdot\\cdot\\cdot + TP_k + FP_1 + \\cdot\\cdot\\cdot + FP_k}\n",
    "$$\n",
    "The macro average is simply calculated as the average scores of the different systems:\n",
    "$$\n",
    "PRE_{macro} = \\frac{PRE_1 + \\cdot\\cdot\\cdot + PRE_k}{k}\n",
    "$$\n",
    "\n",
    "Micro-averaging is useful if we want to weigh each instance of prediction equally, whereas macro-averaging weighs all classes equally to evaluate the overall performance of a classifier with regard to the most frequent class labels.\n",
    "\n",
    "If we are using binary performance metrics to evaluate multiclass classification models in scikit-learn, a normalised or weighted variant of the macro-average is used by default.  The weighted macro-average is calculated by weighing the score of each class label by the number of true instances when calculating the average.  The weighted macro-average is useful if we are dealing with class imbalances, that is, different numbers of instaces for each label.\n",
    "\n",
    "While the weighted macro-average is the default for multiclass problems in scikit-learn, we can specify the averaging method via the ```average``` parameter inside the different scoring functions that we import from the ```sklearn.metrics``` module, for example, the ```precision_score``` or ```make_scorer``` functions:"
   ]
  },
  {
   "cell_type": "code",
   "execution_count": 21,
   "metadata": {},
   "outputs": [],
   "source": [
    "pre_scorer = make_scorer(score_func=precision_score,\n",
    "                        pos_label=1,\n",
    "                        greater_is_better=True,\n",
    "                        average='micro')"
   ]
  },
  {
   "cell_type": "markdown",
   "metadata": {},
   "source": [
    "# Dealing with class imbalance\n",
    "\n",
    "One way to deal with imbalanced class proportions during the model fitting is to assign a larger penalty to wrong predictions on the minority class.  Via sciki-learn, adjusting such a penalty is as convenient as setting the ```class_weight``` parameter to ```class_weight='balanced'```, which is implemented for most classifiers.\n",
    "\n",
    "Other popular strategies for dealing with class imblance include upsampling the minority class, downsampling the majority class, and the generation of synthetic training samples.\n",
    "\n",
    "The scikit-learn implements a simple ```resample``` function that can help with the upsiampling of the minority class by drawing new samples from the dataset with replacement.  The following code will tae the minority class from our imbalanced breast cancer dataset (here, class 1) and repeatedly draw new sample from it until it contains the same number of samples as class label 0:"
   ]
  },
  {
   "cell_type": "code",
   "execution_count": 28,
   "metadata": {},
   "outputs": [
    {
     "name": "stdout",
     "output_type": "stream",
     "text": [
      "y_imb:\n",
      "[0 0 0 0 0 0 0 0 0 0 0 0 0 0 0 0 0 0 0 0 0 0 0 0 0 0 0 0 0 0 0 0 0 0 0 0 0\n",
      " 0 0 0 0 0 0 0 0 0 0 0 0 0 0 0 0 0 0 0 0 0 0 0 0 0 0 0 0 0 0 0 0 0 0 0 0 0\n",
      " 0 0 0 0 0 0 0 0 0 0 0 0 0 0 0 0 0 0 0 0 0 0 0 0 0 0 0 0 0 0 0 0 0 0 0 0 0\n",
      " 0 0 0 0 0 0 0 0 0 0 0 0 0 0 0 0 0 0 0 0 0 0 0 0 0 0 0 0 0 0 0 0 0 0 0 0 0\n",
      " 0 0 0 0 0 0 0 0 0 0 0 0 0 0 0 0 0 0 0 0 0 0 0 0 0 0 0 0 0 0 0 0 0 0 0 0 0\n",
      " 0 0 0 0 0 0 0 0 0 0 0 0 0 0 0 0 0 0 0 0 0 0 0 0 0 0 0 0 0 0 0 0 0 0 0 0 0\n",
      " 0 0 0 0 0 0 0 0 0 0 0 0 0 0 0 0 0 0 0 0 0 0 0 0 0 0 0 0 0 0 0 0 0 0 0 0 0\n",
      " 0 0 0 0 0 0 0 0 0 0 0 0 0 0 0 0 0 0 0 0 0 0 0 0 0 0 0 0 0 0 0 0 0 0 0 0 0\n",
      " 0 0 0 0 0 0 0 0 0 0 0 0 0 0 0 0 0 0 0 0 0 0 0 0 0 0 0 0 0 0 0 0 0 0 0 0 0\n",
      " 0 0 0 0 0 0 0 0 0 0 0 0 0 0 0 0 0 0 0 0 0 0 0 0 1 1 1 1 1 1 1 1 1 1 1 1 1\n",
      " 1 1 1 1 1 1 1 1 1 1 1 1 1 1 1 1 1 1 1 1 1 1 1 1 1 1 1]\n",
      "Number of class 1 samples before: 40\n",
      "Number of class 1 samples after: 357\n"
     ]
    }
   ],
   "source": [
    "X_imb = np.vstack((X[y==0], X[y==1][:40]))\n",
    "y_imb = np.hstack((y[y==0], y[y==1][:40]))\n",
    "print(\"y_imb:\\n{}\".format(y_imb))\n",
    "\n",
    "from sklearn.utils import resample\n",
    "\n",
    "print(\"Number of class 1 samples before: {}\".format(X_imb[y_imb==1].shape[0]))\n",
    "\n",
    "X_upsampled, y_upsampled = resample(X_imb[y_imb==1],\n",
    "                                   y_imb[y_imb==1],\n",
    "                                   replace=True,\n",
    "                                   n_samples=X_imb[y_imb==0].shape[0],\n",
    "                                   random_state=123)\n",
    "\n",
    "print(\"Number of class 1 samples after: {}\".format(X_upsampled[y_upsampled==1].shape[0]))"
   ]
  },
  {
   "cell_type": "markdown",
   "metadata": {},
   "source": [
    "After resampling, we can then stack the original class 0 samples with the upsampled class 1 subset to obtain a balanced dataset as follows:"
   ]
  },
  {
   "cell_type": "code",
   "execution_count": 23,
   "metadata": {},
   "outputs": [],
   "source": [
    "X_bal = np.vstack((X[y==0], X_upsampled))\n",
    "y_bal = np.hstack((y[y==0], y_upsampled))"
   ]
  },
  {
   "cell_type": "markdown",
   "metadata": {},
   "source": [
    "Similarly, we could downsample the majority class by removing training examples from the dataset.  To perform downsampling using the resample function, we could simply swap the class 1 label with class 0 in the previous code example and vice versa."
   ]
  }
 ],
 "metadata": {
  "kernelspec": {
   "display_name": "Python 3",
   "language": "python",
   "name": "python3"
  },
  "language_info": {
   "codemirror_mode": {
    "name": "ipython",
    "version": 3
   },
   "file_extension": ".py",
   "mimetype": "text/x-python",
   "name": "python",
   "nbconvert_exporter": "python",
   "pygments_lexer": "ipython3",
   "version": "3.6.5"
  }
 },
 "nbformat": 4,
 "nbformat_minor": 2
}
