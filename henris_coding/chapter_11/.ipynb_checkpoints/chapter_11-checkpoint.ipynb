{
 "cells": [
  {
   "cell_type": "code",
   "execution_count": 1,
   "metadata": {},
   "outputs": [],
   "source": [
    "%matplotlib inline"
   ]
  },
  {
   "cell_type": "markdown",
   "metadata": {},
   "source": [
    "# Chapter 11: Working with Unlabeled Data: Clustering Analysis\n",
    "\n",
    "Cluster analysis is a category of **unsupervised learning** techniques that allows us to discover hidden structures in data where we do not know the right answer upfront.  The goal of clustering is to find a natural grouping in the data so that the items in the same cluster are more similar to each other than to those from different clusters.\n",
    "\n",
    "In this chapter, we will learn about the following concepts which can help us to organize data into meaningful structures:\n",
    "\n",
    "- Finding the centers of similarity using the popular k-means algorithm.\n",
    "- Taking a bottom-up approach to building hierarchical clustering trees.\n",
    "- Identifying arbitrary shapes of objects using a density-based clustering approach.\n",
    "\n",
    "## Grouping objects by similarity using k-means\n",
    "Clustering is a technique that allows us to find groups of similar objects, objects that are more related to each other than to objects in other groups.  Examples of business-oriented applications of clustering include the:\n",
    "\n",
    " - grouping of documents, music, and movies by different topics, or\n",
    " - finding customers that share similar interests based on common purchase behaviors as a basis for recommendation engines.\n",
    " \n",
    "## K-means clustering using scikit-learn\n",
    "The k-means algorithm belongs to the category of **prototype-based clustering**.  We will discuss two other categories of clustering, **hierarchical** and **density-based clustering**, later in this chapter.\n",
    "\n",
    "Prototype-based clustering means that each cluster is represented by a prototype, which can either be the **centroid** (_average_) of similar points with continuous features, or the **medoid** (the most _representative_ or most frequently occuring point) in the case of categorical features.  While k-means is very good at identifying clusters with a spherical shpae, one of the drawbacks of this clustering algorithm is that we have to specify the number of clusters, $k$, _a priori._\n",
    "\n",
    "Later in this chapter, we will discuss the **elbow** method and **silhouette plots**, which are useful techniques to evaluate the quality of a clustering to help us determine the optimal number of clusters $k$.\n",
    "\n",
    "We will walk through the following examples using a simple 2-dimensional dataset for the purpose of visualisation:"
   ]
  },
  {
   "cell_type": "code",
   "execution_count": 2,
   "metadata": {},
   "outputs": [
    {
     "data": {
      "image/png": "[encoded data removed]",
      "text/plain": [
       "<Figure size 432x288 with 1 Axes>"
      ]
     },
     "metadata": {},
     "output_type": "display_data"
    }
   ],
   "source": [
    "from sklearn.datasets import make_blobs\n",
    "X, y = make_blobs(n_samples=150,\n",
    "                  n_features=2,\n",
    "                  centers=3,\n",
    "                  cluster_std=0.5,\n",
    "                  shuffle=True,\n",
    "                  random_state=0)\n",
    "\n",
    "import matplotlib.pyplot as plt\n",
    "plt.scatter(X[:,0],\n",
    "            X[:,1],\n",
    "            c=\"white\",\n",
    "            marker=\"o\",\n",
    "            edgecolor=\"black\",\n",
    "            s=50)\n",
    "\n",
    "plt.grid()\n",
    "plt.show()"
   ]
  },
  {
   "cell_type": "markdown",
   "metadata": {},
   "source": [
    "The dataset we just created consists of 150 randomly generated points that are roughly grouped into 3 regions with higher density, which is visualised via a 2D scatterplot.\n",
    "\n",
    "In real-world applications of clustering, we do not have any ground truth category information (information provided as empirical evidence as opposed to inference).\n",
    "\n",
    "The k-means algorithm can be summarised by the following four steps:\n",
    "1. Randomly pick $k$ centroids from the sample points as initial cluster centers.\n",
    "2. Assign each sample to the nearest cenroid $\\mu^{(j)}$, $j \\in \\left\\{ 1, \\ldots, k \\right\\}$.\n",
    "3. Move the centroids to the center of the samples that were assigned to it.\n",
    "4. Repeat steps 2 and 3 until the cluster assignments do not change or a user-defined tolerance or maximum number of iterations has been reached.\n",
    "\n",
    "Now the next questionis _how do we measure the similarity between objects?_ We can define similarity as the opposite of distance, and a commonly used distance for clustering samples with continuous features is the **squared Euclidean distance** between 2 points $\\mathbf{x}$ and $\\mathbf{y}$ in $m$-dimensional space.\n",
    "\n",
    "$$\n",
    "d\\left( \\mathbf{x}, \\mathbf{y} \\right)^2 = \\sum_{j=1}^{m}\\left( x_j - y_j \\right)^2 = \\Vert \\mathbf{x} - \\mathbf{y} \\Vert_2^2\n",
    "$$\n",
    "\n",
    "Note that in the preceding equqtion, the index $j$ refers to the $j$th dimension (feature column) of the sample points $\\mathbf{x}$ and $\\mathbf{y}$.  In the rest of this section, we will use the superscripts $i$ and $j$ to refer to the sample index and cluster index, respectively.\n",
    "\n",
    "Based on this Euclidean distance metric, we can describe the k-means algorithm as a simple optimisation problem, and iterative approach for minimising the within-cluster **Sum of Squared Errors (SSE)**, which is sometimes also called the **cluster inertia**:\n",
    "\n",
    "$$\n",
    "SSE = \\sum_{i=1}^{n}\\sum_{j=1}^{k}w^{(i,j)}\\Vert \\mathbf{x}^{(i)} - \\mathbf{\\mu}^{(j)} \\Vert_2^2\n",
    "$$\n",
    "Here $\\mathbf{\\mu}^{(j)}$ is the representative point (centroid) for cluster $j$, and $w^{(i,j)} = 1$ if the sample $\\mathbf{x}^{(i)}$ is in cluster $j$; $w^{(i,j)} = 0$ otherwise.\n",
    "\n",
    "Now that we have learned how the classic k-means algorithm works, let's apply it to our sample dataset using the ```KMeans``` class from scikit-learn's ```cluster``` module:"
   ]
  },
  {
   "cell_type": "code",
   "execution_count": 3,
   "metadata": {},
   "outputs": [],
   "source": [
    "from sklearn.cluster import KMeans\n",
    "km = KMeans(n_clusters=3,\n",
    "            init=\"random\",\n",
    "            n_init=10,\n",
    "            max_iter=300,\n",
    "            tol=1e-04,\n",
    "            random_state=0)\n",
    "y_km = km.fit_predict(X)"
   ]
  },
  {
   "cell_type": "markdown",
   "metadata": {},
   "source": [
    "In the above code, we set the desired number of clusters equal to 3 via ```n_clusters=3```.\n",
    "\n",
    "```n_init=10```:  We run the k-means algorithm 10 times independently.  We choose the final model as the one with the lowest $SSE$.\n",
    "\n",
    "```max_iter=300```:  The maximum number of iterations in each single run.  The implementation stops early if it converges after before ```max_iter``` is reached.\n",
    "\n",
    "```tol=1e-04```:  Controls the tolerance with regard to changes in the within-cluster SSE to declare convergence.  One way to deal with problems of convergence is to increase the tolerance paramemter ```tol```.\n",
    "\n",
    "```y_km = km.fit_predict(X)```:  We predicted the cluster labels ```y_km```.\n",
    "\n",
    "A problem with k-means is that one or more clusters can be empty.  If a cluster is empty, the algorithm will serach for the sample that is the farthest away from the centroid of the empty cluster.  Then it will reassign the centroid to be this farthest point.\n",
    "\n",
    "It is also important to make sure that the features are measured on the same scale, and apply z-score standardisation or min-max scaling if necessary.\n",
    "\n",
    "Let us now visualise the clusters that the k-means identified in the dataset together with the cluster centroids.  These are stored under the ```cluster_centers_``` attribute of the fitted ```KMeans``` object."
   ]
  },
  {
   "cell_type": "code",
   "execution_count": 4,
   "metadata": {},
   "outputs": [
    {
     "data": {
      "image/png": "[encoded data removed]",
      "text/plain": [
       "<Figure size 432x288 with 1 Axes>"
      ]
     },
     "metadata": {},
     "output_type": "display_data"
    }
   ],
   "source": [
    "plt.scatter(X[y_km == 0, 0],\n",
    "            X[y_km == 0, 1],\n",
    "            s=50, c=\"lightgreen\",\n",
    "            marker=\"s\", edgecolor=\"black\",\n",
    "            label=\"Cluster 1\")\n",
    "\n",
    "plt.scatter(X[y_km == 1, 0],\n",
    "            X[y_km == 1, 1],\n",
    "            s=50, c=\"orange\",\n",
    "            marker=\"o\", edgecolor=\"black\",\n",
    "            label=\"Cluster 2\")\n",
    "\n",
    "plt.scatter(X[y_km == 2, 0],\n",
    "            X[y_km == 2, 1],\n",
    "            s=50, c=\"lightblue\",\n",
    "            marker=\"v\", edgecolor=\"black\",\n",
    "            label=\"Cluster 3\")\n",
    "\n",
    "plt.scatter(km.cluster_centers_[:, 0], km.cluster_centers_[:,1],\n",
    "            s=250, marker=\"*\",\n",
    "            c=\"red\", edgecolor=\"black\",\n",
    "            label=\"Centroids\")\n",
    "\n",
    "plt.legend(loc=\"lower left\")\n",
    "plt.grid()\n",
    "plt.show()"
   ]
  },
  {
   "cell_type": "markdown",
   "metadata": {},
   "source": [
    "In the scatterplot, we can see that the k-means placed the 3 centroids at the center of each sphere, which looks like a reasonable grouping given this dataset.\n",
    "\n",
    "The number of clusters to choose may not always be so obvious in real-world applications especially if we are working with a higher dimnesionalo dataset that cannot be visualised.\n",
    "\n",
    "Other properties of k-means are that the clusters do not overlap and are not hierarchical, and we also assume that there is at least one item in each cluster.\n",
    "\n",
    "## A smarter way of placing the initial cluster centroids using the k-means++ algorithm\n",
    "\n",
    "One strategy is to place the initial centroids far away from each other via the k-means++ algorithm, which leads to better and more consistent results than the classic k-means algorithm.\n",
    "\n",
    "The initialisation in k-means++ can be summarised in the following 6 steps:\n",
    "1. Initialise an empty set $\\mathbf{M}$ to store the $k$ centroids being selected.\n",
    "2. Randomly choose the first centroid $\\mathbf{\\mu}^{(j)}$ from the input samples and assign it to $\\mathbf{M}$.\n",
    "3. For each sample $\\mathbf{x}^{(i)}$ that is not in $\\mathbf{M}$, find the minimum squared distance $d\\left( \\mathbf{x}^{(i)},\\mathbf{M} \\right)^2$ to any of the centroids in $\\mathbf{M}$.\n",
    "4. To randomly select the next centroid $\\mu^{(p)}$, use a weighted probability distribution equal to $\\frac{d\\left( \\mathbf{\\mu}^{(p)}, \\mathbf{M} \\right)^2}{\\sum_i d\\left( \\mathbf{x}^{(i)}, \\mathbf{M} \\right)^2}$.\n",
    "5. Repeat steps 2 and 3 until $k$ centroids are chosen.\n",
    "6. Proceed with the classic k-means algorithm.\n",
    "\n",
    "To use the k-means++ with scikit-learns's ```KMeans``` object, we just need to set the ```init``` parameter to ```'k-means++'```.  In fact, ```'k-means++'``` is the default argument to the ```init``` parameter, which is strongly recommended in practice.  To enforce the **classic** k-means algorithm, you need to set ```init='random'```.\n",
    "\n",
    "## Hard versus Soft Clustering\n",
    "\n",
    "**Hard clustering** describes a family of algorithms where each sample in a dataset is assigned to exactly one cluster.  In contrast, algorithms for **soft clustering** assign a sample to one or more clusters.  A popular example of soft clustering is the **fuzzy C-means (FCM)** algorithm (also called the **soft k-means** or **fuzzy k-means**.)\n",
    "\n",
    "The FCM procedure is very similar to k-means.  However, we replace the hard cluster assignment with prbabilities for each point belonging to each cluster.  In the k-means, we could express the cluster membership of a sample $x$ with a sparse vector of binary values:\n",
    "\n",
    "$$\n",
    "\\begin{bmatrix}\n",
    "\\mathbf{\\mu}^{(1)} \\rightarrow 0 \\\\\n",
    "\\mathbf{\\mu}^{(2)} \\rightarrow 1 \\\\\n",
    "\\mathbf{\\mu}^{(3)} \\rightarrow 0 \\\\\n",
    "\\end{bmatrix}\n",
    "$$\n",
    "\n",
    "In contrast, a membership vector in FCM could be represented as follows:\n",
    "\n",
    "$$\n",
    "\\begin{bmatrix}\n",
    "\\mathbf{\\mu}^{(1)} \\rightarrow 0.10 \\\\\n",
    "\\mathbf{\\mu}^{(2)} \\rightarrow 0.85 \\\\\n",
    "\\mathbf{\\mu}^{(3)} \\rightarrow 0.05 \\\\\n",
    "\\end{bmatrix}\n",
    "$$\n",
    "\n",
    "We can summarise the FCM algorithm in 4 key steps:\n",
    "1. Specify the number of $k$ centroids and randomly assing the cluster membership for each point.\n",
    "2. Compute the cluster centroids $\\mathbf{\\mu}^{(j)},j \\in \\left\\{ 1, \\ldots, k \\right\\}$.\n",
    "3. Update the cluster memberships for each point.\n",
    "4. Repeat steps 2 and 3 until the membership coefficients do not change, or a user-defined tolerance or maximum number of iterations is reached.\n",
    "\n",
    "The objective function of FCM is mathematically defined as follows:\n",
    "$$\n",
    "J_m = \\sum_{i=1}^{n}\\sum_{j=1}^{k}w^{m(i,j)}\\Vert \\mathbf{x}^{(i)} - \\mathbf{\\mu}^{(j)} \\Vert_2^2\n",
    "$$\n",
    "\n",
    "Here, the membership indicator $w^{(i,j)}$ is a real value that denotes the cluster membership probability $\\left( w^{(i,j)}\\in \\left[ 0,1 \\right] \\right)$.  You also may have noticed that we added an additional exponent to $w^{(i,j)}$; the exponent $m$, any number greater than or equal to one (typically $m=2$), is the so-called **fuzziness coefficient** (or simply the **fuzzifier**) that controls the degree of _fuzziness_.  The larger the value of $m$, the smaller the cluster membership $w^{(i,j)}$ becomes, which leads to fuzzier clusters.\n",
    "\n",
    "The cluster membership probability itself is calculated as follows:\n",
    "$$\n",
    "w^{(i,j)} = \\left[ \\sum_{p=1}^{k}\\left( \\frac{\\Vert \\mathbf{x}^{(i)} - \\mathbf{\\mu}^{(j)} \\Vert_2}{\\Vert \\mathbf{x}^{(i)} - \\mathbf{\\mu}^{(p)} \\Vert_2} \\right) \\right]^{-1}\n",
    "$$\n",
    "\n",
    "The center $\\mathbf{\\mu}^{(j)}$ of a cluster itself is calcualted as the mean of all the sampled weighted by the degree to which each sample belongs to that cluster $\\left( w^{m(i,j)} \\right)$:\n",
    "$$\n",
    "\\mathbf{\\mu}^{(j)} = \\frac{\\sum_{i=1}^n w^{m(i,j)}\\mathbf{x}^{(i)}}{\\sum_{i=1}^{n}w^{m(i,j)}}\n",
    "$$\n",
    "\n",
    "It is intuitive to say that each iteration in FCM is more expensive than an iteration in k-means.  However, FCM typically requires fewer iterations overall to reach convergence.\n",
    "\n",
    "## Using the elbow method to find the optimal number of clusters\n",
    "\n",
    "To quantify the quality of clustering, we need to use intrinsic metrics -- such as the within-cluster SSE (distortion) that we discussed earlier in this chapter -- to compare the performance of different k-means clusterings.  Conveniently, we don't need to compute the within-cluster SSE explicitly when we are using scikit-learn, as it is already accessible vai the ```inertia_``` attribute after fitting a ```KMeans``` model:"
   ]
  },
  {
   "cell_type": "code",
   "execution_count": 5,
   "metadata": {},
   "outputs": [
    {
     "name": "stdout",
     "output_type": "stream",
     "text": [
      "Distortion: 72.48\n"
     ]
    }
   ],
   "source": [
    "print(\"Distortion: {:.2f}\".format(km.inertia_))"
   ]
  },
  {
   "cell_type": "markdown",
   "metadata": {},
   "source": [
    "Based on the within-cluster SSE, we can use a graphical tool, the so-called **elbow method**, to estimate the optimal number of clusters $k$ for a given task.  Intuitively, we can say that, if $k$ increases, the distortion will decrease.  This is because the samples will be closer to the centroids they are assigned to.  The idea behind the elbow method is to identify the value of $k$ where the distortion begins to increase most rapidly, which will become clearer if we plot the distortion for different values of $k$:"
   ]
  },
  {
   "cell_type": "code",
   "execution_count": 6,
   "metadata": {},
   "outputs": [
    {
     "data": {
      "image/png": "[encoded data removed]",
      "text/plain": [
       "<Figure size 432x288 with 1 Axes>"
      ]
     },
     "metadata": {},
     "output_type": "display_data"
    }
   ],
   "source": [
    "distortions = []\n",
    "for i in range(1, 11):\n",
    "    km = KMeans(n_clusters=i,\n",
    "                init=\"k-means++\",\n",
    "                n_init=10,\n",
    "                max_iter=300,\n",
    "                random_state=0)\n",
    "    km.fit(X)\n",
    "    distortions.append(km.inertia_)\n",
    "    \n",
    "plt.plot(range(1,11), distortions, marker=\"o\", color=\"steelblue\")\n",
    "plt.xlabel(\"Number of clusters\")\n",
    "plt.ylabel(\"Distortions\")\n",
    "plt.show()"
   ]
  },
  {
   "cell_type": "markdown",
   "metadata": {},
   "source": [
    "As we can see in the previous plot, the _elbow_ is located at $k=3$, which is evidence that $k=3$ is indeed a good choice for this dataset.\n",
    "\n",
    "## Quantifying the quality of clustering via the silhouette plots\n",
    "\n",
    "Another intrinsic metric to evaluate the quality of a clustering is **silhouette analysis**, which can also be applied to clustering algorithms, other than the k-means, that will be discussed later in this chapter.  Silhouette analysis can be used as a graphical tool to plot a measure of how tightly grouped the samples in the clusters are.  To calculate the **silhouette coefficient** of a single sample in our dataset, we can apply the following 3 steps:\n",
    "1. Calculate the **cluster cohesion** $a^{(i)}$ as the average distance between a sample $\\mathbf{x}^{(i)}$ and all the other points in the same cluster.\n",
    "2. Calculate the **cluster separation** $b^{(i)}$ from the next closest cluster as the average distance between the sample $\\mathbf{x}^{(i)}$ and all the samples in the nearest cluster.\n",
    "3. Calculate the silhouette $s^{(i)}$ as the difference between the cluster cohesion and separation divided by the greater of the two, as shown here:\n",
    "$$\n",
    "s^{(i)} = \\frac{b^{(i)} - a^{(i)}}{\\mathrm{max}\\left\\{ b^{(i)}, a^{(i)} \\right\\}}\n",
    "$$\n",
    "\n",
    "The silhouette coefficient is bounded in the range of -1 to +1.  The silhouette coefficient is 0 if the cluster separation and cohesion are equal $\\left( b^{(i)} = a^{(i)} \\right).$  Futhermore, we get close to an ideal silhouette coefficient of 1 if $b^{(i)} \\gg a^{(i)}$, since $b^{(i)}$ quantifies how dissimilar a sample is to other clusters, and $a^{(i)}$ tells us how similar it is to the other samples in its own cluster.\n",
    "\n",
    "The silhouette coefficient is available as ```silhouette_samples``` from scikit-learn's ```metric``` module, and optionally, the ```silhouette_scores``` function can be imported for convenience.  The ```silhouette_scores``` function calculates the average silhouette coefficient across all the samples, which is equivalent to ```numpy.mean(silhouette_samples(...))```.  By executing the following code, we will now create a plot of the silhouette coefficients for a k-means clustering with $k=3$:"
   ]
  },
  {
   "cell_type": "code",
   "execution_count": 7,
   "metadata": {},
   "outputs": [
    {
     "data": {
      "image/png": "[encoded data removed]",
      "text/plain": [
       "<Figure size 432x288 with 1 Axes>"
      ]
     },
     "metadata": {},
     "output_type": "display_data"
    }
   ],
   "source": [
    "km = KMeans(n_clusters=3,\n",
    "            init='k-means++',\n",
    "            n_init=10,\n",
    "            max_iter=300,\n",
    "            tol=1e-04,\n",
    "            random_state=0)\n",
    "y_km = km.fit_predict(X)\n",
    "\n",
    "import numpy as np\n",
    "from matplotlib import cm\n",
    "from sklearn.metrics import silhouette_samples\n",
    "cluster_labels = np.unique(y_km)\n",
    "n_clusters = cluster_labels.shape[0]\n",
    "silhouette_vals = silhouette_samples(X,\n",
    "                                     y_km,\n",
    "                                     metric='euclidean')\n",
    "y_ax_lower, y_ax_upper = 0, 0\n",
    "yticks = []\n",
    "for i, c in enumerate(cluster_labels):\n",
    "    c_silhouette_vals = silhouette_vals[y_km == c]\n",
    "    c_silhouette_vals.sort()\n",
    "    y_ax_upper += len(c_silhouette_vals)\n",
    "    color = cm.jet(float(i) / n_clusters)\n",
    "    plt.barh(range(y_ax_lower, y_ax_upper),\n",
    "             c_silhouette_vals,\n",
    "             height=1.0,\n",
    "             edgecolor='none',\n",
    "             color=color)\n",
    "    yticks.append((y_ax_lower + y_ax_upper) / 2.0)\n",
    "    y_ax_lower += len(c_silhouette_vals)\n",
    "silhouette_avg = np.mean(silhouette_vals)\n",
    "plt.axvline(silhouette_avg,\n",
    "            color=\"red\",\n",
    "            linestyle=\"--\")\n",
    "plt.yticks(yticks, cluster_labels + 1)\n",
    "plt.ylabel(\"Cluster\")\n",
    "plt.xlabel(\"Silhouette Coefficient\")\n",
    "plt.show()"
   ]
  },
  {
   "cell_type": "markdown",
   "metadata": {},
   "source": [
    "Through visual inspection of the silhouette plot, we can quickly scrutinize the sizes of the different clusters and identify clusters that contain _outliers_.  However, as we can see in the preceding plot, the silhouette coefficients are not even close to 0, which is in this case an indicator of a good clustering.  Furthermore, to summarise the goodness of our clustering, we added the average silhouette coefficient to the plot (dashed line).\n",
    "\n",
    "To see what a silhouette plot looks like for a relatively _bad_ clustering, let's seed the k-means algorithm with only 2 centroids:"
   ]
  },
  {
   "cell_type": "code",
   "execution_count": 8,
   "metadata": {},
   "outputs": [
    {
     "data": {
      "image/png": "[encoded data removed]",
      "text/plain": [
       "<Figure size 432x288 with 1 Axes>"
      ]
     },
     "metadata": {},
     "output_type": "display_data"
    }
   ],
   "source": [
    "km = KMeans(n_clusters=2,\n",
    "            init=\"k-means++\",\n",
    "            n_init=10,\n",
    "            max_iter=300,\n",
    "            tol=1e-04,\n",
    "            random_state=0)\n",
    "y_km = km.fit_predict(X)\n",
    "\n",
    "for i, color, marker in zip(range(2), [\"lightgreen\", \"orange\"], [\"s\", \"o\"]):\n",
    "    plt.scatter(X[y_km==i, 0], X[y_km==i, 1],\n",
    "                s=50, c=color, edgecolor=\"black\",\n",
    "                marker=marker, label=\"Cluster {}\".format(i+1))\n",
    "plt.scatter(km.cluster_centers_[:, 0], km.cluster_centers_[:, 1],\n",
    "            s=250, marker=\"*\", c=\"red\", label=\"Centroids\")\n",
    "plt.legend()\n",
    "plt.grid()\n",
    "plt.show()"
   ]
  },
  {
   "cell_type": "markdown",
   "metadata": {},
   "source": [
    "As we can see in the resulting plot, one of the centroids falls between 2 of the three spherical groupings of the sample points.  Although the clustering does not look completely terrible, it is suboptimal.\n",
    "\n",
    "Next, let us create the silhouette plot to evaluate the results:"
   ]
  },
  {
   "cell_type": "code",
   "execution_count": 9,
   "metadata": {},
   "outputs": [
    {
     "name": "stdout",
     "output_type": "stream",
     "text": [
      "[25.0, 100.0]\n"
     ]
    },
    {
     "data": {
      "image/png": "[encoded data removed]",
      "text/plain": [
       "<Figure size 432x288 with 1 Axes>"
      ]
     },
     "metadata": {},
     "output_type": "display_data"
    }
   ],
   "source": [
    "cluster_labels = np.unique(y_km)\n",
    "n_clusters = cluster_labels.shape[0]\n",
    "silhouette_vals = silhouette_samples(X, y_km, metric=\"euclidean\")\n",
    "\n",
    "y_ax_lower, y_ax_upper = 0, 0\n",
    "yticks = []\n",
    "\n",
    "for i, c in enumerate(cluster_labels):\n",
    "    c_silhouette_vals = silhouette_vals[y_km==c]\n",
    "    c_silhouette_vals.sort()\n",
    "    y_ax_upper += len(c_silhouette_vals)\n",
    "    color = cm.jet(i / n_clusters)\n",
    "    plt.barh(range(y_ax_lower, y_ax_upper),\n",
    "             c_silhouette_vals,\n",
    "             height=1.0,\n",
    "             edgecolor=\"none\",\n",
    "             color=color)\n",
    "    yticks.append((y_ax_lower + y_ax_upper) / 2.0)\n",
    "    y_ax_lower += len(c_silhouette_vals)\n",
    "print(yticks)\n",
    "silhouette_avg = np.mean(silhouette_vals)\n",
    "plt.axvline(silhouette_avg, color=\"red\", linestyle=\"--\")\n",
    "plt.yticks(yticks, cluster_labels + 1)\n",
    "plt.ylabel(\"Cluster\")\n",
    "plt.xlabel(\"Silhouette Coefficient\")\n",
    "plt.show()"
   ]
  },
  {
   "cell_type": "markdown",
   "metadata": {},
   "source": [
    "As we can see in the resulting plot, the silhouettes now have visibly different lengths and widths, which is evidience for a relatively _bad_ or at least _suboptimal_ clustering.\n",
    "\n",
    "## Organizing clusters as a hierarchical tree\n",
    "\n",
    "One advantage of hierarchial clustering algoritms is that it allows us to plot dendograms (visualisations of binary hierarchical clustering), which can help with the interpretation of the results by creating meaningful taxonomies.  Another useful advantage of this hierarchical approach is that we do not need to specify the number of clusters up front.\n",
    "\n",
    "Two main approaches to hierarchical clustering are **aggolmerative** and **divisive** heirarchical clustering.  In divisive hierarchical clustering, we start with one cluster that encompasses all our samples, and we iteratively split the cluster into smaller clusters until each luster only contains one sample.  In this section we will focus on agglomerative clustering, which takes the opposite approach.  We start with each sample as an individual cluster and merge the closest pairs of clusters until only one cluster remains.\n",
    "\n",
    "## Grouping clusters in a bottom-up fashion\n",
    "\n",
    "The two standard algorithms for agglomerative hierarchical clustering are **single linkage** and **complete linkage**.  Using single linkage, we can compute the distances between the most similar members for each pair of clusters and merge the two clusters for which the distance between the most similar members is the smallest.  In the complete linkage approach, we compare the most dissimilar members to perform the merge.  This is shown in the following diagram.\n",
    "<img src=\"images/11_07.png\" style=\"width:500px\">\n",
    "\n",
    "In this section, we will focus on agglomerative clustering using the complete linkage approach.  Hierarchical complete linkage clustering is an iterative procedure that can be summarised by the following steps:\n",
    "1. Compute the distance matrix of all the samples.\n",
    "2. Represent each data point as a singleton cluster.\n",
    "3. Merge the two closest clusters based on the distance between the most dissimilar members.\n",
    "4. Update the similarity matrix.\n",
    "5. Repeat steps 3-4 until one single cluster remains.\n",
    "\n",
    "Next, we will discuss how to compute the distance matrix (step 1).  But first, let's generage some random sample data to work with:  the rows represent different observations (IDs 0-4), and the columns are the different features (```X, Y, Z```) of those samples:"
   ]
  },
  {
   "cell_type": "code",
   "execution_count": 10,
   "metadata": {},
   "outputs": [
    {
     "name": "stdout",
     "output_type": "stream",
     "text": [
      "             X         Y         Z\n",
      "ID_0  6.964692  2.861393  2.268515\n",
      "ID_1  5.513148  7.194690  4.231065\n",
      "ID_2  9.807642  6.848297  4.809319\n",
      "ID_3  3.921175  3.431780  7.290497\n",
      "ID_4  4.385722  0.596779  3.980443\n"
     ]
    }
   ],
   "source": [
    "import pandas as pd\n",
    "import numpy as np\n",
    "\n",
    "np.random.seed(123)\n",
    "variables = [\"X\", \"Y\", \"Z\"]\n",
    "labels = [\"ID_0\", \"ID_1\", \"ID_2\", \"ID_3\", \"ID_4\"]\n",
    "X = np.random.random_sample([5,3]) * 10\n",
    "df = pd.DataFrame(X, columns=variables, index=labels)\n",
    "print(df)"
   ]
  },
  {
   "cell_type": "markdown",
   "metadata": {},
   "source": [
    "## Performing hierarchical clustering on a distance matrix\n",
    "\n",
    "To calculate the distance matrix as input for the hierarchical clustering algorithm, we will use the ```pdist``` functiom from SciPy's ```spatial.distance``` submodule:"
   ]
  },
  {
   "cell_type": "code",
   "execution_count": 11,
   "metadata": {},
   "outputs": [
    {
     "name": "stdout",
     "output_type": "stream",
     "text": [
      "          ID_0      ID_1      ID_2      ID_3      ID_4\n",
      "ID_0  0.000000  4.973534  5.516653  5.899885  3.835396\n",
      "ID_1  4.973534  0.000000  4.347073  5.104311  6.698233\n",
      "ID_2  5.516653  4.347073  0.000000  7.244262  8.316594\n",
      "ID_3  5.899885  5.104311  7.244262  0.000000  4.382864\n",
      "ID_4  3.835396  6.698233  8.316594  4.382864  0.000000\n",
      "[4.973534   5.51665266 5.89988504 3.83539555 4.34707339 5.10431109\n",
      " 6.69823298 7.24426159 8.31659367 4.382864  ]\n"
     ]
    }
   ],
   "source": [
    "from scipy.spatial.distance import pdist, squareform\n",
    "\n",
    "row_dist = pd.DataFrame(squareform(pdist(df, metric=\"euclidean\")), \n",
    "                        columns=labels, index=labels)\n",
    "henri_row_dist = pdist(df, metric=\"euclidean\")\n",
    "\n",
    "print(row_dist)\n",
    "print(henri_row_dist)"
   ]
  },
  {
   "cell_type": "markdown",
   "metadata": {},
   "source": [
    "Next, we will apply the complete linkage agglomeration to our clusters using the ```linkage``` function from SciPy's ```cluster.hierarchy``` submodule, which returns a so-called **linkage matrix.**  We can use a condensed distance matrix (upper triangular) from the ```pdist``` function as an input attribute.  Alternatively, we could also provide the initial data array and use the ```\"euclidean\"``` metric as a function argument in ```linkage```.  However, we should not use the ```squareform``` distance matrix that we defined eariler, since it would yield different distance values than expected."
   ]
  },
  {
   "cell_type": "code",
   "execution_count": 12,
   "metadata": {},
   "outputs": [
    {
     "name": "stdout",
     "output_type": "stream",
     "text": [
      "[[0.         4.         3.83539555 2.        ]\n",
      " [1.         2.         4.34707339 2.        ]\n",
      " [3.         5.         5.89988504 3.        ]\n",
      " [6.         7.         8.31659367 5.        ]]\n"
     ]
    }
   ],
   "source": [
    "from scipy.cluster.hierarchy import linkage\n",
    "row_clusters = linkage(pdist(df, metric=\"euclidean\"),\n",
    "                       method=\"complete\")\n",
    "\n",
    "print(row_clusters)"
   ]
  },
  {
   "cell_type": "markdown",
   "metadata": {},
   "source": [
    "To take a closer look at the clutering results, we can turn the clustering results into a pandas ```DataFrame``` (best viewed in a Jupyter Notebook) as follows:"
   ]
  },
  {
   "cell_type": "code",
   "execution_count": 13,
   "metadata": {},
   "outputs": [
    {
     "data": {
      "text/html": [
       "<div>\n",
       "<style scoped>\n",
       "    .dataframe tbody tr th:only-of-type {\n",
       "        vertical-align: middle;\n",
       "    }\n",
       "\n",
       "    .dataframe tbody tr th {\n",
       "        vertical-align: top;\n",
       "    }\n",
       "\n",
       "    .dataframe thead th {\n",
       "        text-align: right;\n",
       "    }\n",
       "</style>\n",
       "<table border=\"1\" class=\"dataframe\">\n",
       "  <thead>\n",
       "    <tr style=\"text-align: right;\">\n",
       "      <th></th>\n",
       "      <th>label 1</th>\n",
       "      <th>label 2</th>\n",
       "      <th>distance</th>\n",
       "      <th>Number of items in the cluster</th>\n",
       "    </tr>\n",
       "  </thead>\n",
       "  <tbody>\n",
       "    <tr>\n",
       "      <th>Cluster 1</th>\n",
       "      <td>0.0</td>\n",
       "      <td>4.0</td>\n",
       "      <td>3.835396</td>\n",
       "      <td>2.0</td>\n",
       "    </tr>\n",
       "    <tr>\n",
       "      <th>Cluster 2</th>\n",
       "      <td>1.0</td>\n",
       "      <td>2.0</td>\n",
       "      <td>4.347073</td>\n",
       "      <td>2.0</td>\n",
       "    </tr>\n",
       "    <tr>\n",
       "      <th>Cluster 3</th>\n",
       "      <td>3.0</td>\n",
       "      <td>5.0</td>\n",
       "      <td>5.899885</td>\n",
       "      <td>3.0</td>\n",
       "    </tr>\n",
       "    <tr>\n",
       "      <th>Cluster 4</th>\n",
       "      <td>6.0</td>\n",
       "      <td>7.0</td>\n",
       "      <td>8.316594</td>\n",
       "      <td>5.0</td>\n",
       "    </tr>\n",
       "  </tbody>\n",
       "</table>\n",
       "</div>"
      ],
      "text/plain": [
       "           label 1  label 2  distance  Number of items in the cluster\n",
       "Cluster 1      0.0      4.0  3.835396                             2.0\n",
       "Cluster 2      1.0      2.0  4.347073                             2.0\n",
       "Cluster 3      3.0      5.0  5.899885                             3.0\n",
       "Cluster 4      6.0      7.0  8.316594                             5.0"
      ]
     },
     "execution_count": 13,
     "metadata": {},
     "output_type": "execute_result"
    }
   ],
   "source": [
    "pd.DataFrame(row_clusters,\n",
    "             columns=[\"label 1\",\n",
    "                      \"label 2\",\n",
    "                      \"distance\",\n",
    "                      \"Number of items in the cluster\"],\n",
    "             index=[\"Cluster {}\".format(i+1) for i in range(row_clusters.shape[0])])"
   ]
  },
  {
   "cell_type": "markdown",
   "metadata": {},
   "source": [
    "The linkage matrix consists of several rows, where each row represents one merge.  The first and the second columns denote the most dissimilar members in each cluster, and the third reports the distance between those members.  The last column returns the count of the members in each cluster.\n",
    "\n",
    "Now that we have computed the linkage matrix, we can visualise the results in the form of a dendrogram:"
   ]
  },
  {
   "cell_type": "code",
   "execution_count": 14,
   "metadata": {},
   "outputs": [
    {
     "data": {
      "image/png": "[encoded data removed]",
      "text/plain": [
       "<Figure size 432x288 with 1 Axes>"
      ]
     },
     "metadata": {},
     "output_type": "display_data"
    }
   ],
   "source": [
    "from scipy.cluster.hierarchy import dendrogram\n",
    "\n",
    "row_dendr = dendrogram(row_clusters,\n",
    "                      labels=labels)\n",
    "plt.tight_layout()\n",
    "plt.ylabel(\"Euclidean distance\")\n",
    "plt.show()"
   ]
  },
  {
   "cell_type": "markdown",
   "metadata": {},
   "source": [
    "Such a dendrogram summarises the different clusters that were formed during the agglomerative hierarchical clustering; for example, we can see that the samples ```ID_0``` and ```ID_4```, followed by ```ID_1``` and ```ID_2```, are the most similar ones based on the Euclidean distance metric."
   ]
  },
  {
   "cell_type": "markdown",
   "metadata": {},
   "source": [
    "## Attaching dendrograms to a heat map\n",
    "\n",
    "Hierarchical clustering dendrograms are often used in combination with a **heat map**, which allows us to represent the individual values in the sample matrix with a color code.  In this section, we will discuss how to attach a dendrogram to a heat map plot and order the rows in the heat map correspondingly.\n",
    "\n",
    "However, attaching a dendrogram to a heat map can be a little bit tricky, so let's go through this procedure step by step:\n",
    "\n",
    "1. We create a new figure object and define the x axis position, y axis position, width, and height of the dendrogram via the ```add_axis``` attribute.  Furthermore, we roate the dendrogram by 90 degrees counter-clockwise.  The code is as follows:\n",
    "```python\n",
    "fig = plt.figure(figsize=(8,8), facecolor=\"white\")\n",
    "axd = fig.add_axes([0.09, 0.1, 0.2, 0.6])\n",
    "row_dendr = dendrogram(row_clusters, orientation=\"left\")\n",
    "```\n",
    "2. Next, we reorder the data in our initial ```DataFrame``` according to the clustering labels that can be accessed from the dendrogram object, which is essentially a Python dictionary, via the ```leaves``` key.  The code is as follows:\n",
    "```python\n",
    "df_rowclust = df.iloc[row_dendr[\"leaves\"][::-1]]\n",
    "```\n",
    "3. Now, we construct the heat map from the reordered ```DataFrame``` and position it next to the dendrogram:\n",
    "```python\n",
    "axm = fig.add_axes([0.23, 0.1, 0.6, 0.6])\n",
    "cax = axm.matshow(df_rowclust, interpolation=\"nearest\", cmap=\"hot_r\")\n",
    "```\n",
    "\n",
    "4. Finally, we will modify the aesthetics of the dendrogram by removing the axis ticks and hiding the axis spines.  Also, we will add a color bar and assign the feature and sample names to the x and y axis tick labels respectively:\n",
    "```python\n",
    "axd.set_xticks([])\n",
    "axd.set_yticks([])\n",
    "for i in axd.spines.values():\n",
    "    i.set_visible(False)\n",
    "fig.colorbar(cax)\n",
    "axm.set_xticklabels([\"\"] + list(df_rowclust.columns))\n",
    "axm.set_yticklabels([\"\"] + list(df_rowclust.index))\n",
    "plt.show()\n",
    "```\n",
    "\n",
    "After following the previous steps, the heat map should be displayed with the dendrogram attached:"
   ]
  },
  {
   "cell_type": "code",
   "execution_count": 19,
   "metadata": {},
   "outputs": [
    {
     "name": "stdout",
     "output_type": "stream",
     "text": [
      "row_dendr['leaves'] = [1, 2, 3, 0, 4]\n"
     ]
    },
    {
     "data": {
      "image/png": "[encoded data removed]",
      "text/plain": [
       "<Figure size 576x576 with 3 Axes>"
      ]
     },
     "metadata": {},
     "output_type": "display_data"
    }
   ],
   "source": [
    "fig = plt.figure(figsize=(8,8), facecolor=\"white\")\n",
    "axd = fig.add_axes([0.09, 0.1, 0.2, 0.6])\n",
    "row_dendr = dendrogram(row_clusters, orientation=\"left\")\n",
    "\n",
    "df_rowclust = df.iloc[row_dendr[\"leaves\"][::-1]]\n",
    "print(\"row_dendr['leaves'] = {}\".format(row_dendr[\"leaves\"]))\n",
    "\n",
    "axm = fig.add_axes([0.23, 0.1, 0.6, 0.6])\n",
    "cax = axm.matshow(df_rowclust, interpolation=\"nearest\", cmap=\"hot_r\")\n",
    "\n",
    "axd.set_xticks([])\n",
    "axd.set_yticks([])\n",
    "for i in axd.spines.values():\n",
    "    i.set_visible(False)\n",
    "fig.colorbar(cax)\n",
    "axm.set_xticklabels([\"\"] + list(df_rowclust.columns))\n",
    "axm.set_yticklabels([\"\"] + list(df_rowclust.index))\n",
    "plt.show()"
   ]
  },
  {
   "cell_type": "markdown",
   "metadata": {},
   "source": [
    "## Applying agglomerative clustering via scikit-learn\n",
    "\n",
    "```AgglomerativeClustering``` allows us to choose the number of clusters that we want to return.  This is useful if we want to prune the hierarchical cluster tree.  By setting the ```n_cluster``` parameter to 3, we will now cluster the samples into three groups using the same complete linkage approach ased on the Euclidean distance metric, as before:"
   ]
  },
  {
   "cell_type": "code",
   "execution_count": 20,
   "metadata": {},
   "outputs": [
    {
     "name": "stdout",
     "output_type": "stream",
     "text": [
      "Cluster labels: [1 0 0 2 1]\n"
     ]
    }
   ],
   "source": [
    "from sklearn.cluster import AgglomerativeClustering\n",
    "ac = AgglomerativeClustering(n_clusters=3,\n",
    "                             affinity=\"euclidean\",\n",
    "                             linkage=\"complete\")\n",
    "labels = ac.fit_predict(X)\n",
    "print(\"Cluster labels: {}\".format(labels))"
   ]
  },
  {
   "cell_type": "markdown",
   "metadata": {},
   "source": [
    "Let us now rerun the ```AgglomerativeClustering``` using ```n_cluster=2``` in the following code snippet:"
   ]
  },
  {
   "cell_type": "code",
   "execution_count": 22,
   "metadata": {},
   "outputs": [
    {
     "name": "stdout",
     "output_type": "stream",
     "text": [
      "Cluster labels: [0 1 1 0 0]\n"
     ]
    }
   ],
   "source": [
    "ac = AgglomerativeClustering(n_clusters=2,\n",
    "                             affinity=\"euclidean\",\n",
    "                             linkage=\"complete\")\n",
    "labels = ac.fit_predict(X)\n",
    "print(\"Cluster labels: {}\".format(labels))"
   ]
  },
  {
   "cell_type": "markdown",
   "metadata": {},
   "source": [
    "## Locating regions of high density via DBSCAN\n",
    "\n",
    "**Density-Based Spatial Clustering of Applications with Noise (DBSCAN)**, which does not make assumptions about spherical clusters like k-means, nor does it partition the dataset into hierarchies that require a manual cut-off point.  As its name implies, density-based clustering assigns cluster labels based on dense regions of points.  In DBSCAN, the notion of density is defined as the number of points within a specified radius $\\epsilon$.\n",
    "\n",
    "According to the DBSCAN algorithm, a special label is assigned to each sample (point) using the following criteria:\n",
    "\n",
    "- A point is considered a **core point** if at least a specified number (MinPts) of neighbouring points fall withing the specified radius $\\epsilon$.\n",
    "- A **border point** is a point that has fewer neighbours than MinPts within $\\epsilon$, but lies within the $\\epsilon$ radius of a core point.\n",
    "- All the other points that are neither core nor border points are considered **noise points**.\n",
    "\n",
    "After labeling the points as core, border, or noise, the DBSCAN algorithm ca be summarised in two simple steps:\n",
    "1. Form a separate cluster for each core point, or connected group of core points (core points are connected if they are no farther away than $\\epsilon$).\n",
    "2. Assign each border point to the cluster of its corresponding core point.\n",
    "\n",
    "To get a better understanding of what the result of DBSCAN can look like before jumping to the implementation, let's summariase what we have just learned about core points, border points, and noise points in the following figure:\n",
    "<img src=\"images/11_13.png\" style=\"width:500px\">\n",
    "\n",
    "One of the main advantages of using DBSCAN is that it does not assume that the cluster have a spherical shape as in k-means.  Futhermore, DBSCAN is different from k-means and hierarchical clustering in that it does not necessarily assign each point to a cluster but is capable of removing noise points.\n",
    "\n",
    "For a more illustrative example, let's create a new dataset of half-moon-shaped structures to compare k-means, hierarchical clustering, and DBSCAN:"
   ]
  },
  {
   "cell_type": "code",
   "execution_count": 36,
   "metadata": {},
   "outputs": [
    {
     "data": {
      "image/png": "[encoded data removed]",
      "text/plain": [
       "<Figure size 432x288 with 1 Axes>"
      ]
     },
     "metadata": {},
     "output_type": "display_data"
    }
   ],
   "source": [
    "from sklearn.datasets import make_moons\n",
    "\n",
    "X, y = make_moons(n_samples=200,\n",
    "                  noise=0.1,\n",
    "                  random_state=0)\n",
    "\n",
    "plt.scatter(X[:,0], X[:,1])\n",
    "plt.show()"
   ]
  },
  {
   "cell_type": "markdown",
   "metadata": {},
   "source": [
    "As we can see in the resulting plot, there are two visible, half-moon shaped groups consisting of 100 sample points each.\n",
    "\n",
    "We will start by using the k-means algorithm and complete linkage clustering to see if one of thosepreviously discussed clustering algorithms can successfully identify the hal-moon shapes as separate clusters.  The code is as follows:"
   ]
  },
  {
   "cell_type": "code",
   "execution_count": 37,
   "metadata": {},
   "outputs": [
    {
     "data": {
      "image/png": "[encoded data removed]",
      "text/plain": [
       "<Figure size 576x216 with 2 Axes>"
      ]
     },
     "metadata": {},
     "output_type": "display_data"
    }
   ],
   "source": [
    "fig, (ax1, ax2) = plt.subplots(1, 2, figsize=(8, 3))\n",
    "\n",
    "km = KMeans(n_clusters=2,\n",
    "            random_state=0)\n",
    "y_km = km.fit_predict(X)\n",
    "ax1.scatter(X[y_km==0,0], X[y_km==0,1],\n",
    "            c=\"lightblue\", edgecolor=\"black\",\n",
    "            marker=\"o\", s=40, label=\"Cluster 1\")\n",
    "ax1.scatter(X[y_km==1,0], X[y_km==1,1],\n",
    "            c=\"red\", edgecolor=\"black\",\n",
    "            marker=\"s\", s=40, label=\"Cluster 2\")\n",
    "ax1.set_title(\"K-means clustering\")\n",
    "ax1.legend()\n",
    "\n",
    "ac = AgglomerativeClustering(n_clusters=2,\n",
    "                             affinity=\"euclidean\",\n",
    "                             linkage=\"complete\")\n",
    "y_ac = ac.fit_predict(X)\n",
    "ax2.scatter(X[y_ac==0,0], X[y_ac==0,1],\n",
    "            c=\"lightblue\", edgecolor=\"black\",\n",
    "            marker=\"o\", s=40, label=\"Cluster 1\")\n",
    "ax2.scatter(X[y_ac==1,0], X[y_ac==1,1],\n",
    "            c=\"red\", edgecolor=\"black\",\n",
    "            marker=\"s\", s=40, label=\"Cluster 2\")\n",
    "ax2.set_title(\"Agglomerative Clustering\")\n",
    "ax2.legend()\n",
    "plt.show()"
   ]
  },
  {
   "cell_type": "markdown",
   "metadata": {},
   "source": [
    "Based on the visualisations, we can see that the k-means algorithm is unable to separate the 2 clusters, and also the hierarchical clustering algorithm was challenged by those complex shapes.\n",
    "\n",
    "Finally, let us try the DBSCAN algorithm on this dataset to see if it can find the two half-moon-shaped clusters using a density-based approach:"
   ]
  },
  {
   "cell_type": "code",
   "execution_count": 38,
   "metadata": {},
   "outputs": [
    {
     "data": {
      "image/png": "[encoded data removed]",
      "text/plain": [
       "<Figure size 432x288 with 1 Axes>"
      ]
     },
     "metadata": {},
     "output_type": "display_data"
    }
   ],
   "source": [
    "from sklearn.cluster import DBSCAN\n",
    "\n",
    "db = DBSCAN(eps=0.2, min_samples=5, metric=\"euclidean\")\n",
    "y_db = db.fit_predict(X)\n",
    "\n",
    "plt.scatter(X[y_db==0,0], X[y_db==0,1],\n",
    "            c=\"lightblue\", edgecolor=\"black\",\n",
    "            marker=\"o\", s=40, label=\"Cluster 1\")\n",
    "\n",
    "plt.scatter(X[y_db==1,0], X[y_db==1,1],\n",
    "            c=\"red\", edgecolor=\"black\",\n",
    "            marker=\"s\", s=40, label=\"Cluster 2\")\n",
    "\n",
    "plt.legend()\n",
    "plt.show()"
   ]
  },
  {
   "cell_type": "markdown",
   "metadata": {},
   "source": [
    "There are however some disadvantages related to DBSCAN.  With an increasing number of features in our dataset, the negative effects of the **curse of dimensionality** increases.  In addition, we have 2 hyperparameters in DBSCAN (MinPts and $\\epsilon$) that need to be optimised to yield good clustering results; this can become problematic if the density differences in the dataset are relatively large.\n",
    "\n",
    "To conclude, a successful clustering not only depends on the algorithm and its hyperparameters.  Rather, the choice of an appropraite distance metric and the use of domain knowledge that can help guide the experimental setup can be even more important.\n",
    "\n",
    "In the context of the curse of dimensionality, it is thus common practice to apply dimensionality reduction techniques prior to performing clustering.  Also, it is particuarly common to compress the datasets down to 2 dimensional subspaces, which allows us to visualise the clusters and the assigned labels using two-dimensional scatterplots, which are particularly helpful for evaluating the results."
   ]
  },
  {
   "cell_type": "code",
   "execution_count": null,
   "metadata": {},
   "outputs": [],
   "source": []
  }
 ],
 "metadata": {
  "kernelspec": {
   "display_name": "Python 3",
   "language": "python",
   "name": "python3"
  },
  "language_info": {
   "codemirror_mode": {
    "name": "ipython",
    "version": 3
   },
   "file_extension": ".py",
   "mimetype": "text/x-python",
   "name": "python",
   "nbconvert_exporter": "python",
   "pygments_lexer": "ipython3",
   "version": "3.6.5"
  }
 },
 "nbformat": 4,
 "nbformat_minor": 2
}
