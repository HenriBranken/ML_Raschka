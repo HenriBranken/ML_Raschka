{
 "cells": [
  {
   "cell_type": "markdown",
   "metadata": {},
   "source": [
    "# Background Information\n",
    "\n",
    "Since the perceptron rule and Adaline are very similar, we will take the perceptron implementation that we defined earlier and change the ```fit``` method so that the weights are updted by minimising the cost function via gradient descent:"
   ]
  },
  {
   "cell_type": "code",
   "execution_count": 1,
   "metadata": {},
   "outputs": [],
   "source": [
    "class AdalineGD(object):\n",
    "    \"\"\"\n",
    "    ADAptive LInear NEuron classifier.\n",
    "    \n",
    "    ----------\n",
    "    Parameters\n",
    "    ----------\n",
    "    eta: float\n",
    "        The learning rate (between 0.0 and 1.0)\n",
    "    n_iter: int\n",
    "        The number of passes over the training dataset.\n",
    "    random_state: int\n",
    "        The Random Number Generator seed for random weight initialisation.\n",
    "    \n",
    "    ----------\n",
    "    Attributes\n",
    "    ----------\n",
    "    w_: 1d array\n",
    "        The weights after fitting.\n",
    "    cost_: list\n",
    "        The sum-of-squares cost function value in each epoch (in each pass of n_iter)\n",
    "    \"\"\"\n",
    "    \n",
    "    def __init__(self, eta=0.01, n_iter=50, random_state=1):\n",
    "        self.eta = eta\n",
    "        self.n_iter = n_iter\n",
    "        self.random_state = random_state\n",
    "        \n",
    "    def net_input(self, X):\n",
    "        \"\"\"\n",
    "        Calculate the net input\n",
    "        \"\"\"\n",
    "        return np.dot(X, self.w_[1:]) + self.w_[0]*1.0\n",
    "    \n",
    "    def activation(self, X):\n",
    "        \"\"\"\n",
    "        Compute the linear activation function output\n",
    "        \"\"\"\n",
    "        return X\n",
    "    \n",
    "    def predict(self, X):\n",
    "        \"\"\"\n",
    "        Return the class label by applying the threshold function\n",
    "        \"\"\"\n",
    "        return np.where(self.activation(self.net_input(X)) >= 0.0, 1, -1)\n",
    "    \n",
    "    def fit(self, X, y):\n",
    "        \"\"\"\n",
    "        Fit the training data.\n",
    "        \n",
    "        ----------\n",
    "        Parameters\n",
    "        ----------\n",
    "        X: array-like with shape of [n_samples rows, by n_features columns]\n",
    "            X is the Training dataset, where n_samples is the number of flowers,\n",
    "            and n_features is the number of dimensions, or columns.\n",
    "        y: array-like with shape of [n_samples rows].\n",
    "            y is the target values; the true class labels.\n",
    "        \n",
    "        -------\n",
    "        Returns\n",
    "        -------\n",
    "        self: object\n",
    "        \"\"\"\n",
    "        \n",
    "        rgen = np.random.RandomState(self.random_state)\n",
    "        self.w_ = rgen.normal(loc=0.0, scale=0.01, size=1 + X.shape[1])\n",
    "        \n",
    "        self.cost_ = []\n",
    "        \n",
    "        for _ in range(self.n_iter):\n",
    "            net_input = self.net_input(X)\n",
    "            output = self.activation(net_input)\n",
    "            errors = (y - output)  # the true class label minus the calculated outcome\n",
    "            self.w_[1:] += self.eta * X.T.dot(errors)\n",
    "            self.w_[0] += self.eta * errors.sum() * 1.0\n",
    "            cost = (errors**2).sum() / 2.0\n",
    "            self.cost_.append(cost)\n",
    "        return self"
   ]
  },
  {
   "cell_type": "markdown",
   "metadata": {},
   "source": [
    "# Comments on the above code\n",
    "\n",
    "Instead of updating the weights after evaluating each individual training sample (as in the perceptron), here we calculate the gradient based on the whole training dataset via\n",
    "```python\n",
    "self.eta * errors.sum()\n",
    "```\n",
    "for the bias unit (zeroth-weight), and via\n",
    "```python\n",
    "self.eta * X.T.dot(errors)\n",
    "```\n",
    "for the weights 1 --> m, where ```X.T.dot(errors)``` is a matrix-vector multiplication between our feature matrix and the error vector.\n",
    "\n",
    "It should be noted that the ```activation``` method has no effect in the code since it is simply an identity function.  Here we added the activation function (computed via the ```activation``` method) to illustrate how information flows through a single-layer neural network: features from the input data, net input, activation, and output.  \n",
    "\n",
    "In the next chapter we will learn about a logistic regression classifier that uses a non-identity, nonlinear activation function.  We will see that a logistic regression model is closely related to Adaline with the only difference being its activation and cost function.\n",
    "\n",
    "Now, similar to the previous perceptron implmentation, we collect the cost values in a ```self.cost_``` list to check whether the algorithm converges after a number of epochs.\n",
    "\n",
    "In practice, it often requires some experimentation to find a good learing rate $\\eta$ for optimal convergence.  In the upcoming code, we will choose two different learning rates, $\\eta = 0.1$ and $\\eta = 0.0001$ to start with and plot the cost functions versus the number of epochs to see how well the Adaline implementation learns from the training data.\n",
    "\n",
    "## Note on Hyperparameters\n",
    "The learning rate $\\eta$, as well as the number of epochs ```(n_iter```), are the so-called hyperparameters of the perceptron and Adaline learning algorithms."
   ]
  },
  {
   "cell_type": "markdown",
   "metadata": {},
   "source": [
    "# Let us now proceed to plot the cost against the number of epochs for 2 different learning rates"
   ]
  },
  {
   "cell_type": "code",
   "execution_count": 2,
   "metadata": {},
   "outputs": [
    {
     "data": {
      "text/html": [
       "<div>\n",
       "<style scoped>\n",
       "    .dataframe tbody tr th:only-of-type {\n",
       "        vertical-align: middle;\n",
       "    }\n",
       "\n",
       "    .dataframe tbody tr th {\n",
       "        vertical-align: top;\n",
       "    }\n",
       "\n",
       "    .dataframe thead th {\n",
       "        text-align: right;\n",
       "    }\n",
       "</style>\n",
       "<table border=\"1\" class=\"dataframe\">\n",
       "  <thead>\n",
       "    <tr style=\"text-align: right;\">\n",
       "      <th></th>\n",
       "      <th>0</th>\n",
       "      <th>1</th>\n",
       "      <th>2</th>\n",
       "      <th>3</th>\n",
       "      <th>4</th>\n",
       "    </tr>\n",
       "  </thead>\n",
       "  <tbody>\n",
       "    <tr>\n",
       "      <th>145</th>\n",
       "      <td>6.7</td>\n",
       "      <td>3.0</td>\n",
       "      <td>5.2</td>\n",
       "      <td>2.3</td>\n",
       "      <td>Iris-virginica</td>\n",
       "    </tr>\n",
       "    <tr>\n",
       "      <th>146</th>\n",
       "      <td>6.3</td>\n",
       "      <td>2.5</td>\n",
       "      <td>5.0</td>\n",
       "      <td>1.9</td>\n",
       "      <td>Iris-virginica</td>\n",
       "    </tr>\n",
       "    <tr>\n",
       "      <th>147</th>\n",
       "      <td>6.5</td>\n",
       "      <td>3.0</td>\n",
       "      <td>5.2</td>\n",
       "      <td>2.0</td>\n",
       "      <td>Iris-virginica</td>\n",
       "    </tr>\n",
       "    <tr>\n",
       "      <th>148</th>\n",
       "      <td>6.2</td>\n",
       "      <td>3.4</td>\n",
       "      <td>5.4</td>\n",
       "      <td>2.3</td>\n",
       "      <td>Iris-virginica</td>\n",
       "    </tr>\n",
       "    <tr>\n",
       "      <th>149</th>\n",
       "      <td>5.9</td>\n",
       "      <td>3.0</td>\n",
       "      <td>5.1</td>\n",
       "      <td>1.8</td>\n",
       "      <td>Iris-virginica</td>\n",
       "    </tr>\n",
       "  </tbody>\n",
       "</table>\n",
       "</div>"
      ],
      "text/plain": [
       "       0    1    2    3               4\n",
       "145  6.7  3.0  5.2  2.3  Iris-virginica\n",
       "146  6.3  2.5  5.0  1.9  Iris-virginica\n",
       "147  6.5  3.0  5.2  2.0  Iris-virginica\n",
       "148  6.2  3.4  5.4  2.3  Iris-virginica\n",
       "149  5.9  3.0  5.1  1.8  Iris-virginica"
      ]
     },
     "execution_count": 2,
     "metadata": {},
     "output_type": "execute_result"
    }
   ],
   "source": [
    "import pandas as pd\n",
    "\n",
    "df = pd.read_csv(\"/home/henri/stuff/machine_learning/sebastian_raschka/henris_coding/chapter_02/iris.data\",\n",
    "                 header=None)\n",
    "df.tail()"
   ]
  },
  {
   "cell_type": "code",
   "execution_count": 3,
   "metadata": {},
   "outputs": [],
   "source": [
    "%matplotlib inline"
   ]
  },
  {
   "cell_type": "code",
   "execution_count": 4,
   "metadata": {},
   "outputs": [],
   "source": [
    "import matplotlib.pyplot as plt\n",
    "import numpy as np\n",
    "\n",
    "\"\"\"\n",
    "In this block of code we extract the X training data set,\n",
    "as well as y, the true class labels.\n",
    "\"\"\"\n",
    "\n",
    "# select the setosa and versicolor Iris samples\n",
    "y = df.iloc[0:100, 4].values\n",
    "y = np.where(y == 'Iris-setosa', -1, 1)\n",
    "\n",
    "# extract the sepal length and the petal length features\n",
    "X = df.iloc[0:100, [0, 2]].values"
   ]
  },
  {
   "cell_type": "code",
   "execution_count": 5,
   "metadata": {},
   "outputs": [
    {
     "data": {
      "image/png": "[encoded data removed]",
      "text/plain": [
       "<Figure size 720x288 with 2 Axes>"
      ]
     },
     "metadata": {},
     "output_type": "display_data"
    }
   ],
   "source": [
    "# Here follows the Adaline coding on pages 40 and 41 of the paperback book.\n",
    "fig, ax = plt.subplots(nrows=1, ncols=2, figsize=(10, 4))\n",
    "\n",
    "ada1 = AdalineGD(n_iter=10, eta=0.01).fit(X, y)\n",
    "ax[0].plot(range(1, len(ada1.cost_) + 1),\n",
    "           np.log10(ada1.cost_), marker='o')\n",
    "ax[0].set_xlabel('Epochs')\n",
    "ax[0].set_ylabel('log(Sum-Squared-Error)')\n",
    "ax[0].set_title('Adaline - Learning rate = 0.01')\n",
    "\n",
    "ada2 = AdalineGD(n_iter=10, eta=0.0001).fit(X, y)\n",
    "ax[1].plot(range(1, len(ada2.cost_) + 1),\n",
    "           ada2.cost_, marker='o')\n",
    "ax[1].set_xlabel('Epochs')\n",
    "ax[1].set_ylabel('Sum-Squared-Error')\n",
    "ax[1].set_title('Adaline - Learning Rate = 0.0001')\n",
    "plt.show()"
   ]
  },
  {
   "cell_type": "markdown",
   "metadata": {},
   "source": [
    "# Standardisation, a.k.a. feature scaling\n",
    "\n",
    "Standardisation gives our data the property of a standard normal distribution.\n",
    "\n",
    "It shifts the **mean** of each feature so that it is centered at 0.\n",
    "Each feature also has a **standard deviation** of 1.\n",
    "\n",
    "For example, to standardise the $j^{\\mathrm{th}}$ feature, we can simply subtract the sample mean, $\\mu_j$, from every training sample and divide it by its standard deviation, $\\sigma_j$:\n",
    "\n",
    "$$\n",
    "\\mathbf{x}_j^{'} = \\frac{\\mathbf{x}_j^{'} - \\mu_j}{\\sigma_j}\n",
    "$$\n",
    "\n",
    "where $\\mathbf{x}_j$ is a vector consisting of the $j^{\\mathrm{th}}$ feature values of all training samples $n$, and this standardisation technique is applied to each feature $j$ in our dataset.\n",
    "\n",
    "One of the reasons why standardisation helps with gradient descent learning is that the optimiser has to go through fewer epochs to find an optimal solution.\n",
    "\n",
    "## Applying the standardisation to our Iris dataset:"
   ]
  },
  {
   "cell_type": "code",
   "execution_count": 6,
   "metadata": {},
   "outputs": [],
   "source": [
    "X_std = np.copy(X)\n",
    "X_std[:,0] = (X[:,0] - X[:,0].mean()) / X[:,0].std() # all the rows of the first column\n",
    "X_std[:,1] = (X[:,1] - X[:,1].mean()) / X[:,1].std() # all the rows of the second column"
   ]
  },
  {
   "cell_type": "markdown",
   "metadata": {},
   "source": [
    "Now that the $\\mathbf{X}$ feature matrix has been scaled, we will train Adaline again and see that it now converges after a small number of epochs using a learning rate of $\\eta = 0.01$:"
   ]
  },
  {
   "cell_type": "code",
   "execution_count": 7,
   "metadata": {},
   "outputs": [
    {
     "data": {
      "text/plain": [
       "<__main__.AdalineGD at 0x7fb691d45550>"
      ]
     },
     "execution_count": 7,
     "metadata": {},
     "output_type": "execute_result"
    }
   ],
   "source": [
    "ada = AdalineGD(n_iter=15, eta=0.01)\n",
    "ada.fit(X_std, y)"
   ]
  },
  {
   "cell_type": "markdown",
   "metadata": {},
   "source": [
    "# Convenience function to visualise the decision boundary:"
   ]
  },
  {
   "cell_type": "code",
   "execution_count": 10,
   "metadata": {},
   "outputs": [],
   "source": [
    "from matplotlib.colors import ListedColormap\n",
    "\n",
    "def plot_decision_regions(X, y, classifier, resolution=0.02):\n",
    "    \n",
    "    # Setup the marker generator and the color map\n",
    "    markers = ('s', 'x', 'o', '^', 'v')\n",
    "    colors = ('red', 'blue', 'lightgreen', 'gray', 'cyan')\n",
    "    cmap = ListedColormap(colors[:len(np.unique(y))])\n",
    "    \n",
    "    # plot the decision surface\n",
    "    x1_min, x1_max = X[:, 0].min() - 1, X[:, 0].max() + 1\n",
    "    x2_min, x2_max = X[:, 1].min() - 1, X[:, 1].max() + 1\n",
    "    xx1, xx2 = np.meshgrid(np.arange(x1_min, x1_max, resolution),\n",
    "                           np.arange(x2_min, x2_max, resolution))\n",
    "    Z = classifier.predict(np.array([xx1.ravel(), xx2.ravel()]).T)\n",
    "    Z = Z.reshape(xx1.shape)\n",
    "    plt.contourf(xx1, xx2, Z, alpha=0.3, cmap=cmap)\n",
    "    plt.xlim(xx1.min(), xx1.max())\n",
    "    plt.ylim(xx2.min(), xx2.max())\n",
    "    \n",
    "    # plot the class samples\n",
    "    for idx, cl in enumerate(np.unique(y)):\n",
    "        plt.scatter(x=X[y == cl, 0],\n",
    "                    y=X[y == cl, 1],\n",
    "                    alpha = 0.8,\n",
    "                    c=colors[idx],\n",
    "                    marker=markers[idx],\n",
    "                    label=cl,\n",
    "                    edgecolor='black')"
   ]
  },
  {
   "cell_type": "markdown",
   "metadata": {},
   "source": [
    "# Code the plotting with the help of the convenience function:"
   ]
  },
  {
   "cell_type": "code",
   "execution_count": 11,
   "metadata": {},
   "outputs": [
    {
     "data": {
      "image/png": "[encoded data removed]",
      "text/plain": [
       "<Figure size 432x288 with 1 Axes>"
      ]
     },
     "metadata": {},
     "output_type": "display_data"
    },
    {
     "data": {
      "image/png": "[encoded data removed]",
      "text/plain": [
       "<Figure size 432x288 with 1 Axes>"
      ]
     },
     "metadata": {},
     "output_type": "display_data"
    }
   ],
   "source": [
    "plot_decision_regions(X_std, y, classifier=ada)\n",
    "plt.title('Adaline - Gradient Descent')\n",
    "plt.xlabel('sepal length [standardised]')\n",
    "plt.ylabel('petal length [standardised]')\n",
    "plt.legend(loc='upper left')\n",
    "plt.tight_layout()\n",
    "plt.show()\n",
    "\n",
    "plt.plot(range(1, len(ada.cost_) + 1), ada.cost_, marker='o')\n",
    "plt.xlabel('Epochs')\n",
    "plt.ylabel('Sum-Squared-Error')\n",
    "plt.show()"
   ]
  },
  {
   "cell_type": "markdown",
   "metadata": {},
   "source": [
    "# Stochastic Gradient Descent\n",
    "\n",
    "Inside the ```fit``` method, we will now update the weights after each training sample.  Furthermore, we will implement an additional partial_fit method, which does not reinitialise the weights, for online learning.\n",
    "\n",
    "In order to check whether our algorithm converged after training, we will calculate the cost as the average cost of the training samples in each epoch.  Furthermore, wee will add an option to shuffle the training data before each epoch to avoid repetitive cycles when we are optimizing the cost function.\n",
    "\n",
    "Via the ```random_state``` parameter, we allow the specification of a random seed for reproducibility."
   ]
  },
  {
   "cell_type": "code",
   "execution_count": 20,
   "metadata": {},
   "outputs": [],
   "source": [
    "class AdalineSGD(object):\n",
    "    \"\"\"\n",
    "    ADAptive LInear NEuron classifier.\n",
    "    \n",
    "    ----------\n",
    "    Parameters\n",
    "    ----------\n",
    "    eta: float\n",
    "        Learing rate (between 0.0 and 1.0)\n",
    "    n_iter: int\n",
    "        Passes over the training dataset.\n",
    "    shuffle: bool (True or False; the default is True)\n",
    "        Shuffles the training data every epoch if True in order to prevent cycles.\n",
    "    random_state: int\n",
    "        Random number generator seed for random weight initialisation\n",
    "    \n",
    "    ----------\n",
    "    Attributes\n",
    "    ----------\n",
    "    w_: 1-d array\n",
    "        Weights after fitting.\n",
    "    cost_: list\n",
    "        Sum-of-Squares cos function value averaged over all the training samples in each epoch.\n",
    "    \"\"\"\n",
    "    \n",
    "    def __init__(self, eta=0.01, n_iter=10, shuffle=True, random_state=None):\n",
    "        self.eta = eta\n",
    "        self.n_iter = n_iter\n",
    "        self.w_initialized = False\n",
    "        self.shuffle = shuffle\n",
    "        self.random_state = random_state\n",
    "    \n",
    "    def fit(self, X, y):\n",
    "        \"\"\"\n",
    "        Fit the training data.\n",
    "        \n",
    "        ----------\n",
    "        Parameters\n",
    "        ----------\n",
    "        X: array-like with shape of [n_samples rows, by n_features columns]\n",
    "            Training dataset, where n_samples is the number of Iris flowers,\n",
    "            and n_features is the number of features / dimensions.\n",
    "        y: array-like with shape of [n_samples rows]\n",
    "            The target values.  i.e. the true class labels.\n",
    "        \n",
    "        -------\n",
    "        Returns\n",
    "        -------\n",
    "        self: object\n",
    "        \"\"\"\n",
    "        \n",
    "        self._initialize_weights(X.shape[1])  # the number of columns in the training dataset.\n",
    "        self.cost_ = []\n",
    "        for i in range(self.n_iter):\n",
    "            if self.shuffle:\n",
    "                X, y = self._shuffle(X, y)\n",
    "            cost = []\n",
    "            for xi, target in zip(X, y):\n",
    "                cost.append(self._update_weights(xi, target))\n",
    "            avg_cost = sum(cost) / len(y)\n",
    "            self.cost_.append(avg_cost)\n",
    "        return self\n",
    "    \n",
    "    def partial_fit(self, X, y):\n",
    "        \"\"\"\n",
    "        Fit the training data on the fly without reinitialising the weights.\n",
    "        \"\"\"\n",
    "        if not self.w_initialized:\n",
    "            self._initialize_weights(X.shape[1])\n",
    "        if y.ravel().shape[0] > 1:\n",
    "            for xi, target in zip(X, y):\n",
    "                self._update_weights(xi, target)\n",
    "        else:\n",
    "            self._update_weights(X, y)\n",
    "        return self\n",
    "    \n",
    "    def _shuffle(self, X, y):\n",
    "        \"\"\"\n",
    "        Shuffle the training data\n",
    "        \"\"\"\n",
    "        r = self.rgen.permutation(len(y))\n",
    "        return X[r], y[r]\n",
    "    \n",
    "    def _initialize_weights(self, m):\n",
    "        \"\"\"\n",
    "        Initialise weights to small random numbers.\n",
    "        \"\"\"\n",
    "        self.rgen = np.random.RandomState(self.random_state)\n",
    "        self.w_ = self.rgen.normal(loc=0.0, scale=0.01, size=1 + m)\n",
    "        self.w_initialized = True\n",
    "    \n",
    "    def _update_weights(self, xi, target):\n",
    "        \"\"\"\n",
    "        Apply the Adaline learing rule to update the weights.\n",
    "        \"\"\"\n",
    "        output = self.activation(self.net_input(xi))\n",
    "        error = target - output\n",
    "        self.w_[1:] += self.eta * xi.dot(error)\n",
    "        self.w_[0] += self.eta * error\n",
    "        cost = 0.5 * error**2\n",
    "        return cost\n",
    "    \n",
    "    def net_input(self, X):\n",
    "        \"\"\"\n",
    "        Calculate the net input\n",
    "        \"\"\"\n",
    "        return np.dot(X, self.w_[1:]) + self.w_[0]*1\n",
    "    \n",
    "    def activation(self, X):\n",
    "        \"\"\"\n",
    "        Compute the Linear Activation\n",
    "        \"\"\"\n",
    "        return X\n",
    "    \n",
    "    def predict(self, X):\n",
    "        \"\"\"\n",
    "        Return the class label after unit step.\n",
    "        \"\"\"\n",
    "        return np.where(self.activation(self.net_input(X)) >= 0.0, 1, -1)"
   ]
  },
  {
   "cell_type": "markdown",
   "metadata": {},
   "source": [
    "# Comment on the above code\n",
    "\n",
    "The ```_shuffle``` method that we are now using in the AdalineSGD classifier works as follows:  via the ```permutation``` function in ```np.random```, we generate a random sequence of numbers in the range of 0 to 100.  Those numbers can then be used as indices to shuffle our feature matrix and class label vector."
   ]
  },
  {
   "cell_type": "markdown",
   "metadata": {},
   "source": [
    "# Fitting and Plotting the data\n",
    "\n",
    "Now we are in a position to use the ```fit``` method to train the ```AdalineSGD``` classifier and use our ```plot_decision_regions``` to plot our training results."
   ]
  },
  {
   "cell_type": "code",
   "execution_count": 21,
   "metadata": {},
   "outputs": [
    {
     "data": {
      "image/png": "[encoded data removed]",
      "text/plain": [
       "<Figure size 432x288 with 1 Axes>"
      ]
     },
     "metadata": {},
     "output_type": "display_data"
    },
    {
     "data": {
      "image/png": "[encoded data removed]",
      "text/plain": [
       "<Figure size 432x288 with 1 Axes>"
      ]
     },
     "metadata": {},
     "output_type": "display_data"
    }
   ],
   "source": [
    "ada = AdalineSGD(n_iter=15, eta=0.01, random_state=1)\n",
    "ada.fit(X_std, y)\n",
    "\n",
    "plot_decision_regions(X_std, y, classifier=ada)\n",
    "plt.title('Adaline - Stochastic Gradient Descent')\n",
    "plt.xlabel('sepal length [standardised]')\n",
    "plt.ylabel('petal length [standardised]')\n",
    "plt.legend(loc='upper left')\n",
    "plt.show()\n",
    "\n",
    "plt.plot(range(1, len(ada.cost_) + 1), ada.cost_, marker='o')\n",
    "plt.xlabel('Epochs')\n",
    "plt.ylabel('Average Cost')\n",
    "plt.show()"
   ]
  },
  {
   "cell_type": "markdown",
   "metadata": {},
   "source": [
    "# Comment on the above code\n",
    "\n",
    "As we can see, the average cost goes down pretty quickly, and the final decision boundary after 15 epochs looks similar to the batch gradient descent Adaline.\n",
    "\n",
    "If we wanted to update our model, for example, in an online learning scenario, with streaming data, we could simply call the ```partial_fit``` method on individual samples.  For example:\n",
    "```ada.partial_fit(X_std[0,:], y[0])```"
   ]
  },
  {
   "cell_type": "markdown",
   "metadata": {},
   "source": [
    "# Summary\n",
    "\n",
    "In this chapter, we gained a good understanding of the basic concepts of linear classifiers for supervised learning.  After we implemented a perceptron, we saw how we can train adaptive linear neurons efficiently via a vectorized implementation of the gradient descent and online learing via stochastic gradient descent.\n",
    "\n",
    "Now that we have seen how to implement simple classifiers in Python, we are ready to move on to the next chapter, where we will use the Python scikit-learn machine learning library to get access to more advanced and powerful machine learning classifiers that are commonly used in the academia as well as in the industry.  The OOP approach that we used to implement the perceptron and Adaline algorithms will help with the understandin gthe sciki-learn API, which is implemented based on the same core concepts that we used in this chapter: the ```fit``` and ```predict``` methods.  Based on these core concepts, we will learn about logistic regression for modelling class probabilities and support vector machines for working with nonlinear decision boundaries.  In addition, we will introduce a different class of supervised learing algorithms, tree-based algorithms, which are commonly combined into robust ensemble classifiers."
   ]
  }
 ],
 "metadata": {
  "kernelspec": {
   "display_name": "Python 3",
   "language": "python",
   "name": "python3"
  },
  "language_info": {
   "codemirror_mode": {
    "name": "ipython",
    "version": 3
   },
   "file_extension": ".py",
   "mimetype": "text/x-python",
   "name": "python",
   "nbconvert_exporter": "python",
   "pygments_lexer": "ipython3",
   "version": "3.6.5"
  }
 },
 "nbformat": 4,
 "nbformat_minor": 2
}
