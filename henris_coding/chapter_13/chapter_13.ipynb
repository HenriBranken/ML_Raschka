{
 "cells": [
  {
   "cell_type": "code",
   "execution_count": 1,
   "metadata": {},
   "outputs": [],
   "source": [
    "%matplotlib inline"
   ]
  },
  {
   "cell_type": "markdown",
   "metadata": {},
   "source": [
    "# 13 Parallelising Neural Network Training with TensorFlow\n",
    "\n",
    "In this chapter, we will start using TensorFlow and see how it brings significant benefits to training performance.\n",
    "\n",
    "In this chapter we will explore the following topics:\n",
    "* How TensorFlow improves training performance.\n",
    "* Working with TensorFlow to write optimised machine learning code.\n",
    "* Using TensorFlow high-level APIs to build a multilayer neural network.\n",
    "* Choosing activation functions for artificial neural networks.\n",
    "* Introducing Keras, a high-level wrapper around TensorFlow, for implementing common deep learning architectures most conveniently"
   ]
  },
  {
   "cell_type": "markdown",
   "metadata": {},
   "source": [
    "## What is TensorFlow?\n",
    "\n",
    "TensorFlow is a scalable and multiplatform programming interface for implementing and running machine learning algorithms, including convenience wrappers for deep learning.\n",
    "\n",
    "Its greatest performance capabilities can be discovered when using GPUs.  TensorFlow supports CUDA-enabled GPUs officially."
   ]
  },
  {
   "cell_type": "markdown",
   "metadata": {},
   "source": [
    "## First steps with TensorFlow\n",
    "\n",
    "Tensorflow is built around a computation graph composed of a set of nodes.  Each node represents an operation that may have zero or more input or output.  The value that flow through the edges of the computation graph are called tensors.\n",
    "\n",
    "* A scalar is a rank-0 tensor.\n",
    "* A vector is a rank-1 tensor.\n",
    "* A matrix is a rank-2 tensor.\n",
    "* Matrices stacked in a third dimension are rank-3 tensors.\n",
    "\n",
    "Once a computation graph is built, the graph can be launched in a TensorFlow `Session` for executing different nodes of the graph.\n",
    "\n",
    "As a warm-up exercise, we will start with the use of simple scalars from TensorFlow to compte a net input $z$ of a sample point $x$ in a one-dimensional dataset with weight $w$, and bias $b$:\n",
    "\n",
    "$$\n",
    "z = w\\times x + b\n",
    "$$\n",
    "\n",
    "The following code shows the implementation of this equation in the low-level TensorFlow API:"
   ]
  },
  {
   "cell_type": "code",
   "execution_count": 2,
   "metadata": {},
   "outputs": [
    {
     "name": "stdout",
     "output_type": "stream",
     "text": [
      "x= 1.0 ---> z= 2.7\n",
      "x= 0.6 ---> z= 1.9\n",
      "x=-1.8 ---> z=-2.9\n"
     ]
    }
   ],
   "source": [
    "import tensorflow as tf\n",
    "\n",
    "# create a graph\n",
    "g = tf.Graph()\n",
    "with g.as_default():\n",
    "    x = tf.placeholder(dtype=tf.float32, shape=(None), name='x')\n",
    "    w = tf.Variable(2.0, name='weight')\n",
    "    b = tf.Variable(0.7, name='bias')\n",
    "    z = w*x + b\n",
    "    \n",
    "    init = tf.global_variables_initializer()\n",
    "\n",
    "# create a session and pass in a graph g\n",
    "with tf.Session(graph=g) as sess:\n",
    "    # Initialise w and b\n",
    "    sess.run(init)\n",
    "    \n",
    "    # Evaluate z:\n",
    "    for t in [1.0, 0.6, -1.8]:\n",
    "        print(\"x={:4.1f} ---> z={:4.1f}\".format(t, sess.run(z, feed_dict={x:t})))"
   ]
  },
  {
   "cell_type": "markdown",
   "metadata": {},
   "source": [
    "In general, when we develop a model in the TensorFlow low-level API, we need to:\n",
    "* define placeholders for the input data (`x`, `y`, and sometimes other tunable parameters)\n",
    "* define the weight matrices,\n",
    "* and finally build the model from input to output.\n",
    "\n",
    "If this is an optimisation problem, we should define the **loss or cost function** and determine which **optimisation algorithm** to use.\n",
    "\n",
    "In the above code snippet, we created a placeholder for `x` with `shape=(None)`.  This allows us to feed the values in an\n",
    "* element-by-element form,\n",
    "* and as a batch of input data at once:"
   ]
  },
  {
   "cell_type": "code",
   "execution_count": 3,
   "metadata": {},
   "outputs": [
    {
     "name": "stdout",
     "output_type": "stream",
     "text": [
      "[2.7 4.7 6.7]\n"
     ]
    }
   ],
   "source": [
    "with tf.Session(graph=g) as sess:\n",
    "    sess.run(init)\n",
    "    print(sess.run(z, feed_dict={x:[1.0, 2.0, 3.0]}))"
   ]
  },
  {
   "cell_type": "markdown",
   "metadata": {},
   "source": [
    "## Working with array structures\n",
    "\n",
    "By executing the following code, we will create a simple rank-3 tensor of size `batchsize x 2 x 3`, reshape it, and calculate the column sums using TensorFlow's optimised expressions.\n",
    "\n",
    "Since we do not know the batch size a priori, we specify `None` for the batch size in the argument for the `shape` parameter of the placeholder `x`:"
   ]
  },
  {
   "cell_type": "code",
   "execution_count": 4,
   "metadata": {},
   "outputs": [
    {
     "name": "stdout",
     "output_type": "stream",
     "text": [
      "Input shape: (3, 2, 3)\n",
      "Reshaped:\n",
      " [[ 0.  1.  2.  3.  4.  5.]\n",
      " [ 6.  7.  8.  9. 10. 11.]\n",
      " [12. 13. 14. 15. 16. 17.]]\n",
      "Column Sums:\n",
      " [18. 21. 24. 27. 30. 33.]\n",
      "Column Means:\n",
      " [ 6.  7.  8.  9. 10. 11.]\n"
     ]
    }
   ],
   "source": [
    "import tensorflow as tf\n",
    "import numpy as np\n",
    "\n",
    "# Create a Graph\n",
    "g = tf.Graph()\n",
    "with g.as_default():\n",
    "    x = tf.placeholder(dtype=tf.float32, shape=(None, 2, 3), name='input_x')\n",
    "    x2 = tf.reshape(x, shape=(-1, 6), name='x2')\n",
    "    \n",
    "    # Calculate the sum of each column\n",
    "    xsum = tf.reduce_sum(x2, axis=0, name='col_sum')\n",
    "    \n",
    "    # Calculate the mean of each column\n",
    "    xmean = tf.reduce_mean(x2, axis=0, name='col_mean')\n",
    "\n",
    "with tf.Session(graph=g) as sess:\n",
    "    x_array = np.arange(18).reshape(3, 2, 3)\n",
    "    print('Input shape: {}'.format(x_array.shape))\n",
    "    print('Reshaped:\\n', sess.run(x2, feed_dict={x:x_array}))\n",
    "    print('Column Sums:\\n', sess.run(xsum, feed_dict={x:x_array}))\n",
    "    print('Column Means:\\n', sess.run(xmean, feed_dict={x:x_array}))"
   ]
  },
  {
   "cell_type": "markdown",
   "metadata": {},
   "source": [
    "Notice that in this example, we worked with 3 functions:\n",
    "* `tf.reshape`\n",
    "* `tf.reduce_sum`\n",
    "* `tf.reduce_mean`\n",
    "For reshaping, we used the value `-1` for the first dimension.  This is because we do not know the value of the batch size.  When reshaping a tensor, if you use `-1` for a specific dimension, the size of that dimension will be computed according to the total size of the tensor and the remaining dimension.  Therefore, `tf.reshape(tensor, shape=(-1,))` can be used to flatten a tensor."
   ]
  },
  {
   "cell_type": "markdown",
   "metadata": {},
   "source": [
    "## Developing a simple model with the low-level TensorFlow API\n",
    "\n",
    "Let us now implement **Ordinary Least Squares (OLS) regression**.\n",
    "\n",
    "Let us start by creating a small one-dimensional toy dataset with `10` training samples:"
   ]
  },
  {
   "cell_type": "code",
   "execution_count": 5,
   "metadata": {},
   "outputs": [],
   "source": [
    "import tensorflow as tf\n",
    "import numpy as np\n",
    "\n",
    "X_train = np.arange(10).reshape((10, 1))\n",
    "y_train = np.array([1.0, 1.3, 3.1, 2.0, 5.0, 6.3, 6.6, 7.4, 8.0, 9.0])"
   ]
  },
  {
   "cell_type": "markdown",
   "metadata": {},
   "source": [
    "For this, we need 2 placeholders, one for the input `x`, and one for the `y` for feeding the data into our model.  Next, we need to define the trainable variables: the weight `w`, and the bias `b`.\n",
    "\n",
    "Then we define the linear regression model as $z = wx + b$, followed by defining the cost function to be the **Mean of Squared Error (MSE)**.  To earn the weight parameters of the model, we use the gradient descent optimizer.  The code is as follows:"
   ]
  },
  {
   "cell_type": "code",
   "execution_count": 6,
   "metadata": {},
   "outputs": [],
   "source": [
    "class TfLinreg(object):\n",
    "    \n",
    "    def __init__(self, x_dim, learning_rate=0.1, random_seed=None):\n",
    "        self.x_dim = x_dim\n",
    "        self.learning_rate = learning_rate\n",
    "        self.g = tf.Graph()\n",
    "        \n",
    "        # Build the model\n",
    "        with self.g.as_default():\n",
    "            # Set the graph-level random-seed\n",
    "            tf.set_random_seed(random_seed)\n",
    "            \n",
    "            self.build()\n",
    "            \n",
    "            # create the initialiser\n",
    "            self.init_op = tf.global_variables_initializer()\n",
    "    \n",
    "    def build(self):\n",
    "        # define the placeholders for the input\n",
    "        self.X = tf.placeholder(dtype=tf.float32, shape=(None, self.x_dim), name='x_input') # we don't know how many rows\n",
    "        self.y = tf.placeholder(dtype=tf.float32, shape=(None), name='y_input')\n",
    "        print(self.X)\n",
    "        print(self.y)\n",
    "        \n",
    "        # define the weight matrix and the bias vector\n",
    "        w = tf.Variable(tf.zeros(shape=(1)), name=\"weight\")\n",
    "        b = tf.Variable(tf.zeros(shape=(1)), name=\"bias\")\n",
    "        print(w)\n",
    "        print(b)\n",
    "        \n",
    "        self.z_net = tf.squeeze(w*self.X + b, name=\"z_net\")\n",
    "        print(self.z_net)\n",
    "        \n",
    "        sqr_errors = tf.square(self.y - self.z_net, name=\"sqr_errors\")\n",
    "        print(sqr_errors)\n",
    "        self.mean_cost = tf.reduce_mean(sqr_errors, name=\"mean_cost\")\n",
    "        \n",
    "        optimizer = tf.train.GradientDescentOptimizer(learning_rate=self.learning_rate, name='GradientDescent')\n",
    "        self.optimizer = optimizer.minimize(self.mean_cost)"
   ]
  },
  {
   "cell_type": "markdown",
   "metadata": {},
   "source": [
    "So far, we have defined a class to construct our model.  We will create an instance of this class and call it `lrmodel`, as follows:"
   ]
  },
  {
   "cell_type": "code",
   "execution_count": 7,
   "metadata": {},
   "outputs": [
    {
     "name": "stdout",
     "output_type": "stream",
     "text": [
      "Tensor(\"x_input:0\", shape=(?, 1), dtype=float32)\n",
      "Tensor(\"y_input:0\", dtype=float32)\n",
      "<tf.Variable 'weight:0' shape=(1,) dtype=float32_ref>\n",
      "<tf.Variable 'bias:0' shape=(1,) dtype=float32_ref>\n",
      "Tensor(\"z_net:0\", dtype=float32)\n",
      "Tensor(\"sqr_errors:0\", dtype=float32)\n"
     ]
    }
   ],
   "source": [
    "lrmodel = TfLinreg(x_dim=X_train.shape[1], learning_rate=0.01)"
   ]
  },
  {
   "cell_type": "markdown",
   "metadata": {},
   "source": [
    "The `print` statemnts that we wrote in the `build` method will display information about the six nodes in the graph:\n",
    "* `X`\n",
    "* `y`\n",
    "* `w`\n",
    "* `b`\n",
    "* `z_net`\n",
    "* `sqr_errors`\n",
    "with their names and their shapes.\n",
    "\n",
    "For training, we implement a separate function that needs a\n",
    "1. TensorFlow session\n",
    "2. A model instance\n",
    "3. Training data\n",
    "4. The number of epochs as input arguments.\n",
    "\n",
    "In this function, first we **initialise** the variables in the TensorFlow session using the `init_op` operation defined in the model."
   ]
  },
  {
   "cell_type": "code",
   "execution_count": 8,
   "metadata": {},
   "outputs": [],
   "source": [
    "def train_linreg(sess, model, X_train, y_train, num_epochs=10):\n",
    "    # initialise all the variables: w and b\n",
    "    sess.run(model.init_op)\n",
    "    \n",
    "    training_costs = []\n",
    "    for i in range(num_epochs):\n",
    "        _, cost = sess.run([model.optimizer, model.mean_cost], feed_dict={model.X:X_train, model.y:y_train})\n",
    "        training_costs.append(cost)\n",
    "    \n",
    "    return training_costs"
   ]
  },
  {
   "cell_type": "markdown",
   "metadata": {},
   "source": [
    "So, now we can create a new TensorFlow session to \n",
    "1. launch the `lrmodel.g` graph\n",
    "2. and pass all the required arguments to the `train_linreg` function for training:"
   ]
  },
  {
   "cell_type": "code",
   "execution_count": 9,
   "metadata": {},
   "outputs": [],
   "source": [
    "sess = tf.Session(graph=lrmodel.g) # launch the `lrmodel.g` graph\n",
    "training_costs = train_linreg(sess, lrmodel, X_train, y_train) # passing all the required arguments to the `train_linreg` function."
   ]
  },
  {
   "cell_type": "markdown",
   "metadata": {},
   "source": [
    "Let us now visualise the training costs after these 10 epochs to see whether the mmodel is converging or not:"
   ]
  },
  {
   "cell_type": "code",
   "execution_count": 10,
   "metadata": {},
   "outputs": [
    {
     "data": {
      "image/png": "[encoded data removed]",
      "text/plain": [
       "<Figure size 432x288 with 1 Axes>"
      ]
     },
     "metadata": {
      "needs_background": "light"
     },
     "output_type": "display_data"
    }
   ],
   "source": [
    "import matplotlib.pyplot as plt\n",
    "plt.plot(range(1, len(training_costs)+1), training_costs)\n",
    "plt.tight_layout()\n",
    "plt.xlabel('Epoch')\n",
    "plt.ylabel('Training Cost')\n",
    "plt.show()"
   ]
  },
  {
   "cell_type": "markdown",
   "metadata": {},
   "source": [
    "In the above plot, this simple model converges very quickly after a few epochs.\n",
    "\n",
    "Now, let us compile a new function to make predictions based on the input features.  For this function, we need the\n",
    "1. Tensorflow session,\n",
    "2. the model,\n",
    "3. and the test dataset."
   ]
  },
  {
   "cell_type": "code",
   "execution_count": 11,
   "metadata": {},
   "outputs": [],
   "source": [
    "def predict_linreg(sess, model, X_test):\n",
    "    y_pred = sess.run(model.z_net, feed_dict={model.X:X_test})\n",
    "    \n",
    "    return y_pred"
   ]
  },
  {
   "cell_type": "markdown",
   "metadata": {},
   "source": [
    "Note, that we only needed to run `z_net` defined in the graph computes the predicted output values.\n",
    "\n",
    "Next, let us plot the linear regression fit on the training data:"
   ]
  },
  {
   "cell_type": "code",
   "execution_count": 12,
   "metadata": {},
   "outputs": [
    {
     "data": {
      "image/png": "[encoded data removed]",
      "text/plain": [
       "<Figure size 432x288 with 1 Axes>"
      ]
     },
     "metadata": {
      "needs_background": "light"
     },
     "output_type": "display_data"
    }
   ],
   "source": [
    "plt.scatter(X_train, y_train, marker='s', s=50, label='Training Data.')\n",
    "plt.plot(range(X_train.shape[0]), predict_linreg(sess, lrmodel, X_train), color='gray', marker='o',\n",
    "        markersize=6, linewidth=3, label='LinReg Model')\n",
    "plt.xlabel('x')\n",
    "plt.ylabel('y')\n",
    "plt.legend()\n",
    "plt.tight_layout()\n",
    "\n",
    "plt.show()"
   ]
  },
  {
   "cell_type": "markdown",
   "metadata": {},
   "source": [
    "As we can see in the resulting plot, our model fits the training data points appropriately."
   ]
  },
  {
   "cell_type": "markdown",
   "metadata": {},
   "source": [
    "## Building multilayer neural networks using TensorFlow's `Layers` API\n",
    "\n",
    "Let us implement a multilayer perceptron to classify the handwritten digits from the MNIST dataset.\n",
    "\n",
    "After downloading and unzipping the archives, we place the files in the `mnist` directory in our cwd so that we can load the training as well as the test dataset, using the `load_mnist(path, kind)` function we implemented previously in Chapter 12."
   ]
  },
  {
   "cell_type": "code",
   "execution_count": 13,
   "metadata": {},
   "outputs": [],
   "source": [
    "import os\n",
    "import struct\n",
    "import numpy as np\n",
    "\n",
    "def load_mnist(path, kind='train'):\n",
    "    \"\"\"Load MNIST data from `path`\"\"\"\n",
    "    labels_path = os.path.join(path, \"{}-labels-idx1-ubyte\".format(kind))\n",
    "    images_path = os.path.join(path, \"{}-images-idx3-ubyte\".format(kind))\n",
    "    \n",
    "    with open(labels_path, \"rb\") as lbpath:\n",
    "        magic, n = struct.unpack('>II', lbpath.read(8))\n",
    "        labels = np.fromfile(lbpath, dtype=np.uint8)\n",
    "    \n",
    "    with open(images_path, 'rb') as imgpath:\n",
    "        magic, num, rows, cols = struct.unpack('>IIII', imgpath.read(16))\n",
    "        images = np.fromfile(imgpath, dtype=np.uint8).reshape(len(labels), 784)\n",
    "        images = ((images / 255.) - 0.5) * 2 # Standardise the images to have the range [-1, +1]\n",
    "    \n",
    "    return images, labels"
   ]
  },
  {
   "cell_type": "markdown",
   "metadata": {},
   "source": [
    "We load the dataset as follows:"
   ]
  },
  {
   "cell_type": "code",
   "execution_count": 14,
   "metadata": {},
   "outputs": [
    {
     "name": "stdout",
     "output_type": "stream",
     "text": [
      "Rows: 60000, Columns: 784.\n"
     ]
    }
   ],
   "source": [
    "# Load the Training data\n",
    "X_train, y_train = load_mnist('./mnist/', kind='train')\n",
    "print('Rows: {}, Columns: {}.'.format(X_train.shape[0], X_train.shape[1]))"
   ]
  },
  {
   "cell_type": "code",
   "execution_count": 15,
   "metadata": {},
   "outputs": [
    {
     "name": "stdout",
     "output_type": "stream",
     "text": [
      "Rows: 10000, Columns: 784.\n"
     ]
    }
   ],
   "source": [
    "# Load the test data\n",
    "X_test, y_test = load_mnist('./mnist/', kind='t10k')\n",
    "print('Rows: {}, Columns: {}.'.format(X_test.shape[0], X_test.shape[1]))"
   ]
  },
  {
   "cell_type": "code",
   "execution_count": 16,
   "metadata": {},
   "outputs": [
    {
     "name": "stdout",
     "output_type": "stream",
     "text": [
      "(60000, 784) (60000,)\n"
     ]
    }
   ],
   "source": [
    "# Performing Mean centering and Normalisation\n",
    "mean_vals = np.mean(X_train, axis=0)\n",
    "std_val = np.std(X_train)\n",
    "X_train_centered = (X_train - mean_vals)/std_val\n",
    "X_test_centered = (X_test - mean_vals)/std_val\n",
    "\n",
    "del X_train, X_test # we don't need the un-normalised data anymore.\n",
    "\n",
    "print(X_train_centered.shape, y_train.shape)"
   ]
  },
  {
   "cell_type": "code",
   "execution_count": 17,
   "metadata": {},
   "outputs": [
    {
     "name": "stdout",
     "output_type": "stream",
     "text": [
      "(10000, 784) (10000,)\n"
     ]
    }
   ],
   "source": [
    "print(X_test_centered.shape, y_test.shape)"
   ]
  },
  {
   "cell_type": "markdown",
   "metadata": {},
   "source": [
    "Now we can start building our model.  We will start by creating two placeholders, named `tf_x` and `tf_y`, and then build a multilayer perceptron, but with 3 fully connected layers.\n",
    "\n",
    "However, we will replace the logistic units in the hidden layer with **hyperbolic tangent** activation functions (`tanh`), replace the logistic function in the output layer with `softmax`, and **add an additional hidden layer.**"
   ]
  },
  {
   "cell_type": "code",
   "execution_count": 18,
   "metadata": {},
   "outputs": [],
   "source": [
    "import tensorflow as tf\n",
    "\n",
    "n_features = X_train_centered.shape[1] # the number of columns (784)\n",
    "n_classes = 10 # 0, 1, 2, 3, 4, 5, 6, 7, 8, 9\n",
    "random_seed = 123\n",
    "np.random.seed(random_seed) # seed the generator\n",
    "\n",
    "g = tf.Graph()\n",
    "with g.as_default():  # Returns a context manager that makes this Graph the default graph\n",
    "    tf.set_random_seed(random_seed)\n",
    "    tf_x = tf.placeholder(dtype=tf.float32, shape=(None, n_features), name='tf_x')  # rows/n_samples unknown\n",
    "    tf_y = tf.placeholder(dtype=tf.int32, shape=None, name='tf_y')  # rows/n_samples unknown\n",
    "    y_onehot = tf.one_hot(indices=tf_y, depth=n_classes)\n",
    "    \n",
    "    h1 = tf.layers.dense(inputs=tf_x, units=60, activation=tf.tanh, name='layer1')\n",
    "    h2 = tf.layers.dense(inputs=h1, units=60, activation=tf.tanh, name='layer2')  # add additional layer\n",
    "    logits = tf.layers.dense(inputs=h2, units=10, activation=None, name='layer3')  # output\n",
    "    predictions = {'classes': tf.argmax(logits, axis=1, name='predicted_classes'), \n",
    "                   'probabilities': tf.nn.softmax(logits, name='softmax_tensor')}  # output layer replaced with softmax"
   ]
  },
  {
   "cell_type": "markdown",
   "metadata": {},
   "source": [
    "Next on, we dfine the cost functions, and add an operator for initialising the model variables as well as an optimisation operator:"
   ]
  },
  {
   "cell_type": "code",
   "execution_count": 19,
   "metadata": {},
   "outputs": [],
   "source": [
    "# Define cost function and optimizer:\n",
    "with g.as_default():\n",
    "    cost = tf.losses.softmax_cross_entropy(onehot_labels=y_onehot, logits=logits)  # define cost function\n",
    "    \n",
    "    optimizer = tf.train.GradientDescentOptimizer(learning_rate=0.001)\n",
    "    train_op = optimizer.minimize(loss=cost)\n",
    "    \n",
    "    # initialise the model variables\n",
    "    init_op = tf.global_variables_initializer()"
   ]
  },
  {
   "cell_type": "markdown",
   "metadata": {},
   "source": [
    "Before we start training the network, we need a way to generate batches of data.\n",
    "For this, we implement the following function that returns a generator."
   ]
  },
  {
   "cell_type": "code",
   "execution_count": 20,
   "metadata": {},
   "outputs": [],
   "source": [
    "def create_batch_generator(X, y, batch_size=128, shuffle=False):\n",
    "    X_copy = np.array(X)\n",
    "    y_copy = np.array(y)\n",
    "    \n",
    "    if shuffle:\n",
    "        data = np.column_stack((X_copy, y_copy))\n",
    "        np.random.shuffle(data)\n",
    "        X_copy = data[:, :-1]\n",
    "        y_copy = data[:, -1].astype(int)\n",
    "    \n",
    "    for i in range(0, X.shape[0], batch_size):\n",
    "        yield (X_copy[i:i+batch_size, :], y_copy[i:i+batch_size])"
   ]
  },
  {
   "cell_type": "markdown",
   "metadata": {},
   "source": [
    "Next, we can,\n",
    "* create a new TensorFlow session,\n",
    "* initialize all the variables in our network,\n",
    "* and train it.\n",
    "\n",
    "We also display the average training loss after each epoch."
   ]
  },
  {
   "cell_type": "code",
   "execution_count": 21,
   "metadata": {},
   "outputs": [
    {
     "name": "stdout",
     "output_type": "stream",
     "text": [
      " --- Epoch   1  Average Training Loss: 1.4735.\n",
      " --- Epoch   2  Average Training Loss: 0.8826.\n",
      " --- Epoch   3  Average Training Loss: 0.7048.\n",
      " --- Epoch   4  Average Training Loss: 0.6064.\n",
      " --- Epoch   5  Average Training Loss: 0.5420.\n",
      " --- Epoch   6  Average Training Loss: 0.4963.\n",
      " --- Epoch   7  Average Training Loss: 0.4619.\n",
      " --- Epoch   8  Average Training Loss: 0.4349.\n",
      " --- Epoch   9  Average Training Loss: 0.4132.\n",
      " --- Epoch  10  Average Training Loss: 0.3952.\n",
      " --- Epoch  11  Average Training Loss: 0.3800.\n",
      " --- Epoch  12  Average Training Loss: 0.3669.\n",
      " --- Epoch  13  Average Training Loss: 0.3555.\n",
      " --- Epoch  14  Average Training Loss: 0.3454.\n",
      " --- Epoch  15  Average Training Loss: 0.3364.\n",
      " --- Epoch  16  Average Training Loss: 0.3283.\n",
      " --- Epoch  17  Average Training Loss: 0.3210.\n",
      " --- Epoch  18  Average Training Loss: 0.3143.\n",
      " --- Epoch  19  Average Training Loss: 0.3081.\n",
      " --- Epoch  20  Average Training Loss: 0.3024.\n",
      " --- Epoch  21  Average Training Loss: 0.2970.\n",
      " --- Epoch  22  Average Training Loss: 0.2920.\n",
      " --- Epoch  23  Average Training Loss: 0.2873.\n",
      " --- Epoch  24  Average Training Loss: 0.2829.\n",
      " --- Epoch  25  Average Training Loss: 0.2787.\n",
      " --- Epoch  26  Average Training Loss: 0.2748.\n",
      " --- Epoch  27  Average Training Loss: 0.2710.\n",
      " --- Epoch  28  Average Training Loss: 0.2674.\n",
      " --- Epoch  29  Average Training Loss: 0.2639.\n",
      " --- Epoch  30  Average Training Loss: 0.2606.\n",
      " --- Epoch  31  Average Training Loss: 0.2574.\n",
      " --- Epoch  32  Average Training Loss: 0.2543.\n",
      " --- Epoch  33  Average Training Loss: 0.2514.\n",
      " --- Epoch  34  Average Training Loss: 0.2485.\n",
      " --- Epoch  35  Average Training Loss: 0.2458.\n",
      " --- Epoch  36  Average Training Loss: 0.2431.\n",
      " --- Epoch  37  Average Training Loss: 0.2405.\n",
      " --- Epoch  38  Average Training Loss: 0.2380.\n",
      " --- Epoch  39  Average Training Loss: 0.2355.\n",
      " --- Epoch  40  Average Training Loss: 0.2332.\n",
      " --- Epoch  41  Average Training Loss: 0.2308.\n",
      " --- Epoch  42  Average Training Loss: 0.2286.\n",
      " --- Epoch  43  Average Training Loss: 0.2264.\n",
      " --- Epoch  44  Average Training Loss: 0.2243.\n",
      " --- Epoch  45  Average Training Loss: 0.2222.\n",
      " --- Epoch  46  Average Training Loss: 0.2201.\n",
      " --- Epoch  47  Average Training Loss: 0.2182.\n",
      " --- Epoch  48  Average Training Loss: 0.2162.\n",
      " --- Epoch  49  Average Training Loss: 0.2143.\n",
      " --- Epoch  50  Average Training Loss: 0.2124.\n"
     ]
    }
   ],
   "source": [
    "# create a session to launch the graph\n",
    "sess = tf.Session(graph=g)\n",
    "\n",
    "# run the variable initialisation operator\n",
    "sess.run(init_op)\n",
    "\n",
    "# 50 epochs of training\n",
    "for epoch in range(50):\n",
    "    training_costs = []\n",
    "    batch_generator = create_batch_generator(X_train_centered, y_train, batch_size=64)\n",
    "    for batch_X, batch_y in batch_generator:\n",
    "        # prepare a dictionary to feed data into our network:\n",
    "        feed = {tf_x: batch_X, tf_y: batch_y}\n",
    "        _, batch_cost = sess.run([train_op, cost], feed_dict=feed)\n",
    "        training_costs.append(batch_cost)\n",
    "    print(' --- Epoch {:3.0f}  Average Training Loss: {:.4f}.'.format(epoch + 1, np.mean(training_costs)))"
   ]
  },
  {
   "cell_type": "markdown",
   "metadata": {},
   "source": [
    "Finally, we can use the trained model to do predictions on the test dataset:"
   ]
  },
  {
   "cell_type": "code",
   "execution_count": 22,
   "metadata": {},
   "outputs": [],
   "source": [
    "# do prediction on the test set:\n",
    "feed = {tf_x: X_test_centered}\n",
    "y_pred = sess.run(predictions['classes'], feed_dict=feed)"
   ]
  },
  {
   "cell_type": "markdown",
   "metadata": {},
   "source": [
    "In the next section, we will develop a similar classification model for MNIST using Keras, which is another high-level TensorFlow API."
   ]
  },
  {
   "cell_type": "markdown",
   "metadata": {},
   "source": [
    "## Developing a multilayer neural network with Keras\n",
    "\n",
    "Keras allows us to utilize our GPUs to accelerate neural network training.  It has a very intuitive and user-friendly API, which allows us to implement neural networks in only a few lines of code.\n",
    "\n",
    "Firstly, we need to load the data as follows:"
   ]
  },
  {
   "cell_type": "code",
   "execution_count": 32,
   "metadata": {},
   "outputs": [
    {
     "name": "stdout",
     "output_type": "stream",
     "text": [
      "Rows: 60000, Columns: 784.\n",
      "Rows: 10000, Columns: 784.\n"
     ]
    }
   ],
   "source": [
    "X_train, y_train = load_mnist('mnist/', kind='train')\n",
    "print('Rows: {:.0f}, Columns: {:.0f}.'.format(X_train.shape[0], X_train.shape[1]))\n",
    "\n",
    "X_test, y_test = load_mnist('mnist/', kind='t10k')\n",
    "print('Rows: {:.0f}, Columns: {:.0f}.'.format(X_test.shape[0], X_test.shape[1]))"
   ]
  },
  {
   "cell_type": "code",
   "execution_count": 33,
   "metadata": {},
   "outputs": [
    {
     "name": "stdout",
     "output_type": "stream",
     "text": [
      "(60000, 784) (60000,)\n",
      "(10000, 784) (10000,)\n"
     ]
    }
   ],
   "source": [
    "# Mean centering, and normalisation\n",
    "mean_vals = np.mean(X_train, axis=0)  # for every pixel feature (784) there is a mean value\n",
    "std_val = np.std(X_train)\n",
    "\n",
    "X_train_centered = (X_train - mean_vals)/std_val\n",
    "X_test_centered = (X_test - mean_vals)/std_val\n",
    "\n",
    "del X_train, X_test  # we do not further need X_train and X_test\n",
    "\n",
    "print(X_train_centered.shape, y_train.shape)\n",
    "print(X_test_centered.shape, y_test.shape)"
   ]
  },
  {
   "cell_type": "markdown",
   "metadata": {},
   "source": [
    "First let us set the random seed for NumPy and TensorFlow so that we get consistent results when rerunning the cells:"
   ]
  },
  {
   "cell_type": "code",
   "execution_count": 34,
   "metadata": {},
   "outputs": [],
   "source": [
    "import tensorflow as tf\n",
    "import tensorflow.keras as keras\n",
    "\n",
    "np.random.seed(123)\n",
    "tf.set_random_seed(123)"
   ]
  },
  {
   "cell_type": "markdown",
   "metadata": {},
   "source": [
    "Next, we need to convert the class labels (integers 0-9) into the one-hot format.  Fortunately, Keras provides a convenient tool for this:"
   ]
  },
  {
   "cell_type": "code",
   "execution_count": 35,
   "metadata": {},
   "outputs": [
    {
     "name": "stdout",
     "output_type": "stream",
     "text": [
      "The first three labels:  [5 0 4].\n",
      "\n",
      "The first three labels one-hot encoded:\n",
      "[[0. 0. 0. 0. 0. 1. 0. 0. 0. 0.]\n",
      " [1. 0. 0. 0. 0. 0. 0. 0. 0. 0.]\n",
      " [0. 0. 0. 0. 1. 0. 0. 0. 0. 0.]].\n"
     ]
    }
   ],
   "source": [
    "y_train_onehot = keras.utils.to_categorical(y_train)\n",
    "\n",
    "print(\"The first three labels:  {}.\".format(y_train[:3]))\n",
    "print(\"\\nThe first three labels one-hot encoded:\\n{}.\".format(y_train_onehot[:3, :]))"
   ]
  },
  {
   "cell_type": "markdown",
   "metadata": {},
   "source": [
    "Let us now implement a neural network.  Briefly, we will have 3 layers:\n",
    "* First two layers each have 50 hidden units each with the `tanh` activation function.\n",
    "* The last layer has 10 layers for the 10 class labels; it also uses the `softmax` to give the probability of each class."
   ]
  },
  {
   "cell_type": "code",
   "execution_count": 50,
   "metadata": {},
   "outputs": [],
   "source": [
    "model = keras.models.Sequential()\n",
    "\n",
    "model.add(\n",
    "    keras.layers.Dense(\n",
    "        units=70,\n",
    "        input_dim=X_train_centered.shape[1],\n",
    "        kernel_initializer='glorot_uniform',\n",
    "        bias_initializer='zeros',\n",
    "        activation='tanh'))\n",
    "\n",
    "model.add(\n",
    "    keras.layers.Dense(\n",
    "        units=70,\n",
    "        input_dim=70,\n",
    "        kernel_initializer='glorot_uniform',\n",
    "        bias_initializer='zeros',\n",
    "        activation='tanh'))\n",
    "\n",
    "model.add(\n",
    "    keras.layers.Dense(\n",
    "        units=y_train_onehot.shape[1],\n",
    "        input_dim=70,\n",
    "        kernel_initializer='glorot_uniform',\n",
    "        bias_initializer='zeros',\n",
    "        activation='softmax'))\n",
    "\n",
    "sgd_optimizer = keras.optimizers.SGD(\n",
    "    lr=0.001, decay=1e-7, momentum=0.9)\n",
    "\n",
    "model.compile(optimizer=sgd_optimizer,\n",
    "             loss='categorical_crossentropy')"
   ]
  },
  {
   "cell_type": "markdown",
   "metadata": {},
   "source": [
    "We initialise a new model using the `Sequential` class to implement a feedforward neural network.\n",
    "\n",
    "Since the first layer that we add is the input layer, we have to make sure that the `input_dim` attribute matches the number of features (columns) in the training set.\n",
    "\n",
    "Also, we have to make sure that the number of output units (`units`) and the input units (`input_dim`) of 2 consecutuve layers match.  In the preceding example, we added two hidden layers with 50 hidden units plus 1 bias unit each.\n",
    "\n",
    "The number of units in the output layer should be equal to the number of unique class labels---the number of columns in the one-hot-encoded class label array.\n",
    "\n",
    "Notice that we used a new initialisation algorithm for weight matrices by setting `kernel_initializer='glorot_uniform'`.  Glorot initialization is a more robust way of initialisation for deep neural networks."
   ]
  },
  {
   "cell_type": "markdown",
   "metadata": {},
   "source": [
    "Before we can compile our model, we also have to define an optimizer.\n",
    "\n",
    "Furthermore, we can set values for the weight decay constant and momentum learning to adjust the learning rate at each epoch as discussed.\n",
    "\n",
    "Binary cross-entorpy is just a technical term for the cost function in the logistic regression, and categorical cross-entropy is its generalization for multiclass predictions via softmax.\n",
    "\n",
    "After compiling the model we can now train the model by calling the `fit` method.  We can also follow the optimization of the cost function during training by setting `verbose=1`.\n",
    "\n",
    "The `validation_split` parameter is handy since it will reserve x percent of the training data for validation after each epoch so that we can monitor whether the model is overfitting during training."
   ]
  },
  {
   "cell_type": "code",
   "execution_count": 51,
   "metadata": {},
   "outputs": [
    {
     "name": "stdout",
     "output_type": "stream",
     "text": [
      "Train on 54000 samples, validate on 6000 samples\n",
      "Epoch 1/50\n",
      "54000/54000 [==============================] - 1s 27us/step - loss: 0.6525 - val_loss: 0.3260\n",
      "Epoch 2/50\n",
      "54000/54000 [==============================] - 1s 24us/step - loss: 0.3414 - val_loss: 0.2562\n",
      "Epoch 3/50\n",
      "54000/54000 [==============================] - 1s 24us/step - loss: 0.2854 - val_loss: 0.2243\n",
      "Epoch 4/50\n",
      "54000/54000 [==============================] - 1s 24us/step - loss: 0.2522 - val_loss: 0.2032\n",
      "Epoch 5/50\n",
      "54000/54000 [==============================] - 1s 24us/step - loss: 0.2287 - val_loss: 0.1875\n",
      "Epoch 6/50\n",
      "54000/54000 [==============================] - 1s 24us/step - loss: 0.2098 - val_loss: 0.1753\n",
      "Epoch 7/50\n",
      "54000/54000 [==============================] - 1s 24us/step - loss: 0.1944 - val_loss: 0.1661\n",
      "Epoch 8/50\n",
      "54000/54000 [==============================] - 1s 24us/step - loss: 0.1812 - val_loss: 0.1587\n",
      "Epoch 9/50\n",
      "54000/54000 [==============================] - 1s 25us/step - loss: 0.1697 - val_loss: 0.1517\n",
      "Epoch 10/50\n",
      "54000/54000 [==============================] - 1s 24us/step - loss: 0.1596 - val_loss: 0.1455\n",
      "Epoch 11/50\n",
      "54000/54000 [==============================] - 1s 24us/step - loss: 0.1507 - val_loss: 0.1403\n",
      "Epoch 12/50\n",
      "54000/54000 [==============================] - 1s 24us/step - loss: 0.1424 - val_loss: 0.1363\n",
      "Epoch 13/50\n",
      "54000/54000 [==============================] - 1s 24us/step - loss: 0.1351 - val_loss: 0.1322\n",
      "Epoch 14/50\n",
      "54000/54000 [==============================] - 1s 25us/step - loss: 0.1283 - val_loss: 0.1277\n",
      "Epoch 15/50\n",
      "54000/54000 [==============================] - 1s 25us/step - loss: 0.1222 - val_loss: 0.1253\n",
      "Epoch 16/50\n",
      "54000/54000 [==============================] - 1s 25us/step - loss: 0.1166 - val_loss: 0.1224\n",
      "Epoch 17/50\n",
      "54000/54000 [==============================] - 1s 24us/step - loss: 0.1112 - val_loss: 0.1203\n",
      "Epoch 18/50\n",
      "54000/54000 [==============================] - 1s 25us/step - loss: 0.1064 - val_loss: 0.1168\n",
      "Epoch 19/50\n",
      "54000/54000 [==============================] - 1s 24us/step - loss: 0.1018 - val_loss: 0.1152\n",
      "Epoch 20/50\n",
      "54000/54000 [==============================] - 1s 25us/step - loss: 0.0975 - val_loss: 0.1142\n",
      "Epoch 21/50\n",
      "54000/54000 [==============================] - 1s 25us/step - loss: 0.0935 - val_loss: 0.1124\n",
      "Epoch 22/50\n",
      "54000/54000 [==============================] - 1s 24us/step - loss: 0.0896 - val_loss: 0.1112\n",
      "Epoch 23/50\n",
      "54000/54000 [==============================] - 1s 24us/step - loss: 0.0861 - val_loss: 0.1094\n",
      "Epoch 24/50\n",
      "54000/54000 [==============================] - 1s 25us/step - loss: 0.0826 - val_loss: 0.1087\n",
      "Epoch 25/50\n",
      "54000/54000 [==============================] - 1s 25us/step - loss: 0.0795 - val_loss: 0.1079\n",
      "Epoch 26/50\n",
      "54000/54000 [==============================] - 1s 24us/step - loss: 0.0764 - val_loss: 0.1073\n",
      "Epoch 27/50\n",
      "54000/54000 [==============================] - 1s 25us/step - loss: 0.0735 - val_loss: 0.1056\n",
      "Epoch 28/50\n",
      "54000/54000 [==============================] - 1s 25us/step - loss: 0.0708 - val_loss: 0.1041\n",
      "Epoch 29/50\n",
      "54000/54000 [==============================] - 1s 24us/step - loss: 0.0681 - val_loss: 0.1035\n",
      "Epoch 30/50\n",
      "54000/54000 [==============================] - 1s 25us/step - loss: 0.0656 - val_loss: 0.1032\n",
      "Epoch 31/50\n",
      "54000/54000 [==============================] - 1s 25us/step - loss: 0.0633 - val_loss: 0.1029\n",
      "Epoch 32/50\n",
      "54000/54000 [==============================] - 1s 25us/step - loss: 0.0609 - val_loss: 0.1024\n",
      "Epoch 33/50\n",
      "54000/54000 [==============================] - 1s 25us/step - loss: 0.0587 - val_loss: 0.1023\n",
      "Epoch 34/50\n",
      "54000/54000 [==============================] - 1s 25us/step - loss: 0.0566 - val_loss: 0.1013\n",
      "Epoch 35/50\n",
      "54000/54000 [==============================] - 1s 25us/step - loss: 0.0546 - val_loss: 0.1009\n",
      "Epoch 36/50\n",
      "54000/54000 [==============================] - 1s 25us/step - loss: 0.0525 - val_loss: 0.1002\n",
      "Epoch 37/50\n",
      "54000/54000 [==============================] - 1s 24us/step - loss: 0.0508 - val_loss: 0.1005\n",
      "Epoch 38/50\n",
      "54000/54000 [==============================] - 1s 24us/step - loss: 0.0490 - val_loss: 0.1001\n",
      "Epoch 39/50\n",
      "54000/54000 [==============================] - 1s 24us/step - loss: 0.0473 - val_loss: 0.0995\n",
      "Epoch 40/50\n",
      "54000/54000 [==============================] - 1s 25us/step - loss: 0.0457 - val_loss: 0.0996\n",
      "Epoch 41/50\n",
      "54000/54000 [==============================] - 1s 24us/step - loss: 0.0440 - val_loss: 0.0992\n",
      "Epoch 42/50\n",
      "54000/54000 [==============================] - 1s 24us/step - loss: 0.0425 - val_loss: 0.0994\n",
      "Epoch 43/50\n",
      "54000/54000 [==============================] - 1s 25us/step - loss: 0.0411 - val_loss: 0.0985\n",
      "Epoch 44/50\n",
      "54000/54000 [==============================] - 1s 25us/step - loss: 0.0397 - val_loss: 0.0983\n",
      "Epoch 45/50\n",
      "54000/54000 [==============================] - 1s 24us/step - loss: 0.0384 - val_loss: 0.0983\n",
      "Epoch 46/50\n",
      "54000/54000 [==============================] - 1s 25us/step - loss: 0.0370 - val_loss: 0.0986\n",
      "Epoch 47/50\n",
      "54000/54000 [==============================] - 1s 24us/step - loss: 0.0358 - val_loss: 0.0977\n",
      "Epoch 48/50\n",
      "54000/54000 [==============================] - 1s 25us/step - loss: 0.0346 - val_loss: 0.0982\n",
      "Epoch 49/50\n",
      "54000/54000 [==============================] - 1s 25us/step - loss: 0.0334 - val_loss: 0.0978\n",
      "Epoch 50/50\n",
      "54000/54000 [==============================] - 1s 25us/step - loss: 0.0323 - val_loss: 0.0975\n"
     ]
    }
   ],
   "source": [
    "history = model.fit(X_train_centered, y_train_onehot, batch_size=64, epochs=50, verbose=1, validation_split=0.1)"
   ]
  },
  {
   "cell_type": "markdown",
   "metadata": {},
   "source": [
    "Printing the value of the cost function is extremely useful during training.  This is because we can quickly spot whether the cost is decreasing during training and stop the algorithm earlier, if otherwise, to tune the hyperparameter values.\n",
    "\n",
    "To predict the class labels, we can use the `predict_classes` method to return the class labels directly as integers."
   ]
  },
  {
   "cell_type": "code",
   "execution_count": 52,
   "metadata": {},
   "outputs": [
    {
     "name": "stdout",
     "output_type": "stream",
     "text": [
      "The first 3 predictions:  [5 0 4].\n"
     ]
    }
   ],
   "source": [
    "y_train_pred = model.predict_classes(X_train_centered, verbose=0)\n",
    "print(\"The first 3 predictions:  {}.\".format(y_train_pred[:3]))"
   ]
  },
  {
   "cell_type": "markdown",
   "metadata": {},
   "source": [
    "Finally, let us pring the model accuracy on the training and the test sets:"
   ]
  },
  {
   "cell_type": "code",
   "execution_count": 53,
   "metadata": {},
   "outputs": [
    {
     "name": "stdout",
     "output_type": "stream",
     "text": [
      "Training Accuracy: 99.32%.\n"
     ]
    }
   ],
   "source": [
    "y_train_pred = model.predict_classes(X_train_centered, verbose=0)\n",
    "correct_preds = np.sum(y_train == y_train_pred)\n",
    "train_acc = correct_preds / y_train.shape[0]\n",
    "print(\"Training Accuracy: {:.2f}%.\".format(train_acc * 100))"
   ]
  },
  {
   "cell_type": "code",
   "execution_count": 54,
   "metadata": {},
   "outputs": [
    {
     "name": "stdout",
     "output_type": "stream",
     "text": [
      "Test Accuracy: 96.51%.\n"
     ]
    }
   ],
   "source": [
    "y_test_pred = model.predict_classes(X_test_centered, verbose=0)\n",
    "correct_preds = np.sum(y_test == y_test_pred)\n",
    "test_acc = correct_preds / y_test.shape[0]\n",
    "print(\"Test Accuracy: {:.2f}%.\".format(test_acc * 100))"
   ]
  },
  {
   "cell_type": "markdown",
   "metadata": {},
   "source": [
    "## Choosing Activation Functions for Multilayer Networks.\n",
    "\n",
    "A more precise definition for the sigmoid function would be the _logistic function or the negative log-likelihood function_.\n",
    "\n",
    "In practice it is not very useful to use linear activation functions for both hidden and output layers since we want to introduce nonlinearity in a typical artificial neural network to be able to tackle complex problems.\n",
    "\n",
    "The logistic activation function that we used in Chapter 12 mimics the concept of a neuron in a brain most closely---we can think of it as the probability of whether a neuron fires or not.\n",
    "\n",
    "However, logistic activation functions can be problematic if we have highly negative input since the output of the sigmoid function would be close to zero in this case.  If the sigmoid function returns output that are close to zero, the neural network would learn very slowly and it becomes more likely that it gets trapped in the local minima during training.\n",
    "\n",
    "Before we discuss what a hyperbolic tangent looks like, let's briefly recapitualte some of the basics of the logistic function and look at a generalisation that makes it more useful for multiplable classifaction problems."
   ]
  },
  {
   "cell_type": "markdown",
   "metadata": {},
   "source": [
    "## Logistic Function Recap\n",
    "\n",
    "We can use the logistic function to model the probability that a sample $x$ belongs to the positive class (class 1) in a binary classification task.  The given net input $z$ is shown in the following equation:\n",
    "\n",
    "$$\n",
    "z = w_0x_0 + w_1x_1 + \\ldots + w_mx_m = \\sum_{i=0}^{m}w_ix_i = \\mathbf{w}^T\\mathbf{x}\n",
    "$$\n",
    "Note that $w_0$ is the bias-unit (y-axis intercept, which means that $x_0 = 1$).\n",
    "\n",
    "The logistic function will be computed as follows:\n",
    "\n",
    "$$\n",
    "\\phi_{\\mathrm{logistic}}(z) = \\frac{1}{1 + e^{-z}}\n",
    "$$\n",
    "\n",
    "To provide a more concrete example, let us assume a model for a two-dimensional data point $\\mathbf{x}$ and a model with the following weight coefficients assigned to the $\\mathbf{w}$ vector:"
   ]
  },
  {
   "cell_type": "code",
   "execution_count": 56,
   "metadata": {},
   "outputs": [
    {
     "name": "stdout",
     "output_type": "stream",
     "text": [
      "P(y=1|x) = 0.888.\n"
     ]
    }
   ],
   "source": [
    "import numpy as np\n",
    "\n",
    "X = np.array([1.0, 1.4, 2.5])  # the first value MUST BE 1\n",
    "w = np.array([0.4, 0.3, 0.5])\n",
    "\n",
    "def net_input(X, w):\n",
    "    return np.dot(X, w)\n",
    "\n",
    "def logistic(z):\n",
    "    return 1.0 / (1.0 + np.exp(-1.0*z))\n",
    "\n",
    "def logistic_activation(X, w):\n",
    "    z = net_input(X, w)\n",
    "    return logistic(z)\n",
    "\n",
    "print('P(y=1|x) = {:.3f}.'.format(logistic_activation(X, w)))"
   ]
  },
  {
   "cell_type": "markdown",
   "metadata": {},
   "source": [
    "If we calculate the net input and use it to activate a logistic neuron with those particular feature values and weight coefficients, then we get a value of `0.888`, which we can interpret as 88.8% probability that this particular sample $x$ belongs to the positive class.\n",
    "\n",
    "Next we demonstrate that an output layer consisting of multiple logistic activaiton units does not produce any meaningful, interpretable probability values:"
   ]
  },
  {
   "cell_type": "code",
   "execution_count": 60,
   "metadata": {},
   "outputs": [
    {
     "name": "stdout",
     "output_type": "stream",
     "text": [
      "Net Input:\n",
      "[1.78 0.76 1.65].\n",
      "\n",
      "Output Units:\n",
      "[0.85569687 0.68135373 0.83889105].\n"
     ]
    }
   ],
   "source": [
    "# 2d Weights array:  Array with the shape = (n_output_units, n_hidden_units+1)\n",
    "# Notice that the first column contains all the bias units.\n",
    "\n",
    "W = np.array([[1.1, 1.2, 0.8, 0.4],\n",
    "              [0.2, 0.4, 1.0, 0.2],\n",
    "              [0.6, 1.5, 1.2, 0.7]])\n",
    "\n",
    "# A:  A data array with the shape = (n_hidden_units + 1, n_samples)\n",
    "# Note that the first column of this array must be equal to 1.\n",
    "\n",
    "A = np.array([[1.0, 0.1, 0.4, 0.6]])\n",
    "\n",
    "Z = np.dot(W, A[0])\n",
    "y_probas = logistic(Z)\n",
    "print(\"Net Input:\\n{}.\".format(Z))\n",
    "print(\"\\nOutput Units:\\n{}.\".format(y_probas))"
   ]
  },
  {
   "cell_type": "markdown",
   "metadata": {},
   "source": [
    "The resulting values cannot be interpreted as probabilities for a 3-class problem becuase they do not sum up to unity (1.0).  However, this is not a big concern if we **only use our model to predict the class labels**, not the class membership probabilities.  One way to predict the class label from the output units obtained earlier is to use the maximum value:"
   ]
  },
  {
   "cell_type": "code",
   "execution_count": 62,
   "metadata": {},
   "outputs": [
    {
     "name": "stdout",
     "output_type": "stream",
     "text": [
      "The predicted class label is: 0.\n"
     ]
    }
   ],
   "source": [
    "y_class = np.argmax(Z, axis=0)\n",
    "print(\"The predicted class label is: {}.\".format(y_class))"
   ]
  },
  {
   "cell_type": "markdown",
   "metadata": {},
   "source": [
    "In certain contexts, however, it can be useful to compute meaningful class probabilities for multiclass predictions.  In the next section, we will take a look at a generalization of the logistic function, the `softmax` function, which can help us with this task."
   ]
  },
  {
   "cell_type": "markdown",
   "metadata": {},
   "source": [
    "## Estimating class probabilities in multiclass classification via the softmax function.\n",
    "\n",
    "The `softmax` function is in fact a soft form of the `argmax` function; instead of giving a single class index, it provides the probability of each class.\n",
    "\n",
    "In `softmax`, the probability of a particular sample with net input $z$ belonging to the $i^{\\mathrm{th}}$ can be computed with a normalisation term in the denominator, that is, the sum of all the $M$ linear functions:\n",
    "\n",
    "$$\n",
    "p(y=i|z) = \\phi(z) = \\frac{e^{z_i}}{\\sum_{i=1}^{M}e^{z_j}}\n",
    "$$\n",
    "\n",
    "To see a `softmax` in action, let us code it up in Python:"
   ]
  },
  {
   "cell_type": "code",
   "execution_count": 65,
   "metadata": {},
   "outputs": [
    {
     "name": "stdout",
     "output_type": "stream",
     "text": [
      "Probabilities:\n",
      " [0.44668973 0.16107406 0.39223621]\n",
      "\n",
      "Sum of all the probabilities:\n",
      "1.0.\n"
     ]
    }
   ],
   "source": [
    "def softmax(z):\n",
    "    return np.exp(z) / np.sum(np.exp(z))\n",
    "\n",
    "y_probas = softmax(Z)\n",
    "\n",
    "print(\"Probabilities:\\n\", y_probas)\n",
    "\n",
    "print(\"\\nSum of all the probabilities:\\n{}.\".format(np.sum(y_probas)))"
   ]
  },
  {
   "cell_type": "markdown",
   "metadata": {},
   "source": [
    "## Broadening the output spectrum usig a hyperbolic tangent\n",
    "\n",
    "The **hyperbolic tangent** (commonly known as **tanh**) can be interpreted as a rescaled version of the logistic function:\n",
    "\n",
    "$$\n",
    "\\phi_{\\mathrm{tanh}}(z) = \\frac{e^{z} - e^{-z}}{e^{z} + e^{-z}}\n",
    "$$\n",
    "\n",
    "The advantage of the hyperbolic tangent over the logistic function is that it has a broader output specturm and ranges in the open interval $\\left( -1, +1 \\right)$, which can improve the convergence of the backpropagation algorithm.\n",
    "\n",
    "For an intuitive comparison of the logistic function and the hyperbolic tangent, let us plot the two sigmoid functions:"
   ]
  },
  {
   "cell_type": "code",
   "execution_count": 68,
   "metadata": {},
   "outputs": [
    {
     "data": {
      "image/png": "[encoded data removed]",
      "text/plain": [
       "<Figure size 432x288 with 1 Axes>"
      ]
     },
     "metadata": {
      "needs_background": "light"
     },
     "output_type": "display_data"
    }
   ],
   "source": [
    "import matplotlib.pyplot as plt\n",
    "\n",
    "def tanh(z):\n",
    "    e_p = np.exp(z)\n",
    "    e_m = np.exp(-z)\n",
    "    return (e_p - e_m) / (e_p + e_m)\n",
    "\n",
    "\n",
    "z = np.arange(-5, 5, 0.0005)\n",
    "log_act = 1.0 / (1.0 + np.exp(-z))\n",
    "tanh_act = tanh(z)\n",
    "\n",
    "plt.ylim([-1.5, 1.5])\n",
    "plt.xlabel(\"Net input $z$\")\n",
    "plt.ylabel(\"Activation Function $\\phi(z)$\")\n",
    "for hl in [1, 0.5, 0, -0.5, -1]:\n",
    "    plt.axhline(hl, color=\"black\", linestyle=\":\")\n",
    "plt.plot(z, tanh_act, linewidth=3, linestyle=\"--\", label=\"tanh\")\n",
    "plt.plot(z, log_act, linewidth=3, label='logistic')\n",
    "plt.legend(loc=\"lower right\")\n",
    "plt.tight_layout()\n",
    "plt.show()"
   ]
  },
  {
   "cell_type": "markdown",
   "metadata": {},
   "source": [
    "## The Rectified Linear Unit Activation Function\n",
    "\n",
    "Before we understand ReLU, we should step back and understand the vanishing gradient problem of `tanh` and the logistic activation functions.\n",
    "\n",
    "To understand this problem, let us assume that we initially have the net input $z_1 = 20$, which changes to $z_2 = 25$.  Computing the `tanh` activation, we get $\\phi(z_1) \\approx 1.0$ and $\\phi(z_2)\\approx 1.0$, which shows no change in the output.\n",
    "\n",
    "This means that the derivative of activations with respect to the net input diminishes as $z$ becomes large.  As a result, learning the weights during the training phase becomes very slow because the gradient terms may be very close to zero.  ReLU addresses this issue.  Mathematically, ReLU is defined as follows:\n",
    "\n",
    "$$\n",
    "\\phi(z) = \\mathrm{max}(0, z)\n",
    "$$\n",
    "\n",
    "ReLU is still a non-linear function that is good for learning complex functions with neural networks.  Besides this, the derivative of ReLU with respect to its input is always 1 for positive input values, and therefore it solves the problem of vanishing gradients.\n",
    "\n",
    "Let us conclude this section with an overview of the different activation functions that we encountered in this book:\n",
    "\n",
    "<img src=\"images/13_04.png\" style=\"width:500px\">"
   ]
  },
  {
   "cell_type": "markdown",
   "metadata": {},
   "source": [
    "## Outtro\n",
    "\n",
    "In the next chapter, we will continue our journey and dive deeper into TensorFlow, and we'll find ourselves working with graph and session objects.  Along the way, we will learn many new concepts, such as placeholders, variables, and saving and restoring models in TensorFlow."
   ]
  }
 ],
 "metadata": {
  "kernelspec": {
   "display_name": "Python 3",
   "language": "python",
   "name": "python3"
  },
  "language_info": {
   "codemirror_mode": {
    "name": "ipython",
    "version": 3
   },
   "file_extension": ".py",
   "mimetype": "text/x-python",
   "name": "python",
   "nbconvert_exporter": "python",
   "pygments_lexer": "ipython3",
   "version": "3.6.8"
  }
 },
 "nbformat": 4,
 "nbformat_minor": 2
}
