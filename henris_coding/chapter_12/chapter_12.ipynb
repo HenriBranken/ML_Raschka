{
 "cells": [
  {
   "cell_type": "code",
   "execution_count": 12,
   "metadata": {},
   "outputs": [],
   "source": [
    "%matplotlib inline"
   ]
  },
  {
   "cell_type": "markdown",
   "metadata": {},
   "source": [
    "# Chapter 12:  Implementing a Multilayer Artificial Neural Network from Scratch"
   ]
  },
  {
   "cell_type": "markdown",
   "metadata": {},
   "source": [
    "Deep learning can be understood as a set of algorithms that were developed to train artificial neural networks with many layers most efficiently.\n",
    "\n",
    "The topics covered in this chapter are as follows:\n",
    "\n",
    "* Getting a conceptual understanding of multilayer neural networks.\n",
    "* Implementing the fundamental backpropagation algorithm for neural network training from scratch.\n",
    "* Training a basic multilayer neural network for image classification."
   ]
  },
  {
   "cell_type": "markdown",
   "metadata": {},
   "source": [
    "## Modeling complex functions with artificial neural networks\n",
    "\n",
    "The basic concept behind artificial neural networks was built upon hypotheses and models of how the human brain works to solve complex problem tasks.\n",
    "\n",
    "Deep learning algorithms and architectures are neural networks that are composed of many layers."
   ]
  },
  {
   "cell_type": "markdown",
   "metadata": {},
   "source": [
    "## Single-layer neural network recap\n",
    "\n",
    "Let's briefly reiterate some of the concepts of single-layer neural networks that we introduced in Chapter 2, namely, the ADAptive LInear NEuron (Adaline) algorithm, which is shown in the following figure.\n",
    "\n",
    "<img src=\"images/12_01.png\" style=\"width:500px\">\n",
    "\n",
    "In every epoch (pass over the training set), we **updated** the weight vector $\\mathbf{w}$ by using the following rule:\n",
    "\n",
    "$$\n",
    "\\mathbf{w} := \\mathbf{w} + \\Delta\\mathbf{w}\n",
    "$$\n",
    "where $\\Delta\\mathbf{w} = -\\eta\\nabla J(\\mathbf{w})$.\n",
    "\n",
    "In other words, we **computed** the gradient based on the whole training set and **updated the weights** of the model by taking a step into the opposite direction of the graidien $\\nabla J(\\mathbf{w})$.  In order to find the optimal weights of the model, we optimized an objective function that we defined as the **Sum of Squared Errors (SSE)** cost function $\\nabla J(\\mathbf{w})$.  Furthermore, we multiplied the gradient by a factor, the learning rate $\\eta$, to balance the speed of learning against the risk of overshoothing the global minimum of the cost function.\n",
    "\n",
    "In gradient descent optimisation, we updated all the weights simultaneously after each epoch, and we define the partial derivative for each weight $w_j$ in the weight vector $\\mathbf{w}$ as follows\n",
    "\n",
    "$$\n",
    "\\frac{\\partial J(\\mathbf{w})}{\\partial w_j} = -\\sum_i\\left( y^{(i)} - a^{(i)} \\right)x_j^{(i)}\n",
    "$$\n",
    "\n",
    "Here, $y^{(i)}$ is the target class label or a particular sample $x^{(i)}$, and $a^{(i)}$ is the activation of the neuron, whihc is a lienar function in the special case of Adaline.  Furthermore, we defined the activation function $\\phi(\\cdot)$ as follows\n",
    "\n",
    "$$\n",
    "\\phi(z) = z = a\n",
    "$$\n",
    "\n",
    "Here, the net input is a linear combination of the weights that are connecting the input to the output layer:\n",
    "\n",
    "$$\n",
    "z = \\sum_j w_jx_j = \\mathbf{w}^T\\mathbf{x}\n",
    "$$\n",
    "\n",
    "While we used the activation $\\phi(z)$ to compute the gradient update, we implemented a threshold function to squash the continuous valued output into binary calss labels for prediction:\n",
    "\n",
    "$$\n",
    "\\hat{y} = \\begin{cases} \n",
    "      1 & \\mathrm{if\\ }g(z) \\ge 0 \\\\\n",
    "      -1 & \\mathrm{otherwise} \n",
    "   \\end{cases}\n",
    "$$\n",
    "\n",
    "Note that although Adaline consists of two layers, one input layer, and one output layer, it is called single-layer network because of its single link between the input and output layers.\n",
    "\n",
    "We also learned about Stochastic Gradient Descent which approximates the cost from a single training sample (online learning), or a small subset of the training samples (mini-batch learning)."
   ]
  },
  {
   "cell_type": "markdown",
   "metadata": {},
   "source": [
    "## Introducting the multi-layer neural network architecture.\n",
    "\n",
    "A _fully-connected_ network is also called a **Multilayer Perceptron (MLP)**.  The following figure illustrates the concept of an MLP consisting of 3 layers:\n",
    "\n",
    "<img src=\"images/12_02.png\" style=\"width:500px\">\n",
    "\n",
    "If a network has more than one hidden layer, we call it a **deep artificial neural network.**\n",
    "\n",
    "Note that special algorithms have been developed to help train deep neural network structures: this is known as deep learning.\n",
    "\n",
    "As shown in the above figure, we denote the $i^{\\mathrm{th}}$ activation unit in the $l^{\\mathrm{th}}$ layer as $a_j^{(l)}$.\n",
    "\n",
    "* $a_i^{(in)}$ refers to the $i^{\\mathrm{th}}$ value in the input layer.\n",
    "* $a_i^h$ refers to the $i^{\\mathrm{th}}$ unit in the hidden layer.\n",
    "* $a_i^{(out)}$ refers to the $i^{\\mathrm{th}}$ unit in the output layer.\n",
    "* Activation units $a_0^{(in)}$ and $a_o^{(h)}$ are the bias units, which we set equal to 1.\n",
    "\n",
    "The activation of the units in the input layer is just its input plus the bias units:\n",
    "\n",
    "$$\n",
    "a^{(in)} = \\begin{bmatrix}\n",
    "a_0^{(in)} \\\\ a_1^{(in)} \\\\ \\vdots \\\\ a_m^{(in)} \\\\\n",
    "\\end{bmatrix} = \\begin{bmatrix}\n",
    "1 \\\\ x_1^{(in)} \\\\ \\vdots \\\\ x_m^{(in)} \\\\\n",
    "\\end{bmatrix}\n",
    "$$\n",
    "\n",
    "$w_{k,j}^{(l+1)}$ refers to the connection between the $k^{\\mathrm{th}}$ unit in layer $l$ to the $j^{\\mathrm{th}}$ unit in layer $(l + 1)$.\n",
    "\n",
    "* $\\mathbf{W}^{(h)}$ denotes the weight matrix that connects the input to the hidden layer.\n",
    "* $\\mathbf{W}^{(\\mathrm{out})}$ is the weight matrix that connects the hidden layer to the output layer.\n",
    "\n",
    "We saw a more general form of a neural network in the preceding figure, which allows us to perform multiclass classification via a generalsation of the **One-versus-All (OvA)** technique.\n",
    "\n",
    "We summarise the weights that connect the input and hidden layers by a matrix $\\mathbf{W}^{(h)}\\in R^{m\\times d}$, where $d$ is the number of hidden units, and $m$ is the number of input units including the bias unit.\n",
    "\n",
    "Let's summarise what we have just learned in a descriptive illustration of a simpliefied 3-4-3 multilayer perceptron:\n",
    "\n",
    "<img src=\"images/12_03.png\" style=\"width:500px\">"
   ]
  },
  {
   "cell_type": "markdown",
   "metadata": {},
   "source": [
    "## Activating a neural network via forward propagation.\n",
    "\n",
    "In this section, we will describe the process of **forward propagation** to calculate the output of an MLP model.  Let us summarise the MLP learning procedure in three simple steps:\n",
    "\n",
    "1. Starting at the input layer, we forward propagate the patterns of the training data through the network to generate an output.\n",
    "2. Based on the network's output, we calculate the error that we want to minimise using the cost function that we will describe alter.\n",
    "3. We backpropagate the error, find its derivative with respect to each weight in the network, and update the model.\n",
    "\n",
    "Finally, after we repeat these three steps for multiple epochs and learn the weights of the MLP, we use forward propagation to calculate the network output and apply a threshold function to obtain the predicted class labels in the one-hot representation.\n",
    "\n",
    "Now, let's walk through the individual steps of forward propagation to generate an output from the patterns in the training data.  We first calculate the activation unit of the hidden layer $a_1^{(h)}$ as follows:\n",
    "\n",
    "$$\n",
    "z_1^{(h)} = a_0^{(in)}w_{0,1}^{(h)} + a_1^{(in)}w_{1,1}^{(h)} + \\ldots + a_m^{(in)}w_{m,1}^{(h)}\\\\\n",
    "a_1^{(h)} = \\phi(z_1^{(h)})\n",
    "$$\n",
    "\n",
    "Here, $z_1^{(h)}$ is the net input, and $\\phi(\\cdot)$ is the activation function, which has to be differentiable to learn the weights that connect the neurons using a gradient-based approach.  To be able to solve complex problems such as image classification, we need non-linear activtion functions in our MLP model, for example, the sigmoid (logistic) activaiton function.  The sigmoid activation function is defined as follows:\n",
    "\n",
    "$$\n",
    "\\phi(z) = \\frac{1}{1 + e^{-z}}\n",
    "$$\n",
    "\n",
    "The sigmoid function, is an $S$-shaped curve that maps the net input $z$ onto a logistic distribution in the range of $[0, 1]$, which cuts the $y$-axis at $z = 0$, as shown in the following graph:\n",
    "<img src=\"images/12_04.png\" style=\"width:500px\">\n",
    "\n",
    "The term **feedforward** refers to the fact that each layer serves as the input to the next layer without loops.  Intuitively, we can think of the neurons in the MLP as logistic regression units that return values in the continuous range between 0 and 1.\n",
    "\n",
    "Let us now write the activation in a more compact form using the cocepts of basic linear algebra:\n",
    "$$\n",
    "\\mathbf{z}^{(h)} = \\mathbf{a}^{(in)}\\mathbf{W}^{(h)}\\\\\n",
    "\\mathbf{a}^{(h)} = \\phi\\left(\\mathbf{z}^{(h)}\\right)\n",
    "$$\n",
    "\n",
    "* $\\mathbf{a}^{(in)}$ is our $1\\times m$ dimensional feature vector of a sample $\\mathbf{x}^{(in)}$ plus a bias unit.\n",
    "* $\\mathbf{W}^{(h)}$ is an $m\\times d$ dimensional weight matrix where $d$ is the number of units in the hidden layer.\n",
    "\n",
    "After matrix-vector multiplication, we obtain the $1\\times d$ dimensional net input vector $\\mathbf{z}^{(h)}$ to calculate the activation $\\mathbf{a}^{(h)}$.  Furthermore, we generalise this computation to all the $n$ samples in the training set:\n",
    "$$\n",
    "\\mathbf{Z}^{(h)} = \\mathbf{A}^{(in)}\\mathbf{W}^{(h)}\n",
    "$$\n",
    "\n",
    "* $\\mathbf{A}^{(in)}$ is now an $n\\times m$ matrix, and the matrix-matrix multiplication will result in an $n\\times d$ dimensional net input matrix $\\mathbf{Z}^{(h)}$.\n",
    "\n",
    "Finally, we apply the activation function $\\phi(\\cdot)$ to each value in the net input matrix to get the $n\\times d$ activation matrix $\\mathbf{A}^{(h)}$ for the next layer (here, the output layer)\n",
    "\n",
    "$$\n",
    "\\mathbf{A}^{(h)} = \\phi\\left( \\mathbf{Z}^{(h)} \\right)\n",
    "$$\n",
    "\n",
    "Similarly, we can write the activation of the output layer in vectorized form for multiple samples:\n",
    "\n",
    "$$\n",
    "\\mathbf{Z}^{(out)} = \\mathbf{A}^{(h)}\\mathbf{W}^{(out)}\n",
    "$$\n",
    "\n",
    "here, we multiply the $d\\times t$ matrix $\\mathbf{W}^{(out)}$ (where $t$ is the number of output units) by the $n\\times d$ dimensional matrix $\\mathbf{A}^{(h)}$ to obtain the $n\\times t$ dimensional matrix $\\mathbf{Z}^{(out)}$ (the columns in this matrix represent the outputs for each sample).\n",
    "\n",
    "Lastly, we apply the sigmoid activation function to obtain the continuous valued output of our network:\n",
    "\n",
    "$$\n",
    "\\mathbf{A}^{(out)} = \\phi\\left( \\mathbf{Z}^{(out)} \\right)\n",
    "$$\n",
    "where $\\mathbf{A}^{(out)} \\in {\\rm I\\!R}^{n\\times t}$"
   ]
  },
  {
   "cell_type": "markdown",
   "metadata": {},
   "source": [
    "## Obtaining the MNIST dataset\n",
    "\n",
    "The MNIST dataset is publicly availabel at <http://yann.lecun.com/exdb/mnist/> and consists of the following four parts.\n",
    "\n",
    "* **Training set images** (60,000 samples)\n",
    "* **Training set labels** (60,000 samples)\n",
    "* **Test set images** (10,000 samples)\n",
    "* **Test set labels** (10,000 labels)\n",
    "\n",
    "After downloading the files, I recommend that you unzip the files using the Linux `gzip` tool from the Terminal for efficiency, using the following command in you local MNIST download directory:\n",
    "\n",
    "`gzip *ubyte.gz -d`\n",
    "\n",
    "The images are stored in byte format, and we will read them into NumPy arrays that wee will use to train and test our MLP implementation.  In order to do that, we will define the following helper function:"
   ]
  },
  {
   "cell_type": "code",
   "execution_count": 13,
   "metadata": {},
   "outputs": [],
   "source": [
    "import os\n",
    "import struct\n",
    "import numpy as np\n",
    "\n",
    "def load_mnist(path, kind='train'):\n",
    "    \"\"\"Load MNIST data from `path`\"\"\"\n",
    "    labels_path = os.path.join(path, \"{}-labels-idx1-ubyte\".format(kind))\n",
    "    images_path = os.path.join(path, \"{}-images-idx3-ubyte\".format(kind))\n",
    "    \n",
    "    with open(labels_path, \"rb\") as lbpath:\n",
    "        magic, n = struct.unpack('>II', lbpath.read(8))\n",
    "        labels = np.fromfile(lbpath, dtype=np.uint8)\n",
    "    \n",
    "    with open(images_path, 'rb') as imgpath:\n",
    "        magic, num, rows, cols = struct.unpack('>IIII', imgpath.read(16))\n",
    "        images = np.fromfile(imgpath, dtype=np.uint8).reshape(len(labels), 784)\n",
    "        images = ((images / 255.) - 0.5) * 2 # Standardise the images to have the range [-1, +1]\n",
    "    \n",
    "    return images, labels"
   ]
  },
  {
   "cell_type": "markdown",
   "metadata": {},
   "source": [
    "The `load_mnist` function returns 2 arrays, the first being an $n\\times m$ dimensional NumPy array (`images`), where $n$ is the number of samples and $m$ is the number of features (here, pixels).\n",
    "\n",
    "We are going to unroll the $28\\times 28$ pixels into one-dimensional row vectors, which represent the rows in our `images` array (784 per row or image).  The second array (`labels`) returned by the `load_mnist` function contains the corresponding target variable, the class labels (integers 0-9) of the handwritten digits.\n",
    "\n",
    "```python\n",
    "magic, n = struct.unpack('>II', lbpath.read(8))\n",
    "labels = np.fromfile(lbpath, dtype=np.int8)\n",
    "```\n",
    "First, we read in the magic number, which is a description of the file protocol, and secondly, we read the number of items `n` from the file buffer before we read the following bytes into a NumPy array using the `fromfile` method.  The `fmt` parameter valoue `'>II'` that we passed as an argument to `struct.unpack` can be composed into the following two parts:\n",
    "* `>`:  This is big-endian.  It defines the order in which a sequence of bytes is stored.\n",
    "* `I`: This is an unsigned integer."
   ]
  },
  {
   "cell_type": "markdown",
   "metadata": {},
   "source": [
    "By executing the following code, we will now load the 60,000 training instances as well as the 10,000 test samples from the local directory:"
   ]
  },
  {
   "cell_type": "code",
   "execution_count": 14,
   "metadata": {},
   "outputs": [
    {
     "name": "stdout",
     "output_type": "stream",
     "text": [
      "Rows: 60000, Columns: 784\n",
      "Rows: 10000, Columns: 784\n"
     ]
    }
   ],
   "source": [
    "X_train, y_train = load_mnist('', kind='train')\n",
    "print(\"Rows: {}, Columns: {}\".format(X_train.shape[0], X_train.shape[1]))\n",
    "\n",
    "X_test, y_test = load_mnist('', kind='t10k')\n",
    "print(\"Rows: {}, Columns: {}\".format(X_test.shape[0], X_test.shape[1]))"
   ]
  },
  {
   "cell_type": "markdown",
   "metadata": {},
   "source": [
    "To get an idea of how those images in MNIST look, we show some plots via Matplotlib's `imshow` function:"
   ]
  },
  {
   "cell_type": "code",
   "execution_count": 15,
   "metadata": {},
   "outputs": [
    {
     "data": {
      "image/png": "[encoded data removed]",
      "text/plain": [
       "<Figure size 432x288 with 10 Axes>"
      ]
     },
     "metadata": {},
     "output_type": "display_data"
    }
   ],
   "source": [
    "import matplotlib.pyplot as plt\n",
    "\n",
    "fig, ax = plt.subplots(nrows=2, ncols=5, sharex=True, sharey=True)\n",
    "ax = ax.flatten()\n",
    "for i in range(10):\n",
    "    img = X_train[y_train == i][0].reshape(28, 28)\n",
    "    ax[i].imshow(img, cmap='Greys')\n",
    "    \n",
    "ax[0].set_xticks([])\n",
    "ax[0].set_yticks([])\n",
    "plt.tight_layout()\n",
    "plt.show()"
   ]
  },
  {
   "cell_type": "markdown",
   "metadata": {},
   "source": [
    "In addition, let's also plot multiple examples of the same digit to see how different the handwriting really is:"
   ]
  },
  {
   "cell_type": "code",
   "execution_count": 16,
   "metadata": {},
   "outputs": [
    {
     "data": {
      "image/png": "[encoded data removed]",
      "text/plain": [
       "<Figure size 432x288 with 25 Axes>"
      ]
     },
     "metadata": {},
     "output_type": "display_data"
    }
   ],
   "source": [
    "fig, ax = plt.subplots(nrows=5, ncols=5, sharex=True, sharey=True)\n",
    "\n",
    "ax = ax.flatten()\n",
    "for i in range(25):\n",
    "    img = X_train[y_train == 7][i].reshape(28, 28)\n",
    "    ax[i].imshow(img, cmap=\"Greys\")\n",
    "ax[0].set_xticks([])\n",
    "ax[0].set_yticks([])\n",
    "plt.tight_layout()\n",
    "plt.show()"
   ]
  },
  {
   "cell_type": "markdown",
   "metadata": {},
   "source": [
    "The `savez_compressed` further compresses the output file down to substantially smaller file sizes (approximagely 22 MB versus approximagely 400 MB in this case).  The following code snippet will save both the training and test datasets to the archive file `'mnist_scaled.npz'`"
   ]
  },
  {
   "cell_type": "code",
   "execution_count": 17,
   "metadata": {},
   "outputs": [],
   "source": [
    "import numpy as np\n",
    "\n",
    "np.savez_compressed('mnist_scaled.npz',\n",
    "                   X_train=X_train,\n",
    "                   y_train=y_train,\n",
    "                   X_test=X_test,\n",
    "                   y_test=y_test)"
   ]
  },
  {
   "cell_type": "markdown",
   "metadata": {},
   "source": [
    "Now we can load the preprocessed MNIST image arrays using NumPy's `load` function as follows:\n",
    "```python\n",
    "mnist=np.load('mnist_scaled.npz')\n",
    "```\n",
    "The `mnist` variable now references to an object that can access the four data arrays, which can be listed under the files attribute list of the `mnist` object."
   ]
  },
  {
   "cell_type": "code",
   "execution_count": 18,
   "metadata": {},
   "outputs": [
    {
     "data": {
      "text/plain": [
       "['X_train', 'y_train', 'X_test', 'y_test']"
      ]
     },
     "execution_count": 18,
     "metadata": {},
     "output_type": "execute_result"
    }
   ],
   "source": [
    "mnist = np.load('mnist_scaled.npz')\n",
    "mnist.files"
   ]
  },
  {
   "cell_type": "markdown",
   "metadata": {},
   "source": [
    "Using a list comprehension we can retrieve all four data arrays as follows:"
   ]
  },
  {
   "cell_type": "code",
   "execution_count": 19,
   "metadata": {},
   "outputs": [],
   "source": [
    "X_train, y_train, X_test, y_test = [mnist[f] for f in mnist.files]"
   ]
  },
  {
   "cell_type": "markdown",
   "metadata": {},
   "source": [
    "The preceding `np.savez_compressed` and `np.load` examples are not essential for executing the code in this chapter, it servers as a demonstration of how to save and load NumPy arrays conveniently and efficiently."
   ]
  },
  {
   "cell_type": "markdown",
   "metadata": {},
   "source": [
    "## Implementing a multilayer perceptron\n",
    "\n",
    "The following is the implementation of a multilayer perceptron:"
   ]
  },
  {
   "cell_type": "code",
   "execution_count": 20,
   "metadata": {},
   "outputs": [],
   "source": [
    "import numpy as np\n",
    "import sys\n",
    "\n",
    "\n",
    "class NeuralNetMLP(object):\n",
    "    \"\"\" Feedforward neural network / Multi-layer perceptron classifier.\n",
    "\n",
    "    Parameters\n",
    "    ------------\n",
    "    n_hidden : int (default: 30)\n",
    "        Number of hidden units.\n",
    "    l2 : float (default: 0.)\n",
    "        Lambda value for L2-regularization.\n",
    "        No regularization if l2=0. (default)\n",
    "    epochs : int (default: 100)\n",
    "        Number of passes over the training set.\n",
    "    eta : float (default: 0.001)\n",
    "        Learning rate.\n",
    "    shuffle : bool (default: True)\n",
    "        Shuffles training data every epoch if True to prevent circles.\n",
    "    minibatch_size : int (default: 1)\n",
    "        Number of training samples per minibatch.\n",
    "    seed : int (default: None)\n",
    "        Random seed for initalizing weights and shuffling.\n",
    "\n",
    "    Attributes\n",
    "    -----------\n",
    "    eval_ : dict\n",
    "      Dictionary collecting the cost, training accuracy,\n",
    "      and validation accuracy for each epoch during training.\n",
    "\n",
    "    \"\"\"\n",
    "    def __init__(self, n_hidden=30,\n",
    "                 l2=0., epochs=100, eta=0.001,\n",
    "                 shuffle=True, minibatch_size=1, seed=None):\n",
    "\n",
    "        self.random = np.random.RandomState(seed)\n",
    "        self.n_hidden = n_hidden\n",
    "        self.l2 = l2\n",
    "        self.epochs = epochs\n",
    "        self.eta = eta\n",
    "        self.shuffle = shuffle\n",
    "        self.minibatch_size = minibatch_size\n",
    "\n",
    "    def _onehot(self, y, n_classes):\n",
    "        \"\"\"Encode labels into one-hot representation\n",
    "\n",
    "        Parameters\n",
    "        ------------\n",
    "        y : array, shape = [n_samples]\n",
    "            Target values.\n",
    "\n",
    "        Returns\n",
    "        -----------\n",
    "        onehot : array, shape = (n_samples, n_labels)\n",
    "\n",
    "        \"\"\"\n",
    "        onehot = np.zeros((n_classes, y.shape[0]))\n",
    "        for idx, val in enumerate(y):\n",
    "            onehot[val, idx] = 1.\n",
    "        return onehot.T\n",
    "\n",
    "    def _sigmoid(self, z):\n",
    "        \"\"\"Compute logistic function (sigmoid)\"\"\"\n",
    "        return 1. / (1. + np.exp(-np.clip(z, -250, 250)))\n",
    "\n",
    "    def _forward(self, X):\n",
    "        \"\"\"Compute forward propagation step\"\"\"\n",
    "\n",
    "        # step 1: net input of hidden layer\n",
    "        # [n_samples, n_features] dot [n_features, n_hidden]\n",
    "        # -> [n_samples, n_hidden]\n",
    "        z_h = np.dot(X, self.w_h) + self.b_h\n",
    "\n",
    "        # step 2: activation of hidden layer\n",
    "        a_h = self._sigmoid(z_h)\n",
    "\n",
    "        # step 3: net input of output layer\n",
    "        # [n_samples, n_hidden] dot [n_hidden, n_classlabels]\n",
    "        # -> [n_samples, n_classlabels]\n",
    "\n",
    "        z_out = np.dot(a_h, self.w_out) + self.b_out\n",
    "\n",
    "        # step 4: activation output layer\n",
    "        a_out = self._sigmoid(z_out)\n",
    "\n",
    "        return z_h, a_h, z_out, a_out\n",
    "\n",
    "    def _compute_cost(self, y_enc, output):\n",
    "        \"\"\"Compute cost function.\n",
    "\n",
    "        Parameters\n",
    "        ----------\n",
    "        y_enc : array, shape = (n_samples, n_labels)\n",
    "            one-hot encoded class labels.\n",
    "        output : array, shape = [n_samples, n_output_units]\n",
    "            Activation of the output layer (forward propagation)\n",
    "\n",
    "        Returns\n",
    "        ---------\n",
    "        cost : float\n",
    "            Regularized cost\n",
    "\n",
    "        \"\"\"\n",
    "        L2_term = (self.l2 *\n",
    "                   (np.sum(self.w_h ** 2.) +\n",
    "                    np.sum(self.w_out ** 2.)))\n",
    "\n",
    "        term1 = -y_enc * (np.log(output))\n",
    "        term2 = (1. - y_enc) * np.log(1. - output)\n",
    "        cost = np.sum(term1 - term2) + L2_term\n",
    "\n",
    "        # If you are applying this cost function to other\n",
    "        # datasets where activation\n",
    "        # values maybe become more extreme (closer to zero or 1)\n",
    "        # you may encounter \"ZeroDivisionError\"s due to numerical\n",
    "        # instabilities in Python & NumPy for the current implementation.\n",
    "        # I.e., the code tries to evaluate log(0), which is undefined.\n",
    "        # To address this issue, you could add a small constant to the\n",
    "        # activation values that are passed to the log function.\n",
    "        #\n",
    "        # For example:\n",
    "        #\n",
    "        # term1 = -y_enc * (np.log(output + 1e-5))\n",
    "        # term2 = (1. - y_enc) * np.log(1. - output + 1e-5)\n",
    "\n",
    "        return cost\n",
    "\n",
    "    def predict(self, X):\n",
    "        \"\"\"Predict class labels\n",
    "\n",
    "        Parameters\n",
    "        -----------\n",
    "        X : array, shape = [n_samples, n_features]\n",
    "            Input layer with original features.\n",
    "\n",
    "        Returns:\n",
    "        ----------\n",
    "        y_pred : array, shape = [n_samples]\n",
    "            Predicted class labels.\n",
    "\n",
    "        \"\"\"\n",
    "        z_h, a_h, z_out, a_out = self._forward(X)\n",
    "        y_pred = np.argmax(z_out, axis=1)\n",
    "        return y_pred\n",
    "\n",
    "    def fit(self, X_train, y_train, X_valid, y_valid):\n",
    "        \"\"\" Learn weights from training data.\n",
    "\n",
    "        Parameters\n",
    "        -----------\n",
    "        X_train : array, shape = [n_samples, n_features]\n",
    "            Input layer with original features.\n",
    "        y_train : array, shape = [n_samples]\n",
    "            Target class labels.\n",
    "        X_valid : array, shape = [n_samples, n_features]\n",
    "            Sample features for validation during training\n",
    "        y_valid : array, shape = [n_samples]\n",
    "            Sample labels for validation during training\n",
    "\n",
    "        Returns:\n",
    "        ----------\n",
    "        self\n",
    "\n",
    "        \"\"\"\n",
    "        n_output = np.unique(y_train).shape[0]  # number of class labels\n",
    "        n_features = X_train.shape[1]\n",
    "\n",
    "        ########################\n",
    "        # Weight initialization\n",
    "        ########################\n",
    "\n",
    "        # weights for input -> hidden\n",
    "        self.b_h = self.random.normal(loc=0.0, scale=0.1, size=self.n_hidden)\n",
    "        self.w_h = self.random.normal(loc=0.0, scale=0.1,\n",
    "                                      size=(n_features, self.n_hidden))\n",
    "\n",
    "        # weights for hidden -> output\n",
    "        self.b_out = self.random.normal(loc=0.0, scale=0.1, size=n_output)\n",
    "        self.w_out = self.random.normal(loc=0.0, scale=0.1,\n",
    "                                        size=(self.n_hidden, n_output))\n",
    "\n",
    "        epoch_strlen = len(str(self.epochs))  # for progress formatting\n",
    "        self.eval_ = {'cost': [], 'train_acc': [], 'valid_acc': []}\n",
    "\n",
    "        y_train_enc = self._onehot(y_train, n_output)\n",
    "\n",
    "        # iterate over training epochs\n",
    "        for i in range(self.epochs):\n",
    "\n",
    "            # iterate over minibatches\n",
    "            indices = np.arange(X_train.shape[0])\n",
    "\n",
    "            if self.shuffle:\n",
    "                self.random.shuffle(indices)\n",
    "\n",
    "            for start_idx in range(0, indices.shape[0] - self.minibatch_size +\n",
    "                                   1, self.minibatch_size):\n",
    "                batch_idx = indices[start_idx:start_idx + self.minibatch_size]\n",
    "\n",
    "                # forward propagation\n",
    "                z_h, a_h, z_out, a_out = self._forward(X_train[batch_idx])\n",
    "\n",
    "                ##################\n",
    "                # Backpropagation\n",
    "                ##################\n",
    "\n",
    "                # [n_samples, n_classlabels]\n",
    "                sigma_out = a_out - y_train_enc[batch_idx]\n",
    "\n",
    "                # [n_samples, n_hidden]\n",
    "                sigmoid_derivative_h = a_h * (1. - a_h)\n",
    "\n",
    "                # [n_samples, n_classlabels] dot [n_classlabels, n_hidden]\n",
    "                # -> [n_samples, n_hidden]\n",
    "                sigma_h = (np.dot(sigma_out, self.w_out.T) *\n",
    "                           sigmoid_derivative_h)\n",
    "\n",
    "                # [n_features, n_samples] dot [n_samples, n_hidden]\n",
    "                # -> [n_features, n_hidden]\n",
    "                grad_w_h = np.dot(X_train[batch_idx].T, sigma_h)\n",
    "                grad_b_h = np.sum(sigma_h, axis=0)\n",
    "\n",
    "                # [n_hidden, n_samples] dot [n_samples, n_classlabels]\n",
    "                # -> [n_hidden, n_classlabels]\n",
    "                grad_w_out = np.dot(a_h.T, sigma_out)\n",
    "                grad_b_out = np.sum(sigma_out, axis=0)\n",
    "\n",
    "                # Regularization and weight updates\n",
    "                delta_w_h = (grad_w_h + self.l2*self.w_h)\n",
    "                delta_b_h = grad_b_h  # bias is not regularized\n",
    "                self.w_h -= self.eta * delta_w_h\n",
    "                self.b_h -= self.eta * delta_b_h\n",
    "\n",
    "                delta_w_out = (grad_w_out + self.l2*self.w_out)\n",
    "                delta_b_out = grad_b_out  # bias is not regularized\n",
    "                self.w_out -= self.eta * delta_w_out\n",
    "                self.b_out -= self.eta * delta_b_out\n",
    "\n",
    "            #############\n",
    "            # Evaluation\n",
    "            #############\n",
    "\n",
    "            # Evaluation after each epoch during training\n",
    "            z_h, a_h, z_out, a_out = self._forward(X_train)\n",
    "            cost = self._compute_cost(y_enc=y_train_enc,\n",
    "                                      output=a_out)\n",
    "\n",
    "            y_train_pred = self.predict(X_train)\n",
    "            y_valid_pred = self.predict(X_valid)\n",
    "\n",
    "            train_acc = ((np.sum(y_train == y_train_pred)).astype(np.float) /\n",
    "                         X_train.shape[0])\n",
    "            valid_acc = ((np.sum(y_valid == y_valid_pred)).astype(np.float) /\n",
    "                         X_valid.shape[0])\n",
    "\n",
    "            sys.stderr.write('\\r%0*d/%d | Cost: %.2f '\n",
    "                             '| Train/Valid Acc.: %.2f%%/%.2f%% ' %\n",
    "                             (epoch_strlen, i+1, self.epochs, cost,\n",
    "                              train_acc*100, valid_acc*100))\n",
    "            sys.stderr.flush()\n",
    "\n",
    "            self.eval_['cost'].append(cost)\n",
    "            self.eval_['train_acc'].append(train_acc)\n",
    "            self.eval_['valid_acc'].append(valid_acc)\n",
    "\n",
    "        return self"
   ]
  },
  {
   "cell_type": "markdown",
   "metadata": {},
   "source": [
    "Let us now initialise a new 784-100-10 MLP--a neural network with 784 input units (`n_features`), 100 hidden units (`n_hidden`), and 10 output units (`n_output`):"
   ]
  },
  {
   "cell_type": "code",
   "execution_count": 21,
   "metadata": {},
   "outputs": [],
   "source": [
    "nn = NeuralNetMLP(n_hidden=200,\n",
    "                 l2=0.01,\n",
    "                 epochs=200,\n",
    "                 eta=0.0005,\n",
    "                 minibatch_size=1000,\n",
    "                 shuffle=True,\n",
    "                 seed=1)"
   ]
  },
  {
   "cell_type": "markdown",
   "metadata": {},
   "source": [
    "* `l2`: This is the $\\lambda$ parameter for L2 regularization to decrease the degree of overfitting.\n",
    "* `epochs`: This is the number of passes over the training set.\n",
    "* `eta`: This is the learning rate $\\eta$.\n",
    "* `shuffle`: This is for shuffling the training set prior to every epoch to prevent that the algorithms gets stuck in circles.\n",
    "* `seed`: This is a random seed for shuffling and weight initialisation.\n",
    "* `minibatch_size`: This is the number of trainig samples in each mini-batch when splitting of the training data in each epoch for stochastic gradient descent.  The gradient is computed for each mini-batch separately instead of the entire training data for faster learning."
   ]
  },
  {
   "cell_type": "markdown",
   "metadata": {},
   "source": [
    "Next, we train the MLP using 55,000 samples from the already shuffled MNIST training dataset and use the remaining 5,000 samples for validation during training.\n",
    "\n",
    "We implemented the `fit` method so that it takes four input arguments: traiing images, training labels, validation images, and validation labels.  In neural network training, it is really useful to already compare training and validation accuracy during training, which helps us judge whether the network model performs well, given the architecture and hyperparameters.\n",
    "\n",
    "To start the training, we execute the following code:"
   ]
  },
  {
   "cell_type": "code",
   "execution_count": 22,
   "metadata": {},
   "outputs": [
    {
     "name": "stderr",
     "output_type": "stream",
     "text": [
      "200/200 | Cost: 2891.60 | Train/Valid Acc.: 99.71%/98.14%  "
     ]
    },
    {
     "data": {
      "text/plain": [
       "<__main__.NeuralNetMLP at 0x7fe40cef1cf8>"
      ]
     },
     "execution_count": 22,
     "metadata": {},
     "output_type": "execute_result"
    }
   ],
   "source": [
    "nn.fit(X_train=X_train[:55000],\n",
    "      y_train=y_train[:55000],\n",
    "      X_valid=X_train[55000:],\n",
    "      y_valid=y_train[55000:])"
   ]
  },
  {
   "cell_type": "markdown",
   "metadata": {},
   "source": [
    "We also defined an `eval_` attribute that collects the cost, training, and validation accuracy for each epoch so that we can visualise the results using Matplotlib:"
   ]
  },
  {
   "cell_type": "code",
   "execution_count": 23,
   "metadata": {},
   "outputs": [
    {
     "data": {
      "image/png": "[encoded data removed]",
      "text/plain": [
       "<Figure size 432x288 with 1 Axes>"
      ]
     },
     "metadata": {
      "needs_background": "light"
     },
     "output_type": "display_data"
    }
   ],
   "source": [
    "import matplotlib.pyplot as plt\n",
    "plt.plot(range(nn.epochs), nn.eval_['cost'])\n",
    "plt.ylabel('Cost')\n",
    "plt.xlabel('Epoch')\n",
    "plt.show()"
   ]
  },
  {
   "cell_type": "markdown",
   "metadata": {},
   "source": [
    "The preceding code plots the cost over the 200 epochs, as shown in the above figure.\n",
    "\n",
    "As we can see, the cost decreased substantially during the first 100 epochs and seems to slowly converge in the last 100 epochs.  However, the small slope between epoch 175 and epoch 200 indicates that the cost would further dcrease with training over additional epochs."
   ]
  },
  {
   "cell_type": "code",
   "execution_count": 24,
   "metadata": {},
   "outputs": [
    {
     "name": "stdout",
     "output_type": "stream",
     "text": [
      "2891.5995001586784\n"
     ]
    }
   ],
   "source": [
    "print(nn.eval_['cost'][-1])"
   ]
  },
  {
   "cell_type": "markdown",
   "metadata": {},
   "source": [
    "Next, let us have a look at the training and validation accuracy as a function of Epoch."
   ]
  },
  {
   "cell_type": "code",
   "execution_count": 26,
   "metadata": {},
   "outputs": [
    {
     "data": {
      "image/png": "[encoded data removed]",
      "text/plain": [
       "<Figure size 432x288 with 1 Axes>"
      ]
     },
     "metadata": {
      "needs_background": "light"
     },
     "output_type": "display_data"
    }
   ],
   "source": [
    "plt.plot(range(nn.epochs), nn.eval_['train_acc'], label='Training')\n",
    "plt.plot(range(nn.epochs), nn.eval_['valid_acc'], label='Validation')\n",
    "plt.ylabel('Accuracy')\n",
    "plt.xlabel('Epochs')\n",
    "plt.legend()\n",
    "plt.show()"
   ]
  },
  {
   "cell_type": "markdown",
   "metadata": {},
   "source": [
    "The preceding code examples plot the accuracy values over the 200 training epochs, as shown in the figure above.  The plot reveals that the gap between training and validation accuracy increases the more epochs we train the network.  At approximately the 50th epoch, the training and validation accuracy values are equal, and then, the network starts overfitting the training data.\n",
    "\n",
    "One way to decrease the effects of overfitting is to increase the regularization strenght---for example, but setting `l2=0.1`.  Another useful technique to tackle overfitting in neural networks, is dropout, which will be coverewd in Chapter 15."
   ]
  },
  {
   "cell_type": "code",
   "execution_count": 27,
   "metadata": {},
   "outputs": [
    {
     "name": "stdout",
     "output_type": "stream",
     "text": [
      "0.997109090909091\n",
      "0.9814\n"
     ]
    }
   ],
   "source": [
    "print(nn.eval_['train_acc'][-1])\n",
    "print(nn.eval_['valid_acc'][-1])"
   ]
  },
  {
   "cell_type": "markdown",
   "metadata": {},
   "source": [
    "Finally, let us evaluate the generalisation performance of the model by calculating the prediction accuracy on the test set:"
   ]
  },
  {
   "cell_type": "code",
   "execution_count": 29,
   "metadata": {},
   "outputs": [
    {
     "name": "stdout",
     "output_type": "stream",
     "text": [
      "Training Accuracy: 97.88.\n"
     ]
    }
   ],
   "source": [
    "y_test_pred = nn.predict(X_test)\n",
    "acc = (np.sum(y_test == y_test_pred).astype(np.float) / X_test.shape[0])\n",
    "print('Training Accuracy: {:.2f}.'.format(acc*100))"
   ]
  },
  {
   "cell_type": "markdown",
   "metadata": {},
   "source": [
    "To further fine-tune the model, we could change the number of hidden units, values of the regularization strength, and the learning rate.\n",
    "\n",
    "Lastly, let us take a look at some of the images that our MLP struggles with."
   ]
  },
  {
   "cell_type": "code",
   "execution_count": 31,
   "metadata": {},
   "outputs": [
    {
     "data": {
      "image/png": "[encoded data removed]",
      "text/plain": [
       "<Figure size 432x288 with 16 Axes>"
      ]
     },
     "metadata": {},
     "output_type": "display_data"
    }
   ],
   "source": [
    "miscl_img = X_test[y_test != y_test_pred][:16]\n",
    "correct_lab = y_test[y_test != y_test_pred][:16]\n",
    "miscl_lab = y_test_pred[y_test != y_test_pred][:16]\n",
    "\n",
    "fig, ax = plt.subplots(nrows=4, ncols=4, sharex=True, sharey=True)\n",
    "\n",
    "ax = ax.flatten()\n",
    "for i in range(16):\n",
    "    img = miscl_img[i].reshape(28, 28)\n",
    "    ax[i].imshow(img, cmap=\"Greys\", interpolation=\"nearest\")\n",
    "    ax[i].set_title(\"{:.0f}) t: {:.0f} p: {:.0f}\".format(i+1, correct_lab[i], miscl_lab[i]))\n",
    "ax[0].set_xticks([])\n",
    "ax[0].set_yticks([])\n",
    "plt.tight_layout()\n",
    "plt.show()"
   ]
  },
  {
   "cell_type": "markdown",
   "metadata": {},
   "source": [
    "The first number in the subtitles indicate the plot index, the second number represents the true class label (`t`), and the third number stands for the predicted class label (`p`).\n",
    "\n",
    "As we can see in the preceding figure, some of those images are even challenging for us humans to classify correctly."
   ]
  },
  {
   "cell_type": "markdown",
   "metadata": {},
   "source": [
    "## Training an artificial neural network.\n",
    "\n"
   ]
  },
  {
   "cell_type": "markdown",
   "metadata": {},
   "source": [
    "The logistic cost function is defined as:\n",
    "\n",
    "$$\n",
    "J(\\mathbf{w}) = -\\left[\\sum_{i=1}^n y^{(i)}\\log\\left( a^{(i)} \\right) + \\left( 1 - y^{(i)} \\right)\\log\\left( 1 - a^{(i)} \\right)\\right]\n",
    "$$\n",
    "\n",
    "Here, $a^{(i)}$ is the sigmoid activation of the $i^{\\mathrm{th}}$ sample in the dataset.  The superscript $i$ is an index for training samples, not layers.\n",
    "\n",
    "The L2 regularization term is defined as follows (keeping in mind that we do not regularise the bias units):\n",
    "\n",
    "$$\n",
    "L2 = \\frac{\\lambda}{2}\\left\\lVert\\mathbf{w}\\right\\rVert_2^2 = \\frac{\\lambda}{2}\\sum_{j=1}^m w_j^2\n",
    "$$\n",
    "\n",
    "By adding the L2 regularisation term to our logistic cost function, we obtain the following equation:\n",
    "$$\n",
    "J(\\mathbf{w}) = -\\left[\\sum_{i=1}^n y^{(i)}\\log\\left( a^{(i)} \\right) + \\left( 1 - y^{(i)} \\right)\\log\\left( 1 - a^{(i)} \\right)\\right] + \\frac{\\lambda}{2}\\left\\lVert\\mathbf{w}\\right\\rVert_2^2\n",
    "$$\n",
    "\n",
    "Now, we need to generalise the logistic cost function to all the $t$ activation units in our network.\n",
    "$$\n",
    "J(\\mathbf{W}) = -\\left[ \\sum_{i=1}^n\\sum_{j=1}^t y_j^{(i)}\\log\\left( a_j^{(i)} \\right) + \\left( 1 - y_j^{(i)}\\right) \\log\\left( 1 - a_j^{(i)} \\right) \\right]\n",
    "$$\n",
    "\n",
    "Furthermore, the generalised regularisation term is the sum of all the squares of all the weights of an $l$ layer:\n",
    "$$\n",
    "L2 = \\frac{\\lambda}{2}\\sum_{i=1}^{u_l}\\sum_{j=1}^{u_{l+1}}\\left( w_{j,i}^{(l)} \\right)^2\n",
    "$$\n",
    "where $u_l$ refers to the number of units in a given layer $l$."
   ]
  },
  {
   "cell_type": "markdown",
   "metadata": {},
   "source": [
    "Remember that our goal is to minimise the cost function $J\\left( \\mathbf{W} \\right)$, and thus we need to calculate the partial derivative of the parameters of $\\mathbf{W}$ with respect to each weight for every layer in the network:\n",
    "\n",
    "$$\n",
    "\\frac{\\partial}{\\partial w_{j,i}^{(l)}}J\\left( \\mathbf{W} \\right)\n",
    "$$\n",
    "\n",
    "Notice that $\\mathbf{W}$ consists of multiple matrices.  An intuitive visualisation of the 3D tensor $\\mathbf{W}$ is provided in the following figure:\n",
    "\n",
    "<img src=\"images/12_10.png\" style=\"width:500px\">\n",
    "\n",
    "In this simplified figure, it may seem that both $\\mathbf{W}^{(h)}$ and $\\mathbf{W}^{(out)}$ have the same number of rows and columns, which is typically not the case unless we initialise an MLP with the same number of hidden units, output units, and input features."
   ]
  },
  {
   "cell_type": "markdown",
   "metadata": {},
   "source": [
    "## Developing your intuition for backpropagation.\n",
    "\n",
    "In essence, we can think of backpropagation as a very computationally efficient approach to compute the partial derivatives of a complex cost function in Multilayer Neural Networks"
   ]
  },
  {
   "cell_type": "markdown",
   "metadata": {},
   "source": [
    "## Training neural networks via backpropagation\n",
    "\n",
    "In backpropagation, we propagate the error from right to left.  We start by calculating the error vector of the output layer:\n",
    "$$\n",
    "\\mathbf{\\delta}^{(out)} = \\mathbf{a}^{(out)} - \\mathbf{y}\n",
    "$$\n",
    "Here, $\\mathbf{y}$ is the vector of the true class labels.\n",
    "\n",
    "Next, we calculate the error term of the hidden layer:\n",
    "$$\n",
    "\\mathbf{\\delta}^{(h)} = \\mathbf{\\delta}^{(out)}\\left( \\mathbf{W}^{(out)} \\right)^T\\odot\\frac{\\partial \\phi\\left( z^{(h)} \\right)}{\\partial z^{(h)}}\n",
    "$$\n",
    "\n",
    "Here, $\\frac{\\partial \\phi\\left( z^{(h)} \\right)}{\\partial z^{(h)}}$ is simply the derivative of the sigmoid activation function, which is computed to be:\n",
    "$$\n",
    "\\frac{\\partial \\phi\\left( z^{(h)} \\right)}{\\partial z^{(h)}} = \\left[ a^{(h)}\\odot\\left( 1 - a^{(h)} \\right) \\right]\n",
    "$$\n",
    "\n",
    "Note that the $\\odot$ symbol means element-wise multiplication in this context (also known as the Hadamard product).\n",
    "\n",
    "Next, we can write the derivate of the cost function in the following vectorised version:\n",
    "$$\n",
    "\\Delta^{(h)} = \\left( \\mathbf{A}^{(in)} \\right)^T\\delta^{(h)}\\\\\n",
    "\\Delta^{(out)} = \\left( \\mathbf{A}^{(h)}\\right)^T\\delta^{(out)}\\\\\n",
    "$$\n",
    "\n",
    "After we have accumulated the partial derivatives, we can add the regularisation term:\n",
    "$$\n",
    "\\Delta^{(l)} := \\Delta^{(l)} + \\lambda\\mathbf{W}^{l}\n",
    "$$\n",
    "\n",
    "Last, after we have computed the gradients, we can now update the weights by taking an opposite step towards the gradient for each layer $l$:\n",
    "$$\n",
    "\\mathbf{W}^{(l)} := \\mathbf{W}^{(l)} - \\eta\\Delta^{(l)}\n",
    "$$\n",
    "\n",
    "Let us summarise backpropagation in the following figure:\n",
    "<img src=\"images/12_12.png\" style=\"width:500px\">"
   ]
  },
  {
   "cell_type": "markdown",
   "metadata": {},
   "source": [
    "## About the Convergenc in Neural Networks\n",
    "\n",
    "Mini-batch learning is a special form of stochastic graient descent where we compute the gradient based on a subset $k$ of the $n$ training samples with $1 < k < n$.  We can update the weights much faster than in regular gradient descent.\n",
    "\n",
    "In reality, the output function of multilayer neural networks has a rough surface and the optimisation algorithm can easily become trapped in local minima as shown in the following figure:\n",
    "<img src=\"images/12_13.png\" style=\"width:500px\">\n",
    "\n",
    "By increasing the learning rate, $\\eta$, we can more readily escape such local minima.  On the other hand, we also increase the chance of overshooting the global optimum if the learning rate is too large."
   ]
  },
  {
   "cell_type": "markdown",
   "metadata": {},
   "source": [
    "## Summary\n",
    "\n",
    "In the remaining chapters, we will introduce TensorFlow, an open source library geared towards deep learning, which allows us to implement and train multilayer neutral networks more efficiently."
   ]
  }
 ],
 "metadata": {
  "kernelspec": {
   "display_name": "Python 3",
   "language": "python",
   "name": "python3"
  },
  "language_info": {
   "codemirror_mode": {
    "name": "ipython",
    "version": 3
   },
   "file_extension": ".py",
   "mimetype": "text/x-python",
   "name": "python",
   "nbconvert_exporter": "python",
   "pygments_lexer": "ipython3",
   "version": "3.6.8"
  }
 },
 "nbformat": 4,
 "nbformat_minor": 2
}
